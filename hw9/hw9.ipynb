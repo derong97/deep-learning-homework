{
 "cells": [
  {
   "cell_type": "markdown",
   "metadata": {
    "id": "through-glossary"
   },
   "source": [
    "# Homework 9 - Descriptive Notebook\n",
    "\n",
    "In this homework notebook, we will create and train our own SkipGram embedding, by using the speech from Martin Luther King in the text.text file.\n",
    "\n",
    "Get familiar with the code and write a small report (2 pages max), with answers to the questions listed at the end of the notebook.\n",
    "\n",
    "**The report must be submitted in PDF format, before April 4th, 11.59pm!**\n",
    "\n",
    "Do not forget to write your name and student ID on the report.\n",
    "\n",
    "You may also submit your own copy of the notebook along with the report. If you do so, please add your name and ID to the cell below."
   ]
  },
  {
   "cell_type": "markdown",
   "metadata": {
    "id": "XYe5F9CLnlY3"
   },
   "source": [
    "**Name: Loh De Rong**\n",
    "\n",
    "**Student ID: 1003557**"
   ]
  },
  {
   "cell_type": "markdown",
   "metadata": {
    "id": "featured-saturn"
   },
   "source": [
    "### Imports needed\n",
    "\n",
    "Note, we strongly advise to use a CUDA/GPU machine for this notebook.\n",
    "\n",
    "Technically, this can be done on CPU only, but it will be very slow!\n",
    "\n",
    "If you decide to use it on CPU, you might also have to change some of the .cuda() methods used on torch tensors and models in this notebook!"
   ]
  },
  {
   "cell_type": "code",
   "execution_count": 1,
   "metadata": {
    "id": "diverse-ivory"
   },
   "outputs": [],
   "source": [
    "import torch\n",
    "from torch.autograd import Variable\n",
    "import torch.nn as nn\n",
    "import torch.optim as optim\n",
    "import torch.nn.functional as F\n",
    "import functools\n",
    "import matplotlib.pyplot as plt\n",
    "CUDA = torch.cuda.is_available()"
   ]
  },
  {
   "cell_type": "markdown",
   "metadata": {
    "id": "informed-tattoo"
   },
   "source": [
    "### Step 1. Produce some data based on a given text for training our SkipGram model    \n",
    "\n",
    "The functions below will be used to produce our dataset for training the SkipGram model."
   ]
  },
  {
   "cell_type": "code",
   "execution_count": 2,
   "metadata": {
    "id": "protected-truth"
   },
   "outputs": [],
   "source": [
    "def text_to_train(text, context_window):\n",
    "    \"\"\"\n",
    "    This function receives the text as a list of words, in lowercase format.\n",
    "    It then returns data, a list of all the possible (x,y) pairs with\n",
    "    - x being the middle word of the sentence of length 2*context_window+1,\n",
    "    - y being a list of 2k words, containing the k preceding words and the k\n",
    "    posterior words.\n",
    "    \"\"\"\n",
    "    \n",
    "    # Get data from list of words in text, using a context window of size k = context_window\n",
    "    data = []\n",
    "    for i in range(context_window, len(text) - context_window):\n",
    "        target = [text[i+e] for e in range(-context_window, context_window+1) if i+e != i]\n",
    "        input_word = text[i]\n",
    "        data.append((input_word, target))\n",
    "        \n",
    "    return data"
   ]
  },
  {
   "cell_type": "code",
   "execution_count": 3,
   "metadata": {
    "id": "sensitive-preserve"
   },
   "outputs": [],
   "source": [
    "def create_text():\n",
    "    \"\"\"\n",
    "    This function loads the string of text from the text.txt file,\n",
    "    and produces a list of words in string format, as variable text.\n",
    "    \"\"\"\n",
    "    \n",
    "    # Load corpus from file\n",
    "    with open(\"./text.txt\", 'r', encoding=\"utf8\",) as f:\n",
    "        corpus = f.readlines()\n",
    "    f.close()\n",
    "    \n",
    "    # Join corpus into a single string\n",
    "    text = \"\"\n",
    "    for s in corpus:\n",
    "        l = s.split()\n",
    "        for s2 in l:\n",
    "            # Removes all special characters from string\n",
    "            s2 = ''.join(filter(str.isalnum, s2))\n",
    "            s2 += ' '\n",
    "            text += s2.lower()\n",
    "    text = text.split()\n",
    "    \n",
    "    return text"
   ]
  },
  {
   "cell_type": "code",
   "execution_count": 4,
   "metadata": {
    "colab": {
     "base_uri": "https://localhost:8080/"
    },
    "id": "identical-heather",
    "outputId": "c2a675fa-b15d-4d6f-de69-e86cfca739a5"
   },
   "outputs": [
    {
     "name": "stdout",
     "output_type": "stream",
     "text": [
      "['i', 'am', 'happy', 'to', 'join', 'with', 'you', 'today', 'in', 'what', 'will', 'go', 'down', 'in', 'history', 'as', 'the', 'greatest', 'demonstration', 'for', 'freedom', 'in', 'the', 'history', 'of', 'our', 'nation', 'five', 'score', 'years', 'ago', 'a', 'great', 'american', 'in', 'whose', 'symbolic', 'shadow', 'we', 'stand', 'today', 'signed', 'the', 'emancipation', 'proclamation', 'this', 'momentous', 'decree', 'came', 'as', 'a', 'great', 'beacon', 'of', 'hope', 'to', 'millions', 'of', 'slaves', 'who', 'had', 'been', 'seared', 'in', 'the', 'flames', 'of', 'whithering', 'injustice', 'it', 'came', 'as', 'a', 'joyous', 'daybreak', 'to', 'end', 'the', 'long', 'night', 'of', 'their', 'captivity', 'but', 'one', 'hundred', 'years', 'later', 'the', 'colored', 'america', 'is', 'still', 'not', 'free', 'one', 'hundred', 'years', 'later', 'the', 'life', 'of', 'the', 'colored', 'american', 'is', 'still', 'sadly', 'crippled', 'by', 'the', 'manacle', 'of', 'segregation', 'and', 'the', 'chains', 'of', 'discrimination', 'one', 'hundred', 'years', 'later', 'the', 'colored', 'american', 'lives', 'on', 'a', 'lonely', 'island', 'of', 'poverty', 'in', 'the', 'midst', 'of', 'a', 'vast', 'ocean', 'of', 'material', 'prosperity', 'one', 'hundred', 'years', 'later', 'the', 'colored', 'american', 'is', 'still', 'languishing', 'in', 'the', 'corners', 'of', 'american', 'society', 'and', 'finds', 'himself', 'an', 'exile', 'in', 'his', 'own', 'land', 'so', 'we', 'have', 'come', 'here', 'today', 'to', 'dramatize', 'a', 'shameful', 'condition', 'in', 'a', 'sense', 'we', 'have', 'come', 'to', 'our', 'nations', 'capital', 'to', 'cash', 'a', 'check', 'when', 'the', 'architects', 'of', 'our', 'great', 'republic', 'wrote', 'the', 'magnificent', 'words', 'of', 'the', 'constitution', 'and', 'the', 'declaration', 'of', 'independence', 'they', 'were', 'signing', 'a', 'promissory', 'note', 'to', 'which', 'every', 'american', 'was', 'to', 'fall', 'heir', 'this', 'note', 'was', 'a', 'promise', 'that', 'all', 'men', 'yes', 'black', 'men', 'as', 'well', 'as', 'white', 'men', 'would', 'be', 'guaranteed', 'the', 'inalienable', 'rights', 'of', 'life', 'liberty', 'and', 'the', 'pursuit', 'of', 'happiness', 'it', 'is', 'obvious', 'today', 'that', 'america', 'has', 'defaulted', 'on', 'this', 'promissory', 'note', 'insofar', 'as', 'her', 'citizens', 'of', 'color', 'are', 'concerned', 'instead', 'of', 'honoring', 'this', 'sacred', 'obligation', 'america', 'has', 'given', 'its', 'colored', 'people', 'a', 'bad', 'check', 'a', 'check', 'that', 'has', 'come', 'back', 'marked', 'insufficient', 'funds', 'but', 'we', 'refuse', 'to', 'believe', 'that', 'the', 'bank', 'of', 'justice', 'is', 'bankrupt', 'we', 'refuse', 'to', 'believe', 'that', 'there', 'are', 'insufficient', 'funds', 'in', 'the', 'great', 'vaults', 'of', 'opportunity', 'of', 'this', 'nation', 'so', 'we', 'have', 'come', 'to', 'cash', 'this', 'check', 'a', 'check', 'that', 'will', 'give', 'us', 'upon', 'demand', 'the', 'riches', 'of', 'freedom', 'and', 'security', 'of', 'justice', 'we', 'have', 'also', 'come', 'to', 'his', 'hallowed', 'spot', 'to', 'remind', 'america', 'of', 'the', 'fierce', 'urgency', 'of', 'now', 'this', 'is', 'not', 'time', 'to', 'engage', 'in', 'the', 'luxury', 'of', 'cooling', 'off', 'or', 'to', 'take', 'the', 'tranquilizing', 'drug', 'of', 'gradualism', 'now', 'is', 'the', 'time', 'to', 'make', 'real', 'the', 'promise', 'of', 'democracy', 'now', 'it', 'the', 'time', 'to', 'rise', 'from', 'the', 'dark', 'and', 'desolate', 'valley', 'of', 'segregation', 'to', 'the', 'sunlit', 'path', 'of', 'racial', 'justice', 'now', 'it', 'the', 'time', 'to', 'lift', 'our', 'nation', 'from', 'the', 'quicksand', 'of', 'racial', 'injustice', 'to', 'the', 'solid', 'rock', 'of', 'brotherhood', 'now', 'is', 'the', 'time', 'to', 'make', 'justice', 'a', 'reality', 'to', 'all', 'of', 'gods', 'children', 'i', 'would', 'be', 'fatal', 'for', 'the', 'nation', 'to', 'overlook', 'the', 'urgency', 'of', 'the', 'moment', 'and', 'to', 'underestimate', 'the', 'determination', 'of', 'its', 'colored', 'citizens', 'this', 'sweltering', 'summer', 'of', 'the', 'colored', 'peoples', 'legitimate', 'discontent', 'will', 'not', 'pass', 'until', 'there', 'is', 'an', 'invigorating', 'autumn', 'of', 'freedom', 'and', 'equality', 'nineteen', 'sixtythree', 'is', 'not', 'an', 'end', 'but', 'a', 'beginning', 'those', 'who', 'hope', 'that', 'the', 'colored', 'americans', 'needed', 'to', 'blow', 'off', 'steam', 'and', 'will', 'now', 'be', 'content', 'will', 'have', 'a', 'rude', 'awakening', 'if', 'the', 'nation', 'returns', 'to', 'business', 'as', 'usual', 'there', 'will', 'be', 'neither', 'rest', 'nor', 'tranquility', 'in', 'america', 'until', 'the', 'colored', 'citizen', 'is', 'granted', 'his', 'citizenship', 'rights', 'the', 'whirlwinds', 'of', 'revolt', 'will', 'continue', 'to', 'shake', 'the', 'foundations', 'of', 'our', 'nation', 'until', 'the', 'bright', 'day', 'of', 'justice', 'emerges', 'we', 'can', 'never', 'be', 'satisfied', 'as', 'long', 'as', 'our', 'bodies', 'heavy', 'with', 'the', 'fatigue', 'of', 'travel', 'cannot', 'gain', 'lodging', 'in', 'the', 'motels', 'of', 'the', 'highways', 'and', 'the', 'hotels', 'of', 'the', 'cities', 'we', 'cannot', 'be', 'satisfied', 'as', 'long', 'as', 'the', 'colored', 'persons', 'basic', 'mobility', 'is', 'from', 'a', 'smaller', 'ghetto', 'to', 'a', 'larger', 'one', 'we', 'can', 'never', 'be', 'satisfied', 'as', 'long', 'as', 'our', 'children', 'are', 'stripped', 'of', 'their', 'selfhood', 'and', 'robbed', 'of', 'their', 'dignity', 'by', 'signs', 'stating', 'for', 'white', 'only', 'we', 'cannot', 'be', 'satisfied', 'as', 'long', 'as', 'a', 'colored', 'person', 'in', 'mississippi', 'cannot', 'vote', 'and', 'a', 'colored', 'person', 'in', 'new', 'york', 'believes', 'he', 'has', 'nothing', 'for', 'which', 'to', 'vote', 'no', 'no', 'we', 'are', 'not', 'satisfied', 'and', 'we', 'will', 'not', 'be', 'satisfied', 'until', 'justice', 'rolls', 'down', 'like', 'waters', 'and', 'righteousness', 'like', 'a', 'mighty', 'stream', 'i', 'am', 'not', 'unmindful', 'that', 'some', 'of', 'you', 'have', 'come', 'here', 'out', 'of', 'your', 'trials', 'and', 'tribulations', 'some', 'of', 'you', 'have', 'come', 'from', 'areas', 'where', 'your', 'quest', 'for', 'freedom', 'left', 'you', 'battered', 'by', 'storms', 'of', 'persecutions', 'and', 'staggered', 'by', 'the', 'winds', 'of', 'police', 'brutality', 'you', 'have', 'been', 'the', 'veterans', 'of', 'creative', 'suffering', 'continue', 'to', 'work', 'with', 'the', 'faith', 'that', 'unearned', 'suffering', 'is', 'redemptive', 'go', 'back', 'to', 'mississippi', 'go', 'back', 'to', 'alabama', 'go', 'back', 'to', 'south', 'carolina', 'go', 'back', 'to', 'georgia', 'go', 'back', 'to', 'louisiana', 'go', 'back', 'to', 'the', 'slums', 'and', 'ghettos', 'of', 'our', 'modern', 'cities', 'knowing', 'that', 'somehow', 'this', 'situation', 'can', 'and', 'will', 'be', 'changed', 'let', 'us', 'not', 'wallow', 'in', 'the', 'valley', 'of', 'despair', 'i', 'say', 'to', 'you', 'my', 'friends', 'we', 'have', 'the', 'difficulties', 'of', 'today', 'and', 'tomorrow', 'i', 'still', 'have', 'a', 'dream', 'it', 'is', 'a', 'dream', 'deeply', 'rooted', 'in', 'the', 'american', 'dream', 'i', 'have', 'a', 'dream', 'that', 'one', 'day', 'this', 'nation', 'will', 'rise', 'up', 'and', 'live', 'out', 'the', 'true', 'meaning', 'of', 'its', 'creed', 'we', 'hold', 'these', 'truths', 'to', 'be', 'selfevident', 'that', 'all', 'men', 'are', 'created', 'equal', 'i', 'have', 'a', 'dream', 'that', 'one', 'day', 'out', 'in', 'the', 'red', 'hills', 'of', 'georgia', 'the', 'sons', 'of', 'former', 'slaves', 'and', 'the', 'sons', 'of', 'former', 'slaveowners', 'will', 'be', 'able', 'to', 'sit', 'down', 'together', 'at', 'the', 'table', 'of', 'brotherhood', 'i', 'have', 'a', 'dream', 'that', 'one', 'day', 'even', 'the', 'state', 'of', 'mississippi', 'a', 'state', 'sweltering', 'with', 'the', 'heat', 'of', 'oppression', 'will', 'be', 'transformed', 'into', 'an', 'oasis', 'of', 'freedom', 'and', 'justice', 'i', 'have', 'a', 'dream', 'that', 'my', 'four', 'little', 'children', 'will', 'one', 'day', 'live', 'in', 'a', 'nation', 'where', 'they', 'will', 'not', 'be', 'judged', 'by', 'the', 'color', 'of', 'their', 'skin', 'but', 'by', 'their', 'character', 'i', 'have', 'a', 'dream', 'today', 'i', 'have', 'a', 'dream', 'that', 'one', 'day', 'down', 'in', 'alabama', 'with', 'its', 'vicious', 'racists', 'with', 'its', 'governor', 'having', 'his', 'lips', 'dripping', 'with', 'the', 'words', 'of', 'interposition', 'and', 'nullification', 'that', 'one', 'day', 'right', 'down', 'in', 'alabama', 'little', 'black', 'boys', 'and', 'black', 'girls', 'will', 'be', 'able', 'to', 'join', 'hands', 'with', 'little', 'white', 'boys', 'and', 'white', 'girls', 'as', 'sisters', 'and', 'brothers', 'i', 'have', 'a', 'dream', 'today', 'i', 'have', 'a', 'dream', 'that', 'one', 'day', 'every', 'valley', 'shall', 'be', 'engulfed', 'every', 'hill', 'shall', 'be', 'exalted', 'and', 'every', 'mountain', 'shall', 'be', 'made', 'low', 'the', 'rough', 'places', 'will', 'be', 'made', 'plains', 'and', 'the', 'crooked', 'places', 'will', 'be', 'made', 'straight', 'and', 'the', 'glory', 'of', 'the', 'lord', 'shall', 'be', 'revealed', 'and', 'all', 'flesh', 'shall', 'see', 'it', 'together', 'this', 'is', 'our', 'hope', 'this', 'is', 'the', 'faith', 'that', 'i', 'will', 'go', 'back', 'to', 'the', 'south', 'with', 'with', 'this', 'faith', 'we', 'will', 'be', 'able', 'to', 'hew', 'out', 'of', 'the', 'mountain', 'of', 'despair', 'a', 'stone', 'of', 'hope', 'with', 'this', 'faith', 'we', 'will', 'be', 'able', 'to', 'transform', 'the', 'jangling', 'discords', 'of', 'our', 'nation', 'into', 'a', 'beautiful', 'symphony', 'of', 'brotherhood', 'with', 'this', 'faith', 'we', 'will', 'be', 'able', 'to', 'work', 'together', 'to', 'pray', 'together', 'to', 'struggle', 'together', 'to', 'go', 'to', 'jail', 'together', 'to', 'climb', 'up', 'for', 'freedom', 'together', 'knowing', 'that', 'we', 'will', 'be', 'free', 'one', 'day', 'this', 'will', 'be', 'the', 'day', 'when', 'all', 'of', 'gods', 'children', 'will', 'be', 'able', 'to', 'sing', 'with', 'new', 'meaning', 'my', 'country', 'tis', 'of', 'thee', 'sweet', 'land', 'of', 'liberty', 'of', 'thee', 'i', 'sing', 'land', 'where', 'my', 'fathers', 'died', 'land', 'of', 'the', 'pilgrims', 'pride', 'from', 'every', 'mountainside', 'let', 'freedom', 'ring', 'and', 'if', 'america', 'is', 'to', 'be', 'a', 'great', 'nation', 'this', 'must', 'become', 'true', 'so', 'let', 'freedom', 'ring', 'from', 'the', 'hilltops', 'of', 'new', 'hampshire', 'let', 'freedom', 'ring', 'from', 'the', 'mighty', 'mountains', 'of', 'new', 'york', 'let', 'freedom', 'ring', 'from', 'the', 'heightening', 'alleghenies', 'of', 'pennsylvania', 'let', 'freedom', 'ring', 'from', 'the', 'snowcapped', 'rockies', 'of', 'colorado', 'let', 'freedom', 'ring', 'from', 'the', 'curvaceous', 'slopes', 'of', 'california', 'but', 'not', 'only', 'that', 'let', 'freedom', 'ring', 'from', 'stone', 'mountain', 'of', 'georgia', 'let', 'freedom', 'ring', 'from', 'every', 'hill', 'and', 'molehill', 'of', 'mississippi', 'and', 'every', 'mountainside', 'when', 'we', 'let', 'freedom', 'ring', 'when', 'we', 'let', 'it', 'ring', 'from', 'every', 'tenement', 'and', 'every', 'hamlet', 'from', 'every', 'state', 'and', 'every', 'city', 'we', 'will', 'be', 'able', 'to', 'speed', 'up', 'that', 'day', 'when', 'all', 'of', 'gods', 'children', 'black', 'men', 'and', 'white', 'men', 'jews', 'and', 'gentiles', 'protestants', 'and', 'catholics', 'will', 'be', 'able', 'to', 'join', 'hands', 'and', 'sing', 'in', 'the', 'words', 'of', 'the', 'old', 'spiritual', 'free', 'at', 'last', 'free', 'at', 'last', 'thank', 'god', 'almighty', 'we', 'are', 'free', 'at', 'last']\n"
     ]
    }
   ],
   "source": [
    "text = create_text()\n",
    "print(text)"
   ]
  },
  {
   "cell_type": "code",
   "execution_count": 5,
   "metadata": {
    "id": "separate-prayer"
   },
   "outputs": [],
   "source": [
    "def generate_data(text, context_window):\n",
    "    \"\"\"\n",
    "    This function receives the text and context window size.\n",
    "    It produces four outputs:\n",
    "    - vocab, a set containing the words found in text.txt,\n",
    "    without any doublons,\n",
    "    - word2index, a dictionary to convert words to their integer index,\n",
    "    - word2index, a dictionary to convert integer index to their respective words,\n",
    "    - data, containing our (x,y) pairs for training.\n",
    "    \"\"\"\n",
    "    \n",
    "    # Create vocabulary set V\n",
    "    vocab = set(text)\n",
    "    \n",
    "    # Word to index and index 2 word converters\n",
    "    word2index = {w:i for i,w in enumerate(vocab)}\n",
    "    index2word = {i:w for i,w in enumerate(vocab)}\n",
    "    \n",
    "    # Generate data\n",
    "    data = text_to_train(text, context_window)\n",
    "    \n",
    "    return vocab, data, word2index, index2word"
   ]
  },
  {
   "cell_type": "code",
   "execution_count": 6,
   "metadata": {
    "id": "indie-summer"
   },
   "outputs": [],
   "source": [
    "vocab, data, word2index, index2word = generate_data(text, context_window = 2)"
   ]
  },
  {
   "cell_type": "code",
   "execution_count": 7,
   "metadata": {
    "colab": {
     "base_uri": "https://localhost:8080/"
    },
    "id": "presidential-sauce",
    "outputId": "879cafd9-20ac-4944-fffd-37252c1deedd"
   },
   "outputs": [
    {
     "name": "stdout",
     "output_type": "stream",
     "text": [
      "{'white', 'time', 'insufficient', 'must', 'created', 'rolls', 'lips', 'midst', 'never', 'hold', 'able', 'solid', 'as', 'oasis', 'riches', 'robbed', 'engage', 'dignity', 'sense', 'citizen', 'selfevident', 'died', 'bank', 'blow', 'own', 'new', 'nor', 'yes', 'this', 'proclamation', 'curvaceous', 'independence', 'we', 'is', 'bankrupt', 'awakening', 'symbolic', 'happiness', 'country', 'snowcapped', 'governor', 'slums', 'heavy', 'for', 'tis', 'come', 'or', 'fatigue', 'alabama', 'pilgrims', 'little', 'having', 'joyous', 'only', 'racists', 'your', 'hampshire', 'signing', 'rough', 'former', 'ago', 'lonely', 'its', 'quest', 'judged', 'millions', 'pass', 'what', 'when', 'reality', 'would', 'history', 'hotels', 'jews', 'left', 'suffering', 'cooling', 'ghetto', 'see', 'climb', 'go', 'finds', 'whirlwinds', 'signs', 'usual', 'manacle', 'storms', 'foundations', 'vaults', 'concerned', 'rooted', 'wrote', 'children', 'straight', 'republic', 'difficulties', 'knowing', 'dripping', 'material', 'sons', 'slaves', 'autumn', 'an', 'mighty', 'skin', 'oppression', 'freedom', 'colored', 'not', 'corners', 'louisiana', 'democracy', 'injustice', 'emerges', 'guaranteed', 'hands', 'even', 'beautiful', 'york', 'score', 'situation', 'will', 'promise', 'us', 'unmindful', 'stone', 'words', 'four', 'of', 'tranquilizing', 'crippled', 'girls', 'given', 'obvious', 'determination', 'brotherhood', 'chains', 'gentiles', 'sweet', 'give', 'came', 'luxury', 'discords', 'selfhood', 'winds', 'here', 'make', 'beacon', 'to', 'sacred', 'gain', 'some', 'shameful', 'creative', 'larger', 'quicksand', 'nothing', 'places', 'slopes', 'i', 'lord', 'mississippi', 'well', 'can', 'ocean', 'revealed', 'moment', 'so', 'peoples', 'right', 'tomorrow', 'later', 'interposition', 'nations', 'despair', 'old', 'sing', 'from', 'racial', 'greatest', 'travel', 'seared', 'obligation', 'meaning', 'low', 'colorado', 'himself', 'if', 'demand', 'funds', 'pride', 'architects', 'fall', 'speed', 'down', 'continue', 'fatal', 'with', 'all', 'on', 'engulfed', 'neither', 'lift', 'every', 'until', 'sixtythree', 'languishing', 'exalted', 'check', 'momentous', 'whose', 'mountain', 'declaration', 'remind', 'unearned', 'pennsylvania', 'poverty', 'molehill', 'protestants', 'believes', 'real', 'also', 'now', 'shake', 'he', 'thee', 'bodies', 'symphony', 'back', 'decree', 'tenement', 'changed', 'captivity', 'legitimate', 'ghettos', 'been', 'sadly', 'spot', 'am', 'heat', 'satisfied', 'years', 'vote', 'sisters', 'stripped', 'america', 'there', 'have', 'stream', 'city', 'red', 'long', 'cash', 'today', 'dark', 'nineteen', 'invigorating', 'content', 'spiritual', 'join', 'off', 'rest', 'lodging', 'those', 'tranquility', 'path', 'persecutions', 'end', 'free', 'security', 'beginning', 'night', 'basic', 'staggered', 'discontent', 'dramatize', 'creed', 'where', 'but', 'struggle', 'fathers', 'bright', 'by', 'wallow', 'become', 'mobility', 'truths', 'battered', 'waters', 'opportunity', 'my', 'people', 'pray', 'areas', 'almighty', 'the', 'signed', 'alleghenies', 'life', 'police', 'flames', 'ring', 'south', 'nullification', 'plains', 'land', 'like', 'happy', 'equality', 'inalienable', 'in', 'drug', 'california', 'men', 'demonstration', 'they', 'last', 'hew', 'let', 'american', 'color', 'underestimate', 'honoring', 'deeply', 'shall', 'hundred', 'rights', 'day', 'redemptive', 'his', 'somehow', 'desolate', 'dream', 'hills', 'you', 'five', 'heir', 'are', 'has', 'shadow', 'rock', 'needed', 'friends', 'rise', 'business', 'georgia', 'and', 'sunlit', 'citizens', 'vicious', 'tribulations', 'righteousness', 'marked', 'state', 'sweltering', 'instead', 'exile', 'refuse', 'hope', 'urgency', 'character', 'heightening', 'nation', 'trials', 'thank', 'prosperity', 'returns', 'carolina', 'bad', 'faith', 'hallowed', 'upon', 'gods', 'modern', 'their', 'these', 'that', 'brutality', 'take', 'citizenship', 'discrimination', 'black', 'slaveowners', 'stating', 'defaulted', 'summer', 'vast', 'together', 'hamlet', 'say', 'americans', 'constitution', 'daybreak', 'smaller', 'justice', 'table', 'persons', 'person', 'which', 'pursuit', 'brothers', 'overlook', 'great', 'liberty', 'had', 'rockies', 'mountainside', 'glory', 'emancipation', 'society', 'steam', 'highways', 'transformed', 'god', 'segregation', 'flesh', 'no', 'work', 'insofar', 'up', 'hill', 'live', 'crooked', 'out', 'cannot', 'be', 'jail', 'motels', 'true', 'a', 'it', 'was', 'mountains', 'who', 'veterans', 'stand', 'note', 'capital', 'valley', 'our', 'granted', 'her', 'revolt', 'still', 'transform', 'fierce', 'jangling', 'catholics', 'gradualism', 'made', 'island', 'sit', 'at', 'promissory', 'were', 'equal', 'boys', 'lives', 'rude', 'into', 'magnificent', 'believe', 'hilltops', 'whithering', 'cities', 'one', 'condition'}\n"
     ]
    }
   ],
   "source": [
    "print(vocab)"
   ]
  },
  {
   "cell_type": "code",
   "execution_count": 8,
   "metadata": {
    "colab": {
     "base_uri": "https://localhost:8080/"
    },
    "id": "statewide-passion",
    "outputId": "f05dc355-a227-4771-d2c9-38340d6ed8bc"
   },
   "outputs": [
    {
     "name": "stdout",
     "output_type": "stream",
     "text": [
      "{'white': 0, 'time': 1, 'insufficient': 2, 'must': 3, 'created': 4, 'rolls': 5, 'lips': 6, 'midst': 7, 'never': 8, 'hold': 9, 'able': 10, 'solid': 11, 'as': 12, 'oasis': 13, 'riches': 14, 'robbed': 15, 'engage': 16, 'dignity': 17, 'sense': 18, 'citizen': 19, 'selfevident': 20, 'died': 21, 'bank': 22, 'blow': 23, 'own': 24, 'new': 25, 'nor': 26, 'yes': 27, 'this': 28, 'proclamation': 29, 'curvaceous': 30, 'independence': 31, 'we': 32, 'is': 33, 'bankrupt': 34, 'awakening': 35, 'symbolic': 36, 'happiness': 37, 'country': 38, 'snowcapped': 39, 'governor': 40, 'slums': 41, 'heavy': 42, 'for': 43, 'tis': 44, 'come': 45, 'or': 46, 'fatigue': 47, 'alabama': 48, 'pilgrims': 49, 'little': 50, 'having': 51, 'joyous': 52, 'only': 53, 'racists': 54, 'your': 55, 'hampshire': 56, 'signing': 57, 'rough': 58, 'former': 59, 'ago': 60, 'lonely': 61, 'its': 62, 'quest': 63, 'judged': 64, 'millions': 65, 'pass': 66, 'what': 67, 'when': 68, 'reality': 69, 'would': 70, 'history': 71, 'hotels': 72, 'jews': 73, 'left': 74, 'suffering': 75, 'cooling': 76, 'ghetto': 77, 'see': 78, 'climb': 79, 'go': 80, 'finds': 81, 'whirlwinds': 82, 'signs': 83, 'usual': 84, 'manacle': 85, 'storms': 86, 'foundations': 87, 'vaults': 88, 'concerned': 89, 'rooted': 90, 'wrote': 91, 'children': 92, 'straight': 93, 'republic': 94, 'difficulties': 95, 'knowing': 96, 'dripping': 97, 'material': 98, 'sons': 99, 'slaves': 100, 'autumn': 101, 'an': 102, 'mighty': 103, 'skin': 104, 'oppression': 105, 'freedom': 106, 'colored': 107, 'not': 108, 'corners': 109, 'louisiana': 110, 'democracy': 111, 'injustice': 112, 'emerges': 113, 'guaranteed': 114, 'hands': 115, 'even': 116, 'beautiful': 117, 'york': 118, 'score': 119, 'situation': 120, 'will': 121, 'promise': 122, 'us': 123, 'unmindful': 124, 'stone': 125, 'words': 126, 'four': 127, 'of': 128, 'tranquilizing': 129, 'crippled': 130, 'girls': 131, 'given': 132, 'obvious': 133, 'determination': 134, 'brotherhood': 135, 'chains': 136, 'gentiles': 137, 'sweet': 138, 'give': 139, 'came': 140, 'luxury': 141, 'discords': 142, 'selfhood': 143, 'winds': 144, 'here': 145, 'make': 146, 'beacon': 147, 'to': 148, 'sacred': 149, 'gain': 150, 'some': 151, 'shameful': 152, 'creative': 153, 'larger': 154, 'quicksand': 155, 'nothing': 156, 'places': 157, 'slopes': 158, 'i': 159, 'lord': 160, 'mississippi': 161, 'well': 162, 'can': 163, 'ocean': 164, 'revealed': 165, 'moment': 166, 'so': 167, 'peoples': 168, 'right': 169, 'tomorrow': 170, 'later': 171, 'interposition': 172, 'nations': 173, 'despair': 174, 'old': 175, 'sing': 176, 'from': 177, 'racial': 178, 'greatest': 179, 'travel': 180, 'seared': 181, 'obligation': 182, 'meaning': 183, 'low': 184, 'colorado': 185, 'himself': 186, 'if': 187, 'demand': 188, 'funds': 189, 'pride': 190, 'architects': 191, 'fall': 192, 'speed': 193, 'down': 194, 'continue': 195, 'fatal': 196, 'with': 197, 'all': 198, 'on': 199, 'engulfed': 200, 'neither': 201, 'lift': 202, 'every': 203, 'until': 204, 'sixtythree': 205, 'languishing': 206, 'exalted': 207, 'check': 208, 'momentous': 209, 'whose': 210, 'mountain': 211, 'declaration': 212, 'remind': 213, 'unearned': 214, 'pennsylvania': 215, 'poverty': 216, 'molehill': 217, 'protestants': 218, 'believes': 219, 'real': 220, 'also': 221, 'now': 222, 'shake': 223, 'he': 224, 'thee': 225, 'bodies': 226, 'symphony': 227, 'back': 228, 'decree': 229, 'tenement': 230, 'changed': 231, 'captivity': 232, 'legitimate': 233, 'ghettos': 234, 'been': 235, 'sadly': 236, 'spot': 237, 'am': 238, 'heat': 239, 'satisfied': 240, 'years': 241, 'vote': 242, 'sisters': 243, 'stripped': 244, 'america': 245, 'there': 246, 'have': 247, 'stream': 248, 'city': 249, 'red': 250, 'long': 251, 'cash': 252, 'today': 253, 'dark': 254, 'nineteen': 255, 'invigorating': 256, 'content': 257, 'spiritual': 258, 'join': 259, 'off': 260, 'rest': 261, 'lodging': 262, 'those': 263, 'tranquility': 264, 'path': 265, 'persecutions': 266, 'end': 267, 'free': 268, 'security': 269, 'beginning': 270, 'night': 271, 'basic': 272, 'staggered': 273, 'discontent': 274, 'dramatize': 275, 'creed': 276, 'where': 277, 'but': 278, 'struggle': 279, 'fathers': 280, 'bright': 281, 'by': 282, 'wallow': 283, 'become': 284, 'mobility': 285, 'truths': 286, 'battered': 287, 'waters': 288, 'opportunity': 289, 'my': 290, 'people': 291, 'pray': 292, 'areas': 293, 'almighty': 294, 'the': 295, 'signed': 296, 'alleghenies': 297, 'life': 298, 'police': 299, 'flames': 300, 'ring': 301, 'south': 302, 'nullification': 303, 'plains': 304, 'land': 305, 'like': 306, 'happy': 307, 'equality': 308, 'inalienable': 309, 'in': 310, 'drug': 311, 'california': 312, 'men': 313, 'demonstration': 314, 'they': 315, 'last': 316, 'hew': 317, 'let': 318, 'american': 319, 'color': 320, 'underestimate': 321, 'honoring': 322, 'deeply': 323, 'shall': 324, 'hundred': 325, 'rights': 326, 'day': 327, 'redemptive': 328, 'his': 329, 'somehow': 330, 'desolate': 331, 'dream': 332, 'hills': 333, 'you': 334, 'five': 335, 'heir': 336, 'are': 337, 'has': 338, 'shadow': 339, 'rock': 340, 'needed': 341, 'friends': 342, 'rise': 343, 'business': 344, 'georgia': 345, 'and': 346, 'sunlit': 347, 'citizens': 348, 'vicious': 349, 'tribulations': 350, 'righteousness': 351, 'marked': 352, 'state': 353, 'sweltering': 354, 'instead': 355, 'exile': 356, 'refuse': 357, 'hope': 358, 'urgency': 359, 'character': 360, 'heightening': 361, 'nation': 362, 'trials': 363, 'thank': 364, 'prosperity': 365, 'returns': 366, 'carolina': 367, 'bad': 368, 'faith': 369, 'hallowed': 370, 'upon': 371, 'gods': 372, 'modern': 373, 'their': 374, 'these': 375, 'that': 376, 'brutality': 377, 'take': 378, 'citizenship': 379, 'discrimination': 380, 'black': 381, 'slaveowners': 382, 'stating': 383, 'defaulted': 384, 'summer': 385, 'vast': 386, 'together': 387, 'hamlet': 388, 'say': 389, 'americans': 390, 'constitution': 391, 'daybreak': 392, 'smaller': 393, 'justice': 394, 'table': 395, 'persons': 396, 'person': 397, 'which': 398, 'pursuit': 399, 'brothers': 400, 'overlook': 401, 'great': 402, 'liberty': 403, 'had': 404, 'rockies': 405, 'mountainside': 406, 'glory': 407, 'emancipation': 408, 'society': 409, 'steam': 410, 'highways': 411, 'transformed': 412, 'god': 413, 'segregation': 414, 'flesh': 415, 'no': 416, 'work': 417, 'insofar': 418, 'up': 419, 'hill': 420, 'live': 421, 'crooked': 422, 'out': 423, 'cannot': 424, 'be': 425, 'jail': 426, 'motels': 427, 'true': 428, 'a': 429, 'it': 430, 'was': 431, 'mountains': 432, 'who': 433, 'veterans': 434, 'stand': 435, 'note': 436, 'capital': 437, 'valley': 438, 'our': 439, 'granted': 440, 'her': 441, 'revolt': 442, 'still': 443, 'transform': 444, 'fierce': 445, 'jangling': 446, 'catholics': 447, 'gradualism': 448, 'made': 449, 'island': 450, 'sit': 451, 'at': 452, 'promissory': 453, 'were': 454, 'equal': 455, 'boys': 456, 'lives': 457, 'rude': 458, 'into': 459, 'magnificent': 460, 'believe': 461, 'hilltops': 462, 'whithering': 463, 'cities': 464, 'one': 465, 'condition': 466}\n"
     ]
    }
   ],
   "source": [
    "print(word2index)"
   ]
  },
  {
   "cell_type": "code",
   "execution_count": 9,
   "metadata": {
    "colab": {
     "base_uri": "https://localhost:8080/"
    },
    "id": "unique-profession",
    "outputId": "2413f292-b652-49a1-88d1-bee9718a7ce0"
   },
   "outputs": [
    {
     "name": "stdout",
     "output_type": "stream",
     "text": [
      "{0: 'white', 1: 'time', 2: 'insufficient', 3: 'must', 4: 'created', 5: 'rolls', 6: 'lips', 7: 'midst', 8: 'never', 9: 'hold', 10: 'able', 11: 'solid', 12: 'as', 13: 'oasis', 14: 'riches', 15: 'robbed', 16: 'engage', 17: 'dignity', 18: 'sense', 19: 'citizen', 20: 'selfevident', 21: 'died', 22: 'bank', 23: 'blow', 24: 'own', 25: 'new', 26: 'nor', 27: 'yes', 28: 'this', 29: 'proclamation', 30: 'curvaceous', 31: 'independence', 32: 'we', 33: 'is', 34: 'bankrupt', 35: 'awakening', 36: 'symbolic', 37: 'happiness', 38: 'country', 39: 'snowcapped', 40: 'governor', 41: 'slums', 42: 'heavy', 43: 'for', 44: 'tis', 45: 'come', 46: 'or', 47: 'fatigue', 48: 'alabama', 49: 'pilgrims', 50: 'little', 51: 'having', 52: 'joyous', 53: 'only', 54: 'racists', 55: 'your', 56: 'hampshire', 57: 'signing', 58: 'rough', 59: 'former', 60: 'ago', 61: 'lonely', 62: 'its', 63: 'quest', 64: 'judged', 65: 'millions', 66: 'pass', 67: 'what', 68: 'when', 69: 'reality', 70: 'would', 71: 'history', 72: 'hotels', 73: 'jews', 74: 'left', 75: 'suffering', 76: 'cooling', 77: 'ghetto', 78: 'see', 79: 'climb', 80: 'go', 81: 'finds', 82: 'whirlwinds', 83: 'signs', 84: 'usual', 85: 'manacle', 86: 'storms', 87: 'foundations', 88: 'vaults', 89: 'concerned', 90: 'rooted', 91: 'wrote', 92: 'children', 93: 'straight', 94: 'republic', 95: 'difficulties', 96: 'knowing', 97: 'dripping', 98: 'material', 99: 'sons', 100: 'slaves', 101: 'autumn', 102: 'an', 103: 'mighty', 104: 'skin', 105: 'oppression', 106: 'freedom', 107: 'colored', 108: 'not', 109: 'corners', 110: 'louisiana', 111: 'democracy', 112: 'injustice', 113: 'emerges', 114: 'guaranteed', 115: 'hands', 116: 'even', 117: 'beautiful', 118: 'york', 119: 'score', 120: 'situation', 121: 'will', 122: 'promise', 123: 'us', 124: 'unmindful', 125: 'stone', 126: 'words', 127: 'four', 128: 'of', 129: 'tranquilizing', 130: 'crippled', 131: 'girls', 132: 'given', 133: 'obvious', 134: 'determination', 135: 'brotherhood', 136: 'chains', 137: 'gentiles', 138: 'sweet', 139: 'give', 140: 'came', 141: 'luxury', 142: 'discords', 143: 'selfhood', 144: 'winds', 145: 'here', 146: 'make', 147: 'beacon', 148: 'to', 149: 'sacred', 150: 'gain', 151: 'some', 152: 'shameful', 153: 'creative', 154: 'larger', 155: 'quicksand', 156: 'nothing', 157: 'places', 158: 'slopes', 159: 'i', 160: 'lord', 161: 'mississippi', 162: 'well', 163: 'can', 164: 'ocean', 165: 'revealed', 166: 'moment', 167: 'so', 168: 'peoples', 169: 'right', 170: 'tomorrow', 171: 'later', 172: 'interposition', 173: 'nations', 174: 'despair', 175: 'old', 176: 'sing', 177: 'from', 178: 'racial', 179: 'greatest', 180: 'travel', 181: 'seared', 182: 'obligation', 183: 'meaning', 184: 'low', 185: 'colorado', 186: 'himself', 187: 'if', 188: 'demand', 189: 'funds', 190: 'pride', 191: 'architects', 192: 'fall', 193: 'speed', 194: 'down', 195: 'continue', 196: 'fatal', 197: 'with', 198: 'all', 199: 'on', 200: 'engulfed', 201: 'neither', 202: 'lift', 203: 'every', 204: 'until', 205: 'sixtythree', 206: 'languishing', 207: 'exalted', 208: 'check', 209: 'momentous', 210: 'whose', 211: 'mountain', 212: 'declaration', 213: 'remind', 214: 'unearned', 215: 'pennsylvania', 216: 'poverty', 217: 'molehill', 218: 'protestants', 219: 'believes', 220: 'real', 221: 'also', 222: 'now', 223: 'shake', 224: 'he', 225: 'thee', 226: 'bodies', 227: 'symphony', 228: 'back', 229: 'decree', 230: 'tenement', 231: 'changed', 232: 'captivity', 233: 'legitimate', 234: 'ghettos', 235: 'been', 236: 'sadly', 237: 'spot', 238: 'am', 239: 'heat', 240: 'satisfied', 241: 'years', 242: 'vote', 243: 'sisters', 244: 'stripped', 245: 'america', 246: 'there', 247: 'have', 248: 'stream', 249: 'city', 250: 'red', 251: 'long', 252: 'cash', 253: 'today', 254: 'dark', 255: 'nineteen', 256: 'invigorating', 257: 'content', 258: 'spiritual', 259: 'join', 260: 'off', 261: 'rest', 262: 'lodging', 263: 'those', 264: 'tranquility', 265: 'path', 266: 'persecutions', 267: 'end', 268: 'free', 269: 'security', 270: 'beginning', 271: 'night', 272: 'basic', 273: 'staggered', 274: 'discontent', 275: 'dramatize', 276: 'creed', 277: 'where', 278: 'but', 279: 'struggle', 280: 'fathers', 281: 'bright', 282: 'by', 283: 'wallow', 284: 'become', 285: 'mobility', 286: 'truths', 287: 'battered', 288: 'waters', 289: 'opportunity', 290: 'my', 291: 'people', 292: 'pray', 293: 'areas', 294: 'almighty', 295: 'the', 296: 'signed', 297: 'alleghenies', 298: 'life', 299: 'police', 300: 'flames', 301: 'ring', 302: 'south', 303: 'nullification', 304: 'plains', 305: 'land', 306: 'like', 307: 'happy', 308: 'equality', 309: 'inalienable', 310: 'in', 311: 'drug', 312: 'california', 313: 'men', 314: 'demonstration', 315: 'they', 316: 'last', 317: 'hew', 318: 'let', 319: 'american', 320: 'color', 321: 'underestimate', 322: 'honoring', 323: 'deeply', 324: 'shall', 325: 'hundred', 326: 'rights', 327: 'day', 328: 'redemptive', 329: 'his', 330: 'somehow', 331: 'desolate', 332: 'dream', 333: 'hills', 334: 'you', 335: 'five', 336: 'heir', 337: 'are', 338: 'has', 339: 'shadow', 340: 'rock', 341: 'needed', 342: 'friends', 343: 'rise', 344: 'business', 345: 'georgia', 346: 'and', 347: 'sunlit', 348: 'citizens', 349: 'vicious', 350: 'tribulations', 351: 'righteousness', 352: 'marked', 353: 'state', 354: 'sweltering', 355: 'instead', 356: 'exile', 357: 'refuse', 358: 'hope', 359: 'urgency', 360: 'character', 361: 'heightening', 362: 'nation', 363: 'trials', 364: 'thank', 365: 'prosperity', 366: 'returns', 367: 'carolina', 368: 'bad', 369: 'faith', 370: 'hallowed', 371: 'upon', 372: 'gods', 373: 'modern', 374: 'their', 375: 'these', 376: 'that', 377: 'brutality', 378: 'take', 379: 'citizenship', 380: 'discrimination', 381: 'black', 382: 'slaveowners', 383: 'stating', 384: 'defaulted', 385: 'summer', 386: 'vast', 387: 'together', 388: 'hamlet', 389: 'say', 390: 'americans', 391: 'constitution', 392: 'daybreak', 393: 'smaller', 394: 'justice', 395: 'table', 396: 'persons', 397: 'person', 398: 'which', 399: 'pursuit', 400: 'brothers', 401: 'overlook', 402: 'great', 403: 'liberty', 404: 'had', 405: 'rockies', 406: 'mountainside', 407: 'glory', 408: 'emancipation', 409: 'society', 410: 'steam', 411: 'highways', 412: 'transformed', 413: 'god', 414: 'segregation', 415: 'flesh', 416: 'no', 417: 'work', 418: 'insofar', 419: 'up', 420: 'hill', 421: 'live', 422: 'crooked', 423: 'out', 424: 'cannot', 425: 'be', 426: 'jail', 427: 'motels', 428: 'true', 429: 'a', 430: 'it', 431: 'was', 432: 'mountains', 433: 'who', 434: 'veterans', 435: 'stand', 436: 'note', 437: 'capital', 438: 'valley', 439: 'our', 440: 'granted', 441: 'her', 442: 'revolt', 443: 'still', 444: 'transform', 445: 'fierce', 446: 'jangling', 447: 'catholics', 448: 'gradualism', 449: 'made', 450: 'island', 451: 'sit', 452: 'at', 453: 'promissory', 454: 'were', 455: 'equal', 456: 'boys', 457: 'lives', 458: 'rude', 459: 'into', 460: 'magnificent', 461: 'believe', 462: 'hilltops', 463: 'whithering', 464: 'cities', 465: 'one', 466: 'condition'}\n"
     ]
    }
   ],
   "source": [
    "print(index2word)"
   ]
  },
  {
   "cell_type": "code",
   "execution_count": 10,
   "metadata": {
    "colab": {
     "base_uri": "https://localhost:8080/"
    },
    "id": "unavailable-banks",
    "outputId": "d90b2bae-8eb0-41c3-faa2-698ecccc41c2"
   },
   "outputs": [
    {
     "name": "stdout",
     "output_type": "stream",
     "text": [
      "[('happy', ['i', 'am', 'to', 'join']), ('to', ['am', 'happy', 'join', 'with']), ('join', ['happy', 'to', 'with', 'you']), ('with', ['to', 'join', 'you', 'today']), ('you', ['join', 'with', 'today', 'in']), ('today', ['with', 'you', 'in', 'what']), ('in', ['you', 'today', 'what', 'will']), ('what', ['today', 'in', 'will', 'go']), ('will', ['in', 'what', 'go', 'down']), ('go', ['what', 'will', 'down', 'in']), ('down', ['will', 'go', 'in', 'history']), ('in', ['go', 'down', 'history', 'as']), ('history', ['down', 'in', 'as', 'the']), ('as', ['in', 'history', 'the', 'greatest']), ('the', ['history', 'as', 'greatest', 'demonstration']), ('greatest', ['as', 'the', 'demonstration', 'for']), ('demonstration', ['the', 'greatest', 'for', 'freedom']), ('for', ['greatest', 'demonstration', 'freedom', 'in']), ('freedom', ['demonstration', 'for', 'in', 'the']), ('in', ['for', 'freedom', 'the', 'history']), ('the', ['freedom', 'in', 'history', 'of']), ('history', ['in', 'the', 'of', 'our']), ('of', ['the', 'history', 'our', 'nation']), ('our', ['history', 'of', 'nation', 'five']), ('nation', ['of', 'our', 'five', 'score']), ('five', ['our', 'nation', 'score', 'years']), ('score', ['nation', 'five', 'years', 'ago']), ('years', ['five', 'score', 'ago', 'a']), ('ago', ['score', 'years', 'a', 'great']), ('a', ['years', 'ago', 'great', 'american']), ('great', ['ago', 'a', 'american', 'in']), ('american', ['a', 'great', 'in', 'whose']), ('in', ['great', 'american', 'whose', 'symbolic']), ('whose', ['american', 'in', 'symbolic', 'shadow']), ('symbolic', ['in', 'whose', 'shadow', 'we']), ('shadow', ['whose', 'symbolic', 'we', 'stand']), ('we', ['symbolic', 'shadow', 'stand', 'today']), ('stand', ['shadow', 'we', 'today', 'signed']), ('today', ['we', 'stand', 'signed', 'the']), ('signed', ['stand', 'today', 'the', 'emancipation']), ('the', ['today', 'signed', 'emancipation', 'proclamation']), ('emancipation', ['signed', 'the', 'proclamation', 'this']), ('proclamation', ['the', 'emancipation', 'this', 'momentous']), ('this', ['emancipation', 'proclamation', 'momentous', 'decree']), ('momentous', ['proclamation', 'this', 'decree', 'came']), ('decree', ['this', 'momentous', 'came', 'as']), ('came', ['momentous', 'decree', 'as', 'a']), ('as', ['decree', 'came', 'a', 'great']), ('a', ['came', 'as', 'great', 'beacon']), ('great', ['as', 'a', 'beacon', 'of']), ('beacon', ['a', 'great', 'of', 'hope']), ('of', ['great', 'beacon', 'hope', 'to']), ('hope', ['beacon', 'of', 'to', 'millions']), ('to', ['of', 'hope', 'millions', 'of']), ('millions', ['hope', 'to', 'of', 'slaves']), ('of', ['to', 'millions', 'slaves', 'who']), ('slaves', ['millions', 'of', 'who', 'had']), ('who', ['of', 'slaves', 'had', 'been']), ('had', ['slaves', 'who', 'been', 'seared']), ('been', ['who', 'had', 'seared', 'in']), ('seared', ['had', 'been', 'in', 'the']), ('in', ['been', 'seared', 'the', 'flames']), ('the', ['seared', 'in', 'flames', 'of']), ('flames', ['in', 'the', 'of', 'whithering']), ('of', ['the', 'flames', 'whithering', 'injustice']), ('whithering', ['flames', 'of', 'injustice', 'it']), ('injustice', ['of', 'whithering', 'it', 'came']), ('it', ['whithering', 'injustice', 'came', 'as']), ('came', ['injustice', 'it', 'as', 'a']), ('as', ['it', 'came', 'a', 'joyous']), ('a', ['came', 'as', 'joyous', 'daybreak']), ('joyous', ['as', 'a', 'daybreak', 'to']), ('daybreak', ['a', 'joyous', 'to', 'end']), ('to', ['joyous', 'daybreak', 'end', 'the']), ('end', ['daybreak', 'to', 'the', 'long']), ('the', ['to', 'end', 'long', 'night']), ('long', ['end', 'the', 'night', 'of']), ('night', ['the', 'long', 'of', 'their']), ('of', ['long', 'night', 'their', 'captivity']), ('their', ['night', 'of', 'captivity', 'but']), ('captivity', ['of', 'their', 'but', 'one']), ('but', ['their', 'captivity', 'one', 'hundred']), ('one', ['captivity', 'but', 'hundred', 'years']), ('hundred', ['but', 'one', 'years', 'later']), ('years', ['one', 'hundred', 'later', 'the']), ('later', ['hundred', 'years', 'the', 'colored']), ('the', ['years', 'later', 'colored', 'america']), ('colored', ['later', 'the', 'america', 'is']), ('america', ['the', 'colored', 'is', 'still']), ('is', ['colored', 'america', 'still', 'not']), ('still', ['america', 'is', 'not', 'free']), ('not', ['is', 'still', 'free', 'one']), ('free', ['still', 'not', 'one', 'hundred']), ('one', ['not', 'free', 'hundred', 'years']), ('hundred', ['free', 'one', 'years', 'later']), ('years', ['one', 'hundred', 'later', 'the']), ('later', ['hundred', 'years', 'the', 'life']), ('the', ['years', 'later', 'life', 'of']), ('life', ['later', 'the', 'of', 'the']), ('of', ['the', 'life', 'the', 'colored']), ('the', ['life', 'of', 'colored', 'american']), ('colored', ['of', 'the', 'american', 'is']), ('american', ['the', 'colored', 'is', 'still']), ('is', ['colored', 'american', 'still', 'sadly']), ('still', ['american', 'is', 'sadly', 'crippled']), ('sadly', ['is', 'still', 'crippled', 'by']), ('crippled', ['still', 'sadly', 'by', 'the']), ('by', ['sadly', 'crippled', 'the', 'manacle']), ('the', ['crippled', 'by', 'manacle', 'of']), ('manacle', ['by', 'the', 'of', 'segregation']), ('of', ['the', 'manacle', 'segregation', 'and']), ('segregation', ['manacle', 'of', 'and', 'the']), ('and', ['of', 'segregation', 'the', 'chains']), ('the', ['segregation', 'and', 'chains', 'of']), ('chains', ['and', 'the', 'of', 'discrimination']), ('of', ['the', 'chains', 'discrimination', 'one']), ('discrimination', ['chains', 'of', 'one', 'hundred']), ('one', ['of', 'discrimination', 'hundred', 'years']), ('hundred', ['discrimination', 'one', 'years', 'later']), ('years', ['one', 'hundred', 'later', 'the']), ('later', ['hundred', 'years', 'the', 'colored']), ('the', ['years', 'later', 'colored', 'american']), ('colored', ['later', 'the', 'american', 'lives']), ('american', ['the', 'colored', 'lives', 'on']), ('lives', ['colored', 'american', 'on', 'a']), ('on', ['american', 'lives', 'a', 'lonely']), ('a', ['lives', 'on', 'lonely', 'island']), ('lonely', ['on', 'a', 'island', 'of']), ('island', ['a', 'lonely', 'of', 'poverty']), ('of', ['lonely', 'island', 'poverty', 'in']), ('poverty', ['island', 'of', 'in', 'the']), ('in', ['of', 'poverty', 'the', 'midst']), ('the', ['poverty', 'in', 'midst', 'of']), ('midst', ['in', 'the', 'of', 'a']), ('of', ['the', 'midst', 'a', 'vast']), ('a', ['midst', 'of', 'vast', 'ocean']), ('vast', ['of', 'a', 'ocean', 'of']), ('ocean', ['a', 'vast', 'of', 'material']), ('of', ['vast', 'ocean', 'material', 'prosperity']), ('material', ['ocean', 'of', 'prosperity', 'one']), ('prosperity', ['of', 'material', 'one', 'hundred']), ('one', ['material', 'prosperity', 'hundred', 'years']), ('hundred', ['prosperity', 'one', 'years', 'later']), ('years', ['one', 'hundred', 'later', 'the']), ('later', ['hundred', 'years', 'the', 'colored']), ('the', ['years', 'later', 'colored', 'american']), ('colored', ['later', 'the', 'american', 'is']), ('american', ['the', 'colored', 'is', 'still']), ('is', ['colored', 'american', 'still', 'languishing']), ('still', ['american', 'is', 'languishing', 'in']), ('languishing', ['is', 'still', 'in', 'the']), ('in', ['still', 'languishing', 'the', 'corners']), ('the', ['languishing', 'in', 'corners', 'of']), ('corners', ['in', 'the', 'of', 'american']), ('of', ['the', 'corners', 'american', 'society']), ('american', ['corners', 'of', 'society', 'and']), ('society', ['of', 'american', 'and', 'finds']), ('and', ['american', 'society', 'finds', 'himself']), ('finds', ['society', 'and', 'himself', 'an']), ('himself', ['and', 'finds', 'an', 'exile']), ('an', ['finds', 'himself', 'exile', 'in']), ('exile', ['himself', 'an', 'in', 'his']), ('in', ['an', 'exile', 'his', 'own']), ('his', ['exile', 'in', 'own', 'land']), ('own', ['in', 'his', 'land', 'so']), ('land', ['his', 'own', 'so', 'we']), ('so', ['own', 'land', 'we', 'have']), ('we', ['land', 'so', 'have', 'come']), ('have', ['so', 'we', 'come', 'here']), ('come', ['we', 'have', 'here', 'today']), ('here', ['have', 'come', 'today', 'to']), ('today', ['come', 'here', 'to', 'dramatize']), ('to', ['here', 'today', 'dramatize', 'a']), ('dramatize', ['today', 'to', 'a', 'shameful']), ('a', ['to', 'dramatize', 'shameful', 'condition']), ('shameful', ['dramatize', 'a', 'condition', 'in']), ('condition', ['a', 'shameful', 'in', 'a']), ('in', ['shameful', 'condition', 'a', 'sense']), ('a', ['condition', 'in', 'sense', 'we']), ('sense', ['in', 'a', 'we', 'have']), ('we', ['a', 'sense', 'have', 'come']), ('have', ['sense', 'we', 'come', 'to']), ('come', ['we', 'have', 'to', 'our']), ('to', ['have', 'come', 'our', 'nations']), ('our', ['come', 'to', 'nations', 'capital']), ('nations', ['to', 'our', 'capital', 'to']), ('capital', ['our', 'nations', 'to', 'cash']), ('to', ['nations', 'capital', 'cash', 'a']), ('cash', ['capital', 'to', 'a', 'check']), ('a', ['to', 'cash', 'check', 'when']), ('check', ['cash', 'a', 'when', 'the']), ('when', ['a', 'check', 'the', 'architects']), ('the', ['check', 'when', 'architects', 'of']), ('architects', ['when', 'the', 'of', 'our']), ('of', ['the', 'architects', 'our', 'great']), ('our', ['architects', 'of', 'great', 'republic']), ('great', ['of', 'our', 'republic', 'wrote']), ('republic', ['our', 'great', 'wrote', 'the']), ('wrote', ['great', 'republic', 'the', 'magnificent']), ('the', ['republic', 'wrote', 'magnificent', 'words']), ('magnificent', ['wrote', 'the', 'words', 'of']), ('words', ['the', 'magnificent', 'of', 'the']), ('of', ['magnificent', 'words', 'the', 'constitution']), ('the', ['words', 'of', 'constitution', 'and']), ('constitution', ['of', 'the', 'and', 'the']), ('and', ['the', 'constitution', 'the', 'declaration']), ('the', ['constitution', 'and', 'declaration', 'of']), ('declaration', ['and', 'the', 'of', 'independence']), ('of', ['the', 'declaration', 'independence', 'they']), ('independence', ['declaration', 'of', 'they', 'were']), ('they', ['of', 'independence', 'were', 'signing']), ('were', ['independence', 'they', 'signing', 'a']), ('signing', ['they', 'were', 'a', 'promissory']), ('a', ['were', 'signing', 'promissory', 'note']), ('promissory', ['signing', 'a', 'note', 'to']), ('note', ['a', 'promissory', 'to', 'which']), ('to', ['promissory', 'note', 'which', 'every']), ('which', ['note', 'to', 'every', 'american']), ('every', ['to', 'which', 'american', 'was']), ('american', ['which', 'every', 'was', 'to']), ('was', ['every', 'american', 'to', 'fall']), ('to', ['american', 'was', 'fall', 'heir']), ('fall', ['was', 'to', 'heir', 'this']), ('heir', ['to', 'fall', 'this', 'note']), ('this', ['fall', 'heir', 'note', 'was']), ('note', ['heir', 'this', 'was', 'a']), ('was', ['this', 'note', 'a', 'promise']), ('a', ['note', 'was', 'promise', 'that']), ('promise', ['was', 'a', 'that', 'all']), ('that', ['a', 'promise', 'all', 'men']), ('all', ['promise', 'that', 'men', 'yes']), ('men', ['that', 'all', 'yes', 'black']), ('yes', ['all', 'men', 'black', 'men']), ('black', ['men', 'yes', 'men', 'as']), ('men', ['yes', 'black', 'as', 'well']), ('as', ['black', 'men', 'well', 'as']), ('well', ['men', 'as', 'as', 'white']), ('as', ['as', 'well', 'white', 'men']), ('white', ['well', 'as', 'men', 'would']), ('men', ['as', 'white', 'would', 'be']), ('would', ['white', 'men', 'be', 'guaranteed']), ('be', ['men', 'would', 'guaranteed', 'the']), ('guaranteed', ['would', 'be', 'the', 'inalienable']), ('the', ['be', 'guaranteed', 'inalienable', 'rights']), ('inalienable', ['guaranteed', 'the', 'rights', 'of']), ('rights', ['the', 'inalienable', 'of', 'life']), ('of', ['inalienable', 'rights', 'life', 'liberty']), ('life', ['rights', 'of', 'liberty', 'and']), ('liberty', ['of', 'life', 'and', 'the']), ('and', ['life', 'liberty', 'the', 'pursuit']), ('the', ['liberty', 'and', 'pursuit', 'of']), ('pursuit', ['and', 'the', 'of', 'happiness']), ('of', ['the', 'pursuit', 'happiness', 'it']), ('happiness', ['pursuit', 'of', 'it', 'is']), ('it', ['of', 'happiness', 'is', 'obvious']), ('is', ['happiness', 'it', 'obvious', 'today']), ('obvious', ['it', 'is', 'today', 'that']), ('today', ['is', 'obvious', 'that', 'america']), ('that', ['obvious', 'today', 'america', 'has']), ('america', ['today', 'that', 'has', 'defaulted']), ('has', ['that', 'america', 'defaulted', 'on']), ('defaulted', ['america', 'has', 'on', 'this']), ('on', ['has', 'defaulted', 'this', 'promissory']), ('this', ['defaulted', 'on', 'promissory', 'note']), ('promissory', ['on', 'this', 'note', 'insofar']), ('note', ['this', 'promissory', 'insofar', 'as']), ('insofar', ['promissory', 'note', 'as', 'her']), ('as', ['note', 'insofar', 'her', 'citizens']), ('her', ['insofar', 'as', 'citizens', 'of']), ('citizens', ['as', 'her', 'of', 'color']), ('of', ['her', 'citizens', 'color', 'are']), ('color', ['citizens', 'of', 'are', 'concerned']), ('are', ['of', 'color', 'concerned', 'instead']), ('concerned', ['color', 'are', 'instead', 'of']), ('instead', ['are', 'concerned', 'of', 'honoring']), ('of', ['concerned', 'instead', 'honoring', 'this']), ('honoring', ['instead', 'of', 'this', 'sacred']), ('this', ['of', 'honoring', 'sacred', 'obligation']), ('sacred', ['honoring', 'this', 'obligation', 'america']), ('obligation', ['this', 'sacred', 'america', 'has']), ('america', ['sacred', 'obligation', 'has', 'given']), ('has', ['obligation', 'america', 'given', 'its']), ('given', ['america', 'has', 'its', 'colored']), ('its', ['has', 'given', 'colored', 'people']), ('colored', ['given', 'its', 'people', 'a']), ('people', ['its', 'colored', 'a', 'bad']), ('a', ['colored', 'people', 'bad', 'check']), ('bad', ['people', 'a', 'check', 'a']), ('check', ['a', 'bad', 'a', 'check']), ('a', ['bad', 'check', 'check', 'that']), ('check', ['check', 'a', 'that', 'has']), ('that', ['a', 'check', 'has', 'come']), ('has', ['check', 'that', 'come', 'back']), ('come', ['that', 'has', 'back', 'marked']), ('back', ['has', 'come', 'marked', 'insufficient']), ('marked', ['come', 'back', 'insufficient', 'funds']), ('insufficient', ['back', 'marked', 'funds', 'but']), ('funds', ['marked', 'insufficient', 'but', 'we']), ('but', ['insufficient', 'funds', 'we', 'refuse']), ('we', ['funds', 'but', 'refuse', 'to']), ('refuse', ['but', 'we', 'to', 'believe']), ('to', ['we', 'refuse', 'believe', 'that']), ('believe', ['refuse', 'to', 'that', 'the']), ('that', ['to', 'believe', 'the', 'bank']), ('the', ['believe', 'that', 'bank', 'of']), ('bank', ['that', 'the', 'of', 'justice']), ('of', ['the', 'bank', 'justice', 'is']), ('justice', ['bank', 'of', 'is', 'bankrupt']), ('is', ['of', 'justice', 'bankrupt', 'we']), ('bankrupt', ['justice', 'is', 'we', 'refuse']), ('we', ['is', 'bankrupt', 'refuse', 'to']), ('refuse', ['bankrupt', 'we', 'to', 'believe']), ('to', ['we', 'refuse', 'believe', 'that']), ('believe', ['refuse', 'to', 'that', 'there']), ('that', ['to', 'believe', 'there', 'are']), ('there', ['believe', 'that', 'are', 'insufficient']), ('are', ['that', 'there', 'insufficient', 'funds']), ('insufficient', ['there', 'are', 'funds', 'in']), ('funds', ['are', 'insufficient', 'in', 'the']), ('in', ['insufficient', 'funds', 'the', 'great']), ('the', ['funds', 'in', 'great', 'vaults']), ('great', ['in', 'the', 'vaults', 'of']), ('vaults', ['the', 'great', 'of', 'opportunity']), ('of', ['great', 'vaults', 'opportunity', 'of']), ('opportunity', ['vaults', 'of', 'of', 'this']), ('of', ['of', 'opportunity', 'this', 'nation']), ('this', ['opportunity', 'of', 'nation', 'so']), ('nation', ['of', 'this', 'so', 'we']), ('so', ['this', 'nation', 'we', 'have']), ('we', ['nation', 'so', 'have', 'come']), ('have', ['so', 'we', 'come', 'to']), ('come', ['we', 'have', 'to', 'cash']), ('to', ['have', 'come', 'cash', 'this']), ('cash', ['come', 'to', 'this', 'check']), ('this', ['to', 'cash', 'check', 'a']), ('check', ['cash', 'this', 'a', 'check']), ('a', ['this', 'check', 'check', 'that']), ('check', ['check', 'a', 'that', 'will']), ('that', ['a', 'check', 'will', 'give']), ('will', ['check', 'that', 'give', 'us']), ('give', ['that', 'will', 'us', 'upon']), ('us', ['will', 'give', 'upon', 'demand']), ('upon', ['give', 'us', 'demand', 'the']), ('demand', ['us', 'upon', 'the', 'riches']), ('the', ['upon', 'demand', 'riches', 'of']), ('riches', ['demand', 'the', 'of', 'freedom']), ('of', ['the', 'riches', 'freedom', 'and']), ('freedom', ['riches', 'of', 'and', 'security']), ('and', ['of', 'freedom', 'security', 'of']), ('security', ['freedom', 'and', 'of', 'justice']), ('of', ['and', 'security', 'justice', 'we']), ('justice', ['security', 'of', 'we', 'have']), ('we', ['of', 'justice', 'have', 'also']), ('have', ['justice', 'we', 'also', 'come']), ('also', ['we', 'have', 'come', 'to']), ('come', ['have', 'also', 'to', 'his']), ('to', ['also', 'come', 'his', 'hallowed']), ('his', ['come', 'to', 'hallowed', 'spot']), ('hallowed', ['to', 'his', 'spot', 'to']), ('spot', ['his', 'hallowed', 'to', 'remind']), ('to', ['hallowed', 'spot', 'remind', 'america']), ('remind', ['spot', 'to', 'america', 'of']), ('america', ['to', 'remind', 'of', 'the']), ('of', ['remind', 'america', 'the', 'fierce']), ('the', ['america', 'of', 'fierce', 'urgency']), ('fierce', ['of', 'the', 'urgency', 'of']), ('urgency', ['the', 'fierce', 'of', 'now']), ('of', ['fierce', 'urgency', 'now', 'this']), ('now', ['urgency', 'of', 'this', 'is']), ('this', ['of', 'now', 'is', 'not']), ('is', ['now', 'this', 'not', 'time']), ('not', ['this', 'is', 'time', 'to']), ('time', ['is', 'not', 'to', 'engage']), ('to', ['not', 'time', 'engage', 'in']), ('engage', ['time', 'to', 'in', 'the']), ('in', ['to', 'engage', 'the', 'luxury']), ('the', ['engage', 'in', 'luxury', 'of']), ('luxury', ['in', 'the', 'of', 'cooling']), ('of', ['the', 'luxury', 'cooling', 'off']), ('cooling', ['luxury', 'of', 'off', 'or']), ('off', ['of', 'cooling', 'or', 'to']), ('or', ['cooling', 'off', 'to', 'take']), ('to', ['off', 'or', 'take', 'the']), ('take', ['or', 'to', 'the', 'tranquilizing']), ('the', ['to', 'take', 'tranquilizing', 'drug']), ('tranquilizing', ['take', 'the', 'drug', 'of']), ('drug', ['the', 'tranquilizing', 'of', 'gradualism']), ('of', ['tranquilizing', 'drug', 'gradualism', 'now']), ('gradualism', ['drug', 'of', 'now', 'is']), ('now', ['of', 'gradualism', 'is', 'the']), ('is', ['gradualism', 'now', 'the', 'time']), ('the', ['now', 'is', 'time', 'to']), ('time', ['is', 'the', 'to', 'make']), ('to', ['the', 'time', 'make', 'real']), ('make', ['time', 'to', 'real', 'the']), ('real', ['to', 'make', 'the', 'promise']), ('the', ['make', 'real', 'promise', 'of']), ('promise', ['real', 'the', 'of', 'democracy']), ('of', ['the', 'promise', 'democracy', 'now']), ('democracy', ['promise', 'of', 'now', 'it']), ('now', ['of', 'democracy', 'it', 'the']), ('it', ['democracy', 'now', 'the', 'time']), ('the', ['now', 'it', 'time', 'to']), ('time', ['it', 'the', 'to', 'rise']), ('to', ['the', 'time', 'rise', 'from']), ('rise', ['time', 'to', 'from', 'the']), ('from', ['to', 'rise', 'the', 'dark']), ('the', ['rise', 'from', 'dark', 'and']), ('dark', ['from', 'the', 'and', 'desolate']), ('and', ['the', 'dark', 'desolate', 'valley']), ('desolate', ['dark', 'and', 'valley', 'of']), ('valley', ['and', 'desolate', 'of', 'segregation']), ('of', ['desolate', 'valley', 'segregation', 'to']), ('segregation', ['valley', 'of', 'to', 'the']), ('to', ['of', 'segregation', 'the', 'sunlit']), ('the', ['segregation', 'to', 'sunlit', 'path']), ('sunlit', ['to', 'the', 'path', 'of']), ('path', ['the', 'sunlit', 'of', 'racial']), ('of', ['sunlit', 'path', 'racial', 'justice']), ('racial', ['path', 'of', 'justice', 'now']), ('justice', ['of', 'racial', 'now', 'it']), ('now', ['racial', 'justice', 'it', 'the']), ('it', ['justice', 'now', 'the', 'time']), ('the', ['now', 'it', 'time', 'to']), ('time', ['it', 'the', 'to', 'lift']), ('to', ['the', 'time', 'lift', 'our']), ('lift', ['time', 'to', 'our', 'nation']), ('our', ['to', 'lift', 'nation', 'from']), ('nation', ['lift', 'our', 'from', 'the']), ('from', ['our', 'nation', 'the', 'quicksand']), ('the', ['nation', 'from', 'quicksand', 'of']), ('quicksand', ['from', 'the', 'of', 'racial']), ('of', ['the', 'quicksand', 'racial', 'injustice']), ('racial', ['quicksand', 'of', 'injustice', 'to']), ('injustice', ['of', 'racial', 'to', 'the']), ('to', ['racial', 'injustice', 'the', 'solid']), ('the', ['injustice', 'to', 'solid', 'rock']), ('solid', ['to', 'the', 'rock', 'of']), ('rock', ['the', 'solid', 'of', 'brotherhood']), ('of', ['solid', 'rock', 'brotherhood', 'now']), ('brotherhood', ['rock', 'of', 'now', 'is']), ('now', ['of', 'brotherhood', 'is', 'the']), ('is', ['brotherhood', 'now', 'the', 'time']), ('the', ['now', 'is', 'time', 'to']), ('time', ['is', 'the', 'to', 'make']), ('to', ['the', 'time', 'make', 'justice']), ('make', ['time', 'to', 'justice', 'a']), ('justice', ['to', 'make', 'a', 'reality']), ('a', ['make', 'justice', 'reality', 'to']), ('reality', ['justice', 'a', 'to', 'all']), ('to', ['a', 'reality', 'all', 'of']), ('all', ['reality', 'to', 'of', 'gods']), ('of', ['to', 'all', 'gods', 'children']), ('gods', ['all', 'of', 'children', 'i']), ('children', ['of', 'gods', 'i', 'would']), ('i', ['gods', 'children', 'would', 'be']), ('would', ['children', 'i', 'be', 'fatal']), ('be', ['i', 'would', 'fatal', 'for']), ('fatal', ['would', 'be', 'for', 'the']), ('for', ['be', 'fatal', 'the', 'nation']), ('the', ['fatal', 'for', 'nation', 'to']), ('nation', ['for', 'the', 'to', 'overlook']), ('to', ['the', 'nation', 'overlook', 'the']), ('overlook', ['nation', 'to', 'the', 'urgency']), ('the', ['to', 'overlook', 'urgency', 'of']), ('urgency', ['overlook', 'the', 'of', 'the']), ('of', ['the', 'urgency', 'the', 'moment']), ('the', ['urgency', 'of', 'moment', 'and']), ('moment', ['of', 'the', 'and', 'to']), ('and', ['the', 'moment', 'to', 'underestimate']), ('to', ['moment', 'and', 'underestimate', 'the']), ('underestimate', ['and', 'to', 'the', 'determination']), ('the', ['to', 'underestimate', 'determination', 'of']), ('determination', ['underestimate', 'the', 'of', 'its']), ('of', ['the', 'determination', 'its', 'colored']), ('its', ['determination', 'of', 'colored', 'citizens']), ('colored', ['of', 'its', 'citizens', 'this']), ('citizens', ['its', 'colored', 'this', 'sweltering']), ('this', ['colored', 'citizens', 'sweltering', 'summer']), ('sweltering', ['citizens', 'this', 'summer', 'of']), ('summer', ['this', 'sweltering', 'of', 'the']), ('of', ['sweltering', 'summer', 'the', 'colored']), ('the', ['summer', 'of', 'colored', 'peoples']), ('colored', ['of', 'the', 'peoples', 'legitimate']), ('peoples', ['the', 'colored', 'legitimate', 'discontent']), ('legitimate', ['colored', 'peoples', 'discontent', 'will']), ('discontent', ['peoples', 'legitimate', 'will', 'not']), ('will', ['legitimate', 'discontent', 'not', 'pass']), ('not', ['discontent', 'will', 'pass', 'until']), ('pass', ['will', 'not', 'until', 'there']), ('until', ['not', 'pass', 'there', 'is']), ('there', ['pass', 'until', 'is', 'an']), ('is', ['until', 'there', 'an', 'invigorating']), ('an', ['there', 'is', 'invigorating', 'autumn']), ('invigorating', ['is', 'an', 'autumn', 'of']), ('autumn', ['an', 'invigorating', 'of', 'freedom']), ('of', ['invigorating', 'autumn', 'freedom', 'and']), ('freedom', ['autumn', 'of', 'and', 'equality']), ('and', ['of', 'freedom', 'equality', 'nineteen']), ('equality', ['freedom', 'and', 'nineteen', 'sixtythree']), ('nineteen', ['and', 'equality', 'sixtythree', 'is']), ('sixtythree', ['equality', 'nineteen', 'is', 'not']), ('is', ['nineteen', 'sixtythree', 'not', 'an']), ('not', ['sixtythree', 'is', 'an', 'end']), ('an', ['is', 'not', 'end', 'but']), ('end', ['not', 'an', 'but', 'a']), ('but', ['an', 'end', 'a', 'beginning']), ('a', ['end', 'but', 'beginning', 'those']), ('beginning', ['but', 'a', 'those', 'who']), ('those', ['a', 'beginning', 'who', 'hope']), ('who', ['beginning', 'those', 'hope', 'that']), ('hope', ['those', 'who', 'that', 'the']), ('that', ['who', 'hope', 'the', 'colored']), ('the', ['hope', 'that', 'colored', 'americans']), ('colored', ['that', 'the', 'americans', 'needed']), ('americans', ['the', 'colored', 'needed', 'to']), ('needed', ['colored', 'americans', 'to', 'blow']), ('to', ['americans', 'needed', 'blow', 'off']), ('blow', ['needed', 'to', 'off', 'steam']), ('off', ['to', 'blow', 'steam', 'and']), ('steam', ['blow', 'off', 'and', 'will']), ('and', ['off', 'steam', 'will', 'now']), ('will', ['steam', 'and', 'now', 'be']), ('now', ['and', 'will', 'be', 'content']), ('be', ['will', 'now', 'content', 'will']), ('content', ['now', 'be', 'will', 'have']), ('will', ['be', 'content', 'have', 'a']), ('have', ['content', 'will', 'a', 'rude']), ('a', ['will', 'have', 'rude', 'awakening']), ('rude', ['have', 'a', 'awakening', 'if']), ('awakening', ['a', 'rude', 'if', 'the']), ('if', ['rude', 'awakening', 'the', 'nation']), ('the', ['awakening', 'if', 'nation', 'returns']), ('nation', ['if', 'the', 'returns', 'to']), ('returns', ['the', 'nation', 'to', 'business']), ('to', ['nation', 'returns', 'business', 'as']), ('business', ['returns', 'to', 'as', 'usual']), ('as', ['to', 'business', 'usual', 'there']), ('usual', ['business', 'as', 'there', 'will']), ('there', ['as', 'usual', 'will', 'be']), ('will', ['usual', 'there', 'be', 'neither']), ('be', ['there', 'will', 'neither', 'rest']), ('neither', ['will', 'be', 'rest', 'nor']), ('rest', ['be', 'neither', 'nor', 'tranquility']), ('nor', ['neither', 'rest', 'tranquility', 'in']), ('tranquility', ['rest', 'nor', 'in', 'america']), ('in', ['nor', 'tranquility', 'america', 'until']), ('america', ['tranquility', 'in', 'until', 'the']), ('until', ['in', 'america', 'the', 'colored']), ('the', ['america', 'until', 'colored', 'citizen']), ('colored', ['until', 'the', 'citizen', 'is']), ('citizen', ['the', 'colored', 'is', 'granted']), ('is', ['colored', 'citizen', 'granted', 'his']), ('granted', ['citizen', 'is', 'his', 'citizenship']), ('his', ['is', 'granted', 'citizenship', 'rights']), ('citizenship', ['granted', 'his', 'rights', 'the']), ('rights', ['his', 'citizenship', 'the', 'whirlwinds']), ('the', ['citizenship', 'rights', 'whirlwinds', 'of']), ('whirlwinds', ['rights', 'the', 'of', 'revolt']), ('of', ['the', 'whirlwinds', 'revolt', 'will']), ('revolt', ['whirlwinds', 'of', 'will', 'continue']), ('will', ['of', 'revolt', 'continue', 'to']), ('continue', ['revolt', 'will', 'to', 'shake']), ('to', ['will', 'continue', 'shake', 'the']), ('shake', ['continue', 'to', 'the', 'foundations']), ('the', ['to', 'shake', 'foundations', 'of']), ('foundations', ['shake', 'the', 'of', 'our']), ('of', ['the', 'foundations', 'our', 'nation']), ('our', ['foundations', 'of', 'nation', 'until']), ('nation', ['of', 'our', 'until', 'the']), ('until', ['our', 'nation', 'the', 'bright']), ('the', ['nation', 'until', 'bright', 'day']), ('bright', ['until', 'the', 'day', 'of']), ('day', ['the', 'bright', 'of', 'justice']), ('of', ['bright', 'day', 'justice', 'emerges']), ('justice', ['day', 'of', 'emerges', 'we']), ('emerges', ['of', 'justice', 'we', 'can']), ('we', ['justice', 'emerges', 'can', 'never']), ('can', ['emerges', 'we', 'never', 'be']), ('never', ['we', 'can', 'be', 'satisfied']), ('be', ['can', 'never', 'satisfied', 'as']), ('satisfied', ['never', 'be', 'as', 'long']), ('as', ['be', 'satisfied', 'long', 'as']), ('long', ['satisfied', 'as', 'as', 'our']), ('as', ['as', 'long', 'our', 'bodies']), ('our', ['long', 'as', 'bodies', 'heavy']), ('bodies', ['as', 'our', 'heavy', 'with']), ('heavy', ['our', 'bodies', 'with', 'the']), ('with', ['bodies', 'heavy', 'the', 'fatigue']), ('the', ['heavy', 'with', 'fatigue', 'of']), ('fatigue', ['with', 'the', 'of', 'travel']), ('of', ['the', 'fatigue', 'travel', 'cannot']), ('travel', ['fatigue', 'of', 'cannot', 'gain']), ('cannot', ['of', 'travel', 'gain', 'lodging']), ('gain', ['travel', 'cannot', 'lodging', 'in']), ('lodging', ['cannot', 'gain', 'in', 'the']), ('in', ['gain', 'lodging', 'the', 'motels']), ('the', ['lodging', 'in', 'motels', 'of']), ('motels', ['in', 'the', 'of', 'the']), ('of', ['the', 'motels', 'the', 'highways']), ('the', ['motels', 'of', 'highways', 'and']), ('highways', ['of', 'the', 'and', 'the']), ('and', ['the', 'highways', 'the', 'hotels']), ('the', ['highways', 'and', 'hotels', 'of']), ('hotels', ['and', 'the', 'of', 'the']), ('of', ['the', 'hotels', 'the', 'cities']), ('the', ['hotels', 'of', 'cities', 'we']), ('cities', ['of', 'the', 'we', 'cannot']), ('we', ['the', 'cities', 'cannot', 'be']), ('cannot', ['cities', 'we', 'be', 'satisfied']), ('be', ['we', 'cannot', 'satisfied', 'as']), ('satisfied', ['cannot', 'be', 'as', 'long']), ('as', ['be', 'satisfied', 'long', 'as']), ('long', ['satisfied', 'as', 'as', 'the']), ('as', ['as', 'long', 'the', 'colored']), ('the', ['long', 'as', 'colored', 'persons']), ('colored', ['as', 'the', 'persons', 'basic']), ('persons', ['the', 'colored', 'basic', 'mobility']), ('basic', ['colored', 'persons', 'mobility', 'is']), ('mobility', ['persons', 'basic', 'is', 'from']), ('is', ['basic', 'mobility', 'from', 'a']), ('from', ['mobility', 'is', 'a', 'smaller']), ('a', ['is', 'from', 'smaller', 'ghetto']), ('smaller', ['from', 'a', 'ghetto', 'to']), ('ghetto', ['a', 'smaller', 'to', 'a']), ('to', ['smaller', 'ghetto', 'a', 'larger']), ('a', ['ghetto', 'to', 'larger', 'one']), ('larger', ['to', 'a', 'one', 'we']), ('one', ['a', 'larger', 'we', 'can']), ('we', ['larger', 'one', 'can', 'never']), ('can', ['one', 'we', 'never', 'be']), ('never', ['we', 'can', 'be', 'satisfied']), ('be', ['can', 'never', 'satisfied', 'as']), ('satisfied', ['never', 'be', 'as', 'long']), ('as', ['be', 'satisfied', 'long', 'as']), ('long', ['satisfied', 'as', 'as', 'our']), ('as', ['as', 'long', 'our', 'children']), ('our', ['long', 'as', 'children', 'are']), ('children', ['as', 'our', 'are', 'stripped']), ('are', ['our', 'children', 'stripped', 'of']), ('stripped', ['children', 'are', 'of', 'their']), ('of', ['are', 'stripped', 'their', 'selfhood']), ('their', ['stripped', 'of', 'selfhood', 'and']), ('selfhood', ['of', 'their', 'and', 'robbed']), ('and', ['their', 'selfhood', 'robbed', 'of']), ('robbed', ['selfhood', 'and', 'of', 'their']), ('of', ['and', 'robbed', 'their', 'dignity']), ('their', ['robbed', 'of', 'dignity', 'by']), ('dignity', ['of', 'their', 'by', 'signs']), ('by', ['their', 'dignity', 'signs', 'stating']), ('signs', ['dignity', 'by', 'stating', 'for']), ('stating', ['by', 'signs', 'for', 'white']), ('for', ['signs', 'stating', 'white', 'only']), ('white', ['stating', 'for', 'only', 'we']), ('only', ['for', 'white', 'we', 'cannot']), ('we', ['white', 'only', 'cannot', 'be']), ('cannot', ['only', 'we', 'be', 'satisfied']), ('be', ['we', 'cannot', 'satisfied', 'as']), ('satisfied', ['cannot', 'be', 'as', 'long']), ('as', ['be', 'satisfied', 'long', 'as']), ('long', ['satisfied', 'as', 'as', 'a']), ('as', ['as', 'long', 'a', 'colored']), ('a', ['long', 'as', 'colored', 'person']), ('colored', ['as', 'a', 'person', 'in']), ('person', ['a', 'colored', 'in', 'mississippi']), ('in', ['colored', 'person', 'mississippi', 'cannot']), ('mississippi', ['person', 'in', 'cannot', 'vote']), ('cannot', ['in', 'mississippi', 'vote', 'and']), ('vote', ['mississippi', 'cannot', 'and', 'a']), ('and', ['cannot', 'vote', 'a', 'colored']), ('a', ['vote', 'and', 'colored', 'person']), ('colored', ['and', 'a', 'person', 'in']), ('person', ['a', 'colored', 'in', 'new']), ('in', ['colored', 'person', 'new', 'york']), ('new', ['person', 'in', 'york', 'believes']), ('york', ['in', 'new', 'believes', 'he']), ('believes', ['new', 'york', 'he', 'has']), ('he', ['york', 'believes', 'has', 'nothing']), ('has', ['believes', 'he', 'nothing', 'for']), ('nothing', ['he', 'has', 'for', 'which']), ('for', ['has', 'nothing', 'which', 'to']), ('which', ['nothing', 'for', 'to', 'vote']), ('to', ['for', 'which', 'vote', 'no']), ('vote', ['which', 'to', 'no', 'no']), ('no', ['to', 'vote', 'no', 'we']), ('no', ['vote', 'no', 'we', 'are']), ('we', ['no', 'no', 'are', 'not']), ('are', ['no', 'we', 'not', 'satisfied']), ('not', ['we', 'are', 'satisfied', 'and']), ('satisfied', ['are', 'not', 'and', 'we']), ('and', ['not', 'satisfied', 'we', 'will']), ('we', ['satisfied', 'and', 'will', 'not']), ('will', ['and', 'we', 'not', 'be']), ('not', ['we', 'will', 'be', 'satisfied']), ('be', ['will', 'not', 'satisfied', 'until']), ('satisfied', ['not', 'be', 'until', 'justice']), ('until', ['be', 'satisfied', 'justice', 'rolls']), ('justice', ['satisfied', 'until', 'rolls', 'down']), ('rolls', ['until', 'justice', 'down', 'like']), ('down', ['justice', 'rolls', 'like', 'waters']), ('like', ['rolls', 'down', 'waters', 'and']), ('waters', ['down', 'like', 'and', 'righteousness']), ('and', ['like', 'waters', 'righteousness', 'like']), ('righteousness', ['waters', 'and', 'like', 'a']), ('like', ['and', 'righteousness', 'a', 'mighty']), ('a', ['righteousness', 'like', 'mighty', 'stream']), ('mighty', ['like', 'a', 'stream', 'i']), ('stream', ['a', 'mighty', 'i', 'am']), ('i', ['mighty', 'stream', 'am', 'not']), ('am', ['stream', 'i', 'not', 'unmindful']), ('not', ['i', 'am', 'unmindful', 'that']), ('unmindful', ['am', 'not', 'that', 'some']), ('that', ['not', 'unmindful', 'some', 'of']), ('some', ['unmindful', 'that', 'of', 'you']), ('of', ['that', 'some', 'you', 'have']), ('you', ['some', 'of', 'have', 'come']), ('have', ['of', 'you', 'come', 'here']), ('come', ['you', 'have', 'here', 'out']), ('here', ['have', 'come', 'out', 'of']), ('out', ['come', 'here', 'of', 'your']), ('of', ['here', 'out', 'your', 'trials']), ('your', ['out', 'of', 'trials', 'and']), ('trials', ['of', 'your', 'and', 'tribulations']), ('and', ['your', 'trials', 'tribulations', 'some']), ('tribulations', ['trials', 'and', 'some', 'of']), ('some', ['and', 'tribulations', 'of', 'you']), ('of', ['tribulations', 'some', 'you', 'have']), ('you', ['some', 'of', 'have', 'come']), ('have', ['of', 'you', 'come', 'from']), ('come', ['you', 'have', 'from', 'areas']), ('from', ['have', 'come', 'areas', 'where']), ('areas', ['come', 'from', 'where', 'your']), ('where', ['from', 'areas', 'your', 'quest']), ('your', ['areas', 'where', 'quest', 'for']), ('quest', ['where', 'your', 'for', 'freedom']), ('for', ['your', 'quest', 'freedom', 'left']), ('freedom', ['quest', 'for', 'left', 'you']), ('left', ['for', 'freedom', 'you', 'battered']), ('you', ['freedom', 'left', 'battered', 'by']), ('battered', ['left', 'you', 'by', 'storms']), ('by', ['you', 'battered', 'storms', 'of']), ('storms', ['battered', 'by', 'of', 'persecutions']), ('of', ['by', 'storms', 'persecutions', 'and']), ('persecutions', ['storms', 'of', 'and', 'staggered']), ('and', ['of', 'persecutions', 'staggered', 'by']), ('staggered', ['persecutions', 'and', 'by', 'the']), ('by', ['and', 'staggered', 'the', 'winds']), ('the', ['staggered', 'by', 'winds', 'of']), ('winds', ['by', 'the', 'of', 'police']), ('of', ['the', 'winds', 'police', 'brutality']), ('police', ['winds', 'of', 'brutality', 'you']), ('brutality', ['of', 'police', 'you', 'have']), ('you', ['police', 'brutality', 'have', 'been']), ('have', ['brutality', 'you', 'been', 'the']), ('been', ['you', 'have', 'the', 'veterans']), ('the', ['have', 'been', 'veterans', 'of']), ('veterans', ['been', 'the', 'of', 'creative']), ('of', ['the', 'veterans', 'creative', 'suffering']), ('creative', ['veterans', 'of', 'suffering', 'continue']), ('suffering', ['of', 'creative', 'continue', 'to']), ('continue', ['creative', 'suffering', 'to', 'work']), ('to', ['suffering', 'continue', 'work', 'with']), ('work', ['continue', 'to', 'with', 'the']), ('with', ['to', 'work', 'the', 'faith']), ('the', ['work', 'with', 'faith', 'that']), ('faith', ['with', 'the', 'that', 'unearned']), ('that', ['the', 'faith', 'unearned', 'suffering']), ('unearned', ['faith', 'that', 'suffering', 'is']), ('suffering', ['that', 'unearned', 'is', 'redemptive']), ('is', ['unearned', 'suffering', 'redemptive', 'go']), ('redemptive', ['suffering', 'is', 'go', 'back']), ('go', ['is', 'redemptive', 'back', 'to']), ('back', ['redemptive', 'go', 'to', 'mississippi']), ('to', ['go', 'back', 'mississippi', 'go']), ('mississippi', ['back', 'to', 'go', 'back']), ('go', ['to', 'mississippi', 'back', 'to']), ('back', ['mississippi', 'go', 'to', 'alabama']), ('to', ['go', 'back', 'alabama', 'go']), ('alabama', ['back', 'to', 'go', 'back']), ('go', ['to', 'alabama', 'back', 'to']), ('back', ['alabama', 'go', 'to', 'south']), ('to', ['go', 'back', 'south', 'carolina']), ('south', ['back', 'to', 'carolina', 'go']), ('carolina', ['to', 'south', 'go', 'back']), ('go', ['south', 'carolina', 'back', 'to']), ('back', ['carolina', 'go', 'to', 'georgia']), ('to', ['go', 'back', 'georgia', 'go']), ('georgia', ['back', 'to', 'go', 'back']), ('go', ['to', 'georgia', 'back', 'to']), ('back', ['georgia', 'go', 'to', 'louisiana']), ('to', ['go', 'back', 'louisiana', 'go']), ('louisiana', ['back', 'to', 'go', 'back']), ('go', ['to', 'louisiana', 'back', 'to']), ('back', ['louisiana', 'go', 'to', 'the']), ('to', ['go', 'back', 'the', 'slums']), ('the', ['back', 'to', 'slums', 'and']), ('slums', ['to', 'the', 'and', 'ghettos']), ('and', ['the', 'slums', 'ghettos', 'of']), ('ghettos', ['slums', 'and', 'of', 'our']), ('of', ['and', 'ghettos', 'our', 'modern']), ('our', ['ghettos', 'of', 'modern', 'cities']), ('modern', ['of', 'our', 'cities', 'knowing']), ('cities', ['our', 'modern', 'knowing', 'that']), ('knowing', ['modern', 'cities', 'that', 'somehow']), ('that', ['cities', 'knowing', 'somehow', 'this']), ('somehow', ['knowing', 'that', 'this', 'situation']), ('this', ['that', 'somehow', 'situation', 'can']), ('situation', ['somehow', 'this', 'can', 'and']), ('can', ['this', 'situation', 'and', 'will']), ('and', ['situation', 'can', 'will', 'be']), ('will', ['can', 'and', 'be', 'changed']), ('be', ['and', 'will', 'changed', 'let']), ('changed', ['will', 'be', 'let', 'us']), ('let', ['be', 'changed', 'us', 'not']), ('us', ['changed', 'let', 'not', 'wallow']), ('not', ['let', 'us', 'wallow', 'in']), ('wallow', ['us', 'not', 'in', 'the']), ('in', ['not', 'wallow', 'the', 'valley']), ('the', ['wallow', 'in', 'valley', 'of']), ('valley', ['in', 'the', 'of', 'despair']), ('of', ['the', 'valley', 'despair', 'i']), ('despair', ['valley', 'of', 'i', 'say']), ('i', ['of', 'despair', 'say', 'to']), ('say', ['despair', 'i', 'to', 'you']), ('to', ['i', 'say', 'you', 'my']), ('you', ['say', 'to', 'my', 'friends']), ('my', ['to', 'you', 'friends', 'we']), ('friends', ['you', 'my', 'we', 'have']), ('we', ['my', 'friends', 'have', 'the']), ('have', ['friends', 'we', 'the', 'difficulties']), ('the', ['we', 'have', 'difficulties', 'of']), ('difficulties', ['have', 'the', 'of', 'today']), ('of', ['the', 'difficulties', 'today', 'and']), ('today', ['difficulties', 'of', 'and', 'tomorrow']), ('and', ['of', 'today', 'tomorrow', 'i']), ('tomorrow', ['today', 'and', 'i', 'still']), ('i', ['and', 'tomorrow', 'still', 'have']), ('still', ['tomorrow', 'i', 'have', 'a']), ('have', ['i', 'still', 'a', 'dream']), ('a', ['still', 'have', 'dream', 'it']), ('dream', ['have', 'a', 'it', 'is']), ('it', ['a', 'dream', 'is', 'a']), ('is', ['dream', 'it', 'a', 'dream']), ('a', ['it', 'is', 'dream', 'deeply']), ('dream', ['is', 'a', 'deeply', 'rooted']), ('deeply', ['a', 'dream', 'rooted', 'in']), ('rooted', ['dream', 'deeply', 'in', 'the']), ('in', ['deeply', 'rooted', 'the', 'american']), ('the', ['rooted', 'in', 'american', 'dream']), ('american', ['in', 'the', 'dream', 'i']), ('dream', ['the', 'american', 'i', 'have']), ('i', ['american', 'dream', 'have', 'a']), ('have', ['dream', 'i', 'a', 'dream']), ('a', ['i', 'have', 'dream', 'that']), ('dream', ['have', 'a', 'that', 'one']), ('that', ['a', 'dream', 'one', 'day']), ('one', ['dream', 'that', 'day', 'this']), ('day', ['that', 'one', 'this', 'nation']), ('this', ['one', 'day', 'nation', 'will']), ('nation', ['day', 'this', 'will', 'rise']), ('will', ['this', 'nation', 'rise', 'up']), ('rise', ['nation', 'will', 'up', 'and']), ('up', ['will', 'rise', 'and', 'live']), ('and', ['rise', 'up', 'live', 'out']), ('live', ['up', 'and', 'out', 'the']), ('out', ['and', 'live', 'the', 'true']), ('the', ['live', 'out', 'true', 'meaning']), ('true', ['out', 'the', 'meaning', 'of']), ('meaning', ['the', 'true', 'of', 'its']), ('of', ['true', 'meaning', 'its', 'creed']), ('its', ['meaning', 'of', 'creed', 'we']), ('creed', ['of', 'its', 'we', 'hold']), ('we', ['its', 'creed', 'hold', 'these']), ('hold', ['creed', 'we', 'these', 'truths']), ('these', ['we', 'hold', 'truths', 'to']), ('truths', ['hold', 'these', 'to', 'be']), ('to', ['these', 'truths', 'be', 'selfevident']), ('be', ['truths', 'to', 'selfevident', 'that']), ('selfevident', ['to', 'be', 'that', 'all']), ('that', ['be', 'selfevident', 'all', 'men']), ('all', ['selfevident', 'that', 'men', 'are']), ('men', ['that', 'all', 'are', 'created']), ('are', ['all', 'men', 'created', 'equal']), ('created', ['men', 'are', 'equal', 'i']), ('equal', ['are', 'created', 'i', 'have']), ('i', ['created', 'equal', 'have', 'a']), ('have', ['equal', 'i', 'a', 'dream']), ('a', ['i', 'have', 'dream', 'that']), ('dream', ['have', 'a', 'that', 'one']), ('that', ['a', 'dream', 'one', 'day']), ('one', ['dream', 'that', 'day', 'out']), ('day', ['that', 'one', 'out', 'in']), ('out', ['one', 'day', 'in', 'the']), ('in', ['day', 'out', 'the', 'red']), ('the', ['out', 'in', 'red', 'hills']), ('red', ['in', 'the', 'hills', 'of']), ('hills', ['the', 'red', 'of', 'georgia']), ('of', ['red', 'hills', 'georgia', 'the']), ('georgia', ['hills', 'of', 'the', 'sons']), ('the', ['of', 'georgia', 'sons', 'of']), ('sons', ['georgia', 'the', 'of', 'former']), ('of', ['the', 'sons', 'former', 'slaves']), ('former', ['sons', 'of', 'slaves', 'and']), ('slaves', ['of', 'former', 'and', 'the']), ('and', ['former', 'slaves', 'the', 'sons']), ('the', ['slaves', 'and', 'sons', 'of']), ('sons', ['and', 'the', 'of', 'former']), ('of', ['the', 'sons', 'former', 'slaveowners']), ('former', ['sons', 'of', 'slaveowners', 'will']), ('slaveowners', ['of', 'former', 'will', 'be']), ('will', ['former', 'slaveowners', 'be', 'able']), ('be', ['slaveowners', 'will', 'able', 'to']), ('able', ['will', 'be', 'to', 'sit']), ('to', ['be', 'able', 'sit', 'down']), ('sit', ['able', 'to', 'down', 'together']), ('down', ['to', 'sit', 'together', 'at']), ('together', ['sit', 'down', 'at', 'the']), ('at', ['down', 'together', 'the', 'table']), ('the', ['together', 'at', 'table', 'of']), ('table', ['at', 'the', 'of', 'brotherhood']), ('of', ['the', 'table', 'brotherhood', 'i']), ('brotherhood', ['table', 'of', 'i', 'have']), ('i', ['of', 'brotherhood', 'have', 'a']), ('have', ['brotherhood', 'i', 'a', 'dream']), ('a', ['i', 'have', 'dream', 'that']), ('dream', ['have', 'a', 'that', 'one']), ('that', ['a', 'dream', 'one', 'day']), ('one', ['dream', 'that', 'day', 'even']), ('day', ['that', 'one', 'even', 'the']), ('even', ['one', 'day', 'the', 'state']), ('the', ['day', 'even', 'state', 'of']), ('state', ['even', 'the', 'of', 'mississippi']), ('of', ['the', 'state', 'mississippi', 'a']), ('mississippi', ['state', 'of', 'a', 'state']), ('a', ['of', 'mississippi', 'state', 'sweltering']), ('state', ['mississippi', 'a', 'sweltering', 'with']), ('sweltering', ['a', 'state', 'with', 'the']), ('with', ['state', 'sweltering', 'the', 'heat']), ('the', ['sweltering', 'with', 'heat', 'of']), ('heat', ['with', 'the', 'of', 'oppression']), ('of', ['the', 'heat', 'oppression', 'will']), ('oppression', ['heat', 'of', 'will', 'be']), ('will', ['of', 'oppression', 'be', 'transformed']), ('be', ['oppression', 'will', 'transformed', 'into']), ('transformed', ['will', 'be', 'into', 'an']), ('into', ['be', 'transformed', 'an', 'oasis']), ('an', ['transformed', 'into', 'oasis', 'of']), ('oasis', ['into', 'an', 'of', 'freedom']), ('of', ['an', 'oasis', 'freedom', 'and']), ('freedom', ['oasis', 'of', 'and', 'justice']), ('and', ['of', 'freedom', 'justice', 'i']), ('justice', ['freedom', 'and', 'i', 'have']), ('i', ['and', 'justice', 'have', 'a']), ('have', ['justice', 'i', 'a', 'dream']), ('a', ['i', 'have', 'dream', 'that']), ('dream', ['have', 'a', 'that', 'my']), ('that', ['a', 'dream', 'my', 'four']), ('my', ['dream', 'that', 'four', 'little']), ('four', ['that', 'my', 'little', 'children']), ('little', ['my', 'four', 'children', 'will']), ('children', ['four', 'little', 'will', 'one']), ('will', ['little', 'children', 'one', 'day']), ('one', ['children', 'will', 'day', 'live']), ('day', ['will', 'one', 'live', 'in']), ('live', ['one', 'day', 'in', 'a']), ('in', ['day', 'live', 'a', 'nation']), ('a', ['live', 'in', 'nation', 'where']), ('nation', ['in', 'a', 'where', 'they']), ('where', ['a', 'nation', 'they', 'will']), ('they', ['nation', 'where', 'will', 'not']), ('will', ['where', 'they', 'not', 'be']), ('not', ['they', 'will', 'be', 'judged']), ('be', ['will', 'not', 'judged', 'by']), ('judged', ['not', 'be', 'by', 'the']), ('by', ['be', 'judged', 'the', 'color']), ('the', ['judged', 'by', 'color', 'of']), ('color', ['by', 'the', 'of', 'their']), ('of', ['the', 'color', 'their', 'skin']), ('their', ['color', 'of', 'skin', 'but']), ('skin', ['of', 'their', 'but', 'by']), ('but', ['their', 'skin', 'by', 'their']), ('by', ['skin', 'but', 'their', 'character']), ('their', ['but', 'by', 'character', 'i']), ('character', ['by', 'their', 'i', 'have']), ('i', ['their', 'character', 'have', 'a']), ('have', ['character', 'i', 'a', 'dream']), ('a', ['i', 'have', 'dream', 'today']), ('dream', ['have', 'a', 'today', 'i']), ('today', ['a', 'dream', 'i', 'have']), ('i', ['dream', 'today', 'have', 'a']), ('have', ['today', 'i', 'a', 'dream']), ('a', ['i', 'have', 'dream', 'that']), ('dream', ['have', 'a', 'that', 'one']), ('that', ['a', 'dream', 'one', 'day']), ('one', ['dream', 'that', 'day', 'down']), ('day', ['that', 'one', 'down', 'in']), ('down', ['one', 'day', 'in', 'alabama']), ('in', ['day', 'down', 'alabama', 'with']), ('alabama', ['down', 'in', 'with', 'its']), ('with', ['in', 'alabama', 'its', 'vicious']), ('its', ['alabama', 'with', 'vicious', 'racists']), ('vicious', ['with', 'its', 'racists', 'with']), ('racists', ['its', 'vicious', 'with', 'its']), ('with', ['vicious', 'racists', 'its', 'governor']), ('its', ['racists', 'with', 'governor', 'having']), ('governor', ['with', 'its', 'having', 'his']), ('having', ['its', 'governor', 'his', 'lips']), ('his', ['governor', 'having', 'lips', 'dripping']), ('lips', ['having', 'his', 'dripping', 'with']), ('dripping', ['his', 'lips', 'with', 'the']), ('with', ['lips', 'dripping', 'the', 'words']), ('the', ['dripping', 'with', 'words', 'of']), ('words', ['with', 'the', 'of', 'interposition']), ('of', ['the', 'words', 'interposition', 'and']), ('interposition', ['words', 'of', 'and', 'nullification']), ('and', ['of', 'interposition', 'nullification', 'that']), ('nullification', ['interposition', 'and', 'that', 'one']), ('that', ['and', 'nullification', 'one', 'day']), ('one', ['nullification', 'that', 'day', 'right']), ('day', ['that', 'one', 'right', 'down']), ('right', ['one', 'day', 'down', 'in']), ('down', ['day', 'right', 'in', 'alabama']), ('in', ['right', 'down', 'alabama', 'little']), ('alabama', ['down', 'in', 'little', 'black']), ('little', ['in', 'alabama', 'black', 'boys']), ('black', ['alabama', 'little', 'boys', 'and']), ('boys', ['little', 'black', 'and', 'black']), ('and', ['black', 'boys', 'black', 'girls']), ('black', ['boys', 'and', 'girls', 'will']), ('girls', ['and', 'black', 'will', 'be']), ('will', ['black', 'girls', 'be', 'able']), ('be', ['girls', 'will', 'able', 'to']), ('able', ['will', 'be', 'to', 'join']), ('to', ['be', 'able', 'join', 'hands']), ('join', ['able', 'to', 'hands', 'with']), ('hands', ['to', 'join', 'with', 'little']), ('with', ['join', 'hands', 'little', 'white']), ('little', ['hands', 'with', 'white', 'boys']), ('white', ['with', 'little', 'boys', 'and']), ('boys', ['little', 'white', 'and', 'white']), ('and', ['white', 'boys', 'white', 'girls']), ('white', ['boys', 'and', 'girls', 'as']), ('girls', ['and', 'white', 'as', 'sisters']), ('as', ['white', 'girls', 'sisters', 'and']), ('sisters', ['girls', 'as', 'and', 'brothers']), ('and', ['as', 'sisters', 'brothers', 'i']), ('brothers', ['sisters', 'and', 'i', 'have']), ('i', ['and', 'brothers', 'have', 'a']), ('have', ['brothers', 'i', 'a', 'dream']), ('a', ['i', 'have', 'dream', 'today']), ('dream', ['have', 'a', 'today', 'i']), ('today', ['a', 'dream', 'i', 'have']), ('i', ['dream', 'today', 'have', 'a']), ('have', ['today', 'i', 'a', 'dream']), ('a', ['i', 'have', 'dream', 'that']), ('dream', ['have', 'a', 'that', 'one']), ('that', ['a', 'dream', 'one', 'day']), ('one', ['dream', 'that', 'day', 'every']), ('day', ['that', 'one', 'every', 'valley']), ('every', ['one', 'day', 'valley', 'shall']), ('valley', ['day', 'every', 'shall', 'be']), ('shall', ['every', 'valley', 'be', 'engulfed']), ('be', ['valley', 'shall', 'engulfed', 'every']), ('engulfed', ['shall', 'be', 'every', 'hill']), ('every', ['be', 'engulfed', 'hill', 'shall']), ('hill', ['engulfed', 'every', 'shall', 'be']), ('shall', ['every', 'hill', 'be', 'exalted']), ('be', ['hill', 'shall', 'exalted', 'and']), ('exalted', ['shall', 'be', 'and', 'every']), ('and', ['be', 'exalted', 'every', 'mountain']), ('every', ['exalted', 'and', 'mountain', 'shall']), ('mountain', ['and', 'every', 'shall', 'be']), ('shall', ['every', 'mountain', 'be', 'made']), ('be', ['mountain', 'shall', 'made', 'low']), ('made', ['shall', 'be', 'low', 'the']), ('low', ['be', 'made', 'the', 'rough']), ('the', ['made', 'low', 'rough', 'places']), ('rough', ['low', 'the', 'places', 'will']), ('places', ['the', 'rough', 'will', 'be']), ('will', ['rough', 'places', 'be', 'made']), ('be', ['places', 'will', 'made', 'plains']), ('made', ['will', 'be', 'plains', 'and']), ('plains', ['be', 'made', 'and', 'the']), ('and', ['made', 'plains', 'the', 'crooked']), ('the', ['plains', 'and', 'crooked', 'places']), ('crooked', ['and', 'the', 'places', 'will']), ('places', ['the', 'crooked', 'will', 'be']), ('will', ['crooked', 'places', 'be', 'made']), ('be', ['places', 'will', 'made', 'straight']), ('made', ['will', 'be', 'straight', 'and']), ('straight', ['be', 'made', 'and', 'the']), ('and', ['made', 'straight', 'the', 'glory']), ('the', ['straight', 'and', 'glory', 'of']), ('glory', ['and', 'the', 'of', 'the']), ('of', ['the', 'glory', 'the', 'lord']), ('the', ['glory', 'of', 'lord', 'shall']), ('lord', ['of', 'the', 'shall', 'be']), ('shall', ['the', 'lord', 'be', 'revealed']), ('be', ['lord', 'shall', 'revealed', 'and']), ('revealed', ['shall', 'be', 'and', 'all']), ('and', ['be', 'revealed', 'all', 'flesh']), ('all', ['revealed', 'and', 'flesh', 'shall']), ('flesh', ['and', 'all', 'shall', 'see']), ('shall', ['all', 'flesh', 'see', 'it']), ('see', ['flesh', 'shall', 'it', 'together']), ('it', ['shall', 'see', 'together', 'this']), ('together', ['see', 'it', 'this', 'is']), ('this', ['it', 'together', 'is', 'our']), ('is', ['together', 'this', 'our', 'hope']), ('our', ['this', 'is', 'hope', 'this']), ('hope', ['is', 'our', 'this', 'is']), ('this', ['our', 'hope', 'is', 'the']), ('is', ['hope', 'this', 'the', 'faith']), ('the', ['this', 'is', 'faith', 'that']), ('faith', ['is', 'the', 'that', 'i']), ('that', ['the', 'faith', 'i', 'will']), ('i', ['faith', 'that', 'will', 'go']), ('will', ['that', 'i', 'go', 'back']), ('go', ['i', 'will', 'back', 'to']), ('back', ['will', 'go', 'to', 'the']), ('to', ['go', 'back', 'the', 'south']), ('the', ['back', 'to', 'south', 'with']), ('south', ['to', 'the', 'with', 'with']), ('with', ['the', 'south', 'with', 'this']), ('with', ['south', 'with', 'this', 'faith']), ('this', ['with', 'with', 'faith', 'we']), ('faith', ['with', 'this', 'we', 'will']), ('we', ['this', 'faith', 'will', 'be']), ('will', ['faith', 'we', 'be', 'able']), ('be', ['we', 'will', 'able', 'to']), ('able', ['will', 'be', 'to', 'hew']), ('to', ['be', 'able', 'hew', 'out']), ('hew', ['able', 'to', 'out', 'of']), ('out', ['to', 'hew', 'of', 'the']), ('of', ['hew', 'out', 'the', 'mountain']), ('the', ['out', 'of', 'mountain', 'of']), ('mountain', ['of', 'the', 'of', 'despair']), ('of', ['the', 'mountain', 'despair', 'a']), ('despair', ['mountain', 'of', 'a', 'stone']), ('a', ['of', 'despair', 'stone', 'of']), ('stone', ['despair', 'a', 'of', 'hope']), ('of', ['a', 'stone', 'hope', 'with']), ('hope', ['stone', 'of', 'with', 'this']), ('with', ['of', 'hope', 'this', 'faith']), ('this', ['hope', 'with', 'faith', 'we']), ('faith', ['with', 'this', 'we', 'will']), ('we', ['this', 'faith', 'will', 'be']), ('will', ['faith', 'we', 'be', 'able']), ('be', ['we', 'will', 'able', 'to']), ('able', ['will', 'be', 'to', 'transform']), ('to', ['be', 'able', 'transform', 'the']), ('transform', ['able', 'to', 'the', 'jangling']), ('the', ['to', 'transform', 'jangling', 'discords']), ('jangling', ['transform', 'the', 'discords', 'of']), ('discords', ['the', 'jangling', 'of', 'our']), ('of', ['jangling', 'discords', 'our', 'nation']), ('our', ['discords', 'of', 'nation', 'into']), ('nation', ['of', 'our', 'into', 'a']), ('into', ['our', 'nation', 'a', 'beautiful']), ('a', ['nation', 'into', 'beautiful', 'symphony']), ('beautiful', ['into', 'a', 'symphony', 'of']), ('symphony', ['a', 'beautiful', 'of', 'brotherhood']), ('of', ['beautiful', 'symphony', 'brotherhood', 'with']), ('brotherhood', ['symphony', 'of', 'with', 'this']), ('with', ['of', 'brotherhood', 'this', 'faith']), ('this', ['brotherhood', 'with', 'faith', 'we']), ('faith', ['with', 'this', 'we', 'will']), ('we', ['this', 'faith', 'will', 'be']), ('will', ['faith', 'we', 'be', 'able']), ('be', ['we', 'will', 'able', 'to']), ('able', ['will', 'be', 'to', 'work']), ('to', ['be', 'able', 'work', 'together']), ('work', ['able', 'to', 'together', 'to']), ('together', ['to', 'work', 'to', 'pray']), ('to', ['work', 'together', 'pray', 'together']), ('pray', ['together', 'to', 'together', 'to']), ('together', ['to', 'pray', 'to', 'struggle']), ('to', ['pray', 'together', 'struggle', 'together']), ('struggle', ['together', 'to', 'together', 'to']), ('together', ['to', 'struggle', 'to', 'go']), ('to', ['struggle', 'together', 'go', 'to']), ('go', ['together', 'to', 'to', 'jail']), ('to', ['to', 'go', 'jail', 'together']), ('jail', ['go', 'to', 'together', 'to']), ('together', ['to', 'jail', 'to', 'climb']), ('to', ['jail', 'together', 'climb', 'up']), ('climb', ['together', 'to', 'up', 'for']), ('up', ['to', 'climb', 'for', 'freedom']), ('for', ['climb', 'up', 'freedom', 'together']), ('freedom', ['up', 'for', 'together', 'knowing']), ('together', ['for', 'freedom', 'knowing', 'that']), ('knowing', ['freedom', 'together', 'that', 'we']), ('that', ['together', 'knowing', 'we', 'will']), ('we', ['knowing', 'that', 'will', 'be']), ('will', ['that', 'we', 'be', 'free']), ('be', ['we', 'will', 'free', 'one']), ('free', ['will', 'be', 'one', 'day']), ('one', ['be', 'free', 'day', 'this']), ('day', ['free', 'one', 'this', 'will']), ('this', ['one', 'day', 'will', 'be']), ('will', ['day', 'this', 'be', 'the']), ('be', ['this', 'will', 'the', 'day']), ('the', ['will', 'be', 'day', 'when']), ('day', ['be', 'the', 'when', 'all']), ('when', ['the', 'day', 'all', 'of']), ('all', ['day', 'when', 'of', 'gods']), ('of', ['when', 'all', 'gods', 'children']), ('gods', ['all', 'of', 'children', 'will']), ('children', ['of', 'gods', 'will', 'be']), ('will', ['gods', 'children', 'be', 'able']), ('be', ['children', 'will', 'able', 'to']), ('able', ['will', 'be', 'to', 'sing']), ('to', ['be', 'able', 'sing', 'with']), ('sing', ['able', 'to', 'with', 'new']), ('with', ['to', 'sing', 'new', 'meaning']), ('new', ['sing', 'with', 'meaning', 'my']), ('meaning', ['with', 'new', 'my', 'country']), ('my', ['new', 'meaning', 'country', 'tis']), ('country', ['meaning', 'my', 'tis', 'of']), ('tis', ['my', 'country', 'of', 'thee']), ('of', ['country', 'tis', 'thee', 'sweet']), ('thee', ['tis', 'of', 'sweet', 'land']), ('sweet', ['of', 'thee', 'land', 'of']), ('land', ['thee', 'sweet', 'of', 'liberty']), ('of', ['sweet', 'land', 'liberty', 'of']), ('liberty', ['land', 'of', 'of', 'thee']), ('of', ['of', 'liberty', 'thee', 'i']), ('thee', ['liberty', 'of', 'i', 'sing']), ('i', ['of', 'thee', 'sing', 'land']), ('sing', ['thee', 'i', 'land', 'where']), ('land', ['i', 'sing', 'where', 'my']), ('where', ['sing', 'land', 'my', 'fathers']), ('my', ['land', 'where', 'fathers', 'died']), ('fathers', ['where', 'my', 'died', 'land']), ('died', ['my', 'fathers', 'land', 'of']), ('land', ['fathers', 'died', 'of', 'the']), ('of', ['died', 'land', 'the', 'pilgrims']), ('the', ['land', 'of', 'pilgrims', 'pride']), ('pilgrims', ['of', 'the', 'pride', 'from']), ('pride', ['the', 'pilgrims', 'from', 'every']), ('from', ['pilgrims', 'pride', 'every', 'mountainside']), ('every', ['pride', 'from', 'mountainside', 'let']), ('mountainside', ['from', 'every', 'let', 'freedom']), ('let', ['every', 'mountainside', 'freedom', 'ring']), ('freedom', ['mountainside', 'let', 'ring', 'and']), ('ring', ['let', 'freedom', 'and', 'if']), ('and', ['freedom', 'ring', 'if', 'america']), ('if', ['ring', 'and', 'america', 'is']), ('america', ['and', 'if', 'is', 'to']), ('is', ['if', 'america', 'to', 'be']), ('to', ['america', 'is', 'be', 'a']), ('be', ['is', 'to', 'a', 'great']), ('a', ['to', 'be', 'great', 'nation']), ('great', ['be', 'a', 'nation', 'this']), ('nation', ['a', 'great', 'this', 'must']), ('this', ['great', 'nation', 'must', 'become']), ('must', ['nation', 'this', 'become', 'true']), ('become', ['this', 'must', 'true', 'so']), ('true', ['must', 'become', 'so', 'let']), ('so', ['become', 'true', 'let', 'freedom']), ('let', ['true', 'so', 'freedom', 'ring']), ('freedom', ['so', 'let', 'ring', 'from']), ('ring', ['let', 'freedom', 'from', 'the']), ('from', ['freedom', 'ring', 'the', 'hilltops']), ('the', ['ring', 'from', 'hilltops', 'of']), ('hilltops', ['from', 'the', 'of', 'new']), ('of', ['the', 'hilltops', 'new', 'hampshire']), ('new', ['hilltops', 'of', 'hampshire', 'let']), ('hampshire', ['of', 'new', 'let', 'freedom']), ('let', ['new', 'hampshire', 'freedom', 'ring']), ('freedom', ['hampshire', 'let', 'ring', 'from']), ('ring', ['let', 'freedom', 'from', 'the']), ('from', ['freedom', 'ring', 'the', 'mighty']), ('the', ['ring', 'from', 'mighty', 'mountains']), ('mighty', ['from', 'the', 'mountains', 'of']), ('mountains', ['the', 'mighty', 'of', 'new']), ('of', ['mighty', 'mountains', 'new', 'york']), ('new', ['mountains', 'of', 'york', 'let']), ('york', ['of', 'new', 'let', 'freedom']), ('let', ['new', 'york', 'freedom', 'ring']), ('freedom', ['york', 'let', 'ring', 'from']), ('ring', ['let', 'freedom', 'from', 'the']), ('from', ['freedom', 'ring', 'the', 'heightening']), ('the', ['ring', 'from', 'heightening', 'alleghenies']), ('heightening', ['from', 'the', 'alleghenies', 'of']), ('alleghenies', ['the', 'heightening', 'of', 'pennsylvania']), ('of', ['heightening', 'alleghenies', 'pennsylvania', 'let']), ('pennsylvania', ['alleghenies', 'of', 'let', 'freedom']), ('let', ['of', 'pennsylvania', 'freedom', 'ring']), ('freedom', ['pennsylvania', 'let', 'ring', 'from']), ('ring', ['let', 'freedom', 'from', 'the']), ('from', ['freedom', 'ring', 'the', 'snowcapped']), ('the', ['ring', 'from', 'snowcapped', 'rockies']), ('snowcapped', ['from', 'the', 'rockies', 'of']), ('rockies', ['the', 'snowcapped', 'of', 'colorado']), ('of', ['snowcapped', 'rockies', 'colorado', 'let']), ('colorado', ['rockies', 'of', 'let', 'freedom']), ('let', ['of', 'colorado', 'freedom', 'ring']), ('freedom', ['colorado', 'let', 'ring', 'from']), ('ring', ['let', 'freedom', 'from', 'the']), ('from', ['freedom', 'ring', 'the', 'curvaceous']), ('the', ['ring', 'from', 'curvaceous', 'slopes']), ('curvaceous', ['from', 'the', 'slopes', 'of']), ('slopes', ['the', 'curvaceous', 'of', 'california']), ('of', ['curvaceous', 'slopes', 'california', 'but']), ('california', ['slopes', 'of', 'but', 'not']), ('but', ['of', 'california', 'not', 'only']), ('not', ['california', 'but', 'only', 'that']), ('only', ['but', 'not', 'that', 'let']), ('that', ['not', 'only', 'let', 'freedom']), ('let', ['only', 'that', 'freedom', 'ring']), ('freedom', ['that', 'let', 'ring', 'from']), ('ring', ['let', 'freedom', 'from', 'stone']), ('from', ['freedom', 'ring', 'stone', 'mountain']), ('stone', ['ring', 'from', 'mountain', 'of']), ('mountain', ['from', 'stone', 'of', 'georgia']), ('of', ['stone', 'mountain', 'georgia', 'let']), ('georgia', ['mountain', 'of', 'let', 'freedom']), ('let', ['of', 'georgia', 'freedom', 'ring']), ('freedom', ['georgia', 'let', 'ring', 'from']), ('ring', ['let', 'freedom', 'from', 'every']), ('from', ['freedom', 'ring', 'every', 'hill']), ('every', ['ring', 'from', 'hill', 'and']), ('hill', ['from', 'every', 'and', 'molehill']), ('and', ['every', 'hill', 'molehill', 'of']), ('molehill', ['hill', 'and', 'of', 'mississippi']), ('of', ['and', 'molehill', 'mississippi', 'and']), ('mississippi', ['molehill', 'of', 'and', 'every']), ('and', ['of', 'mississippi', 'every', 'mountainside']), ('every', ['mississippi', 'and', 'mountainside', 'when']), ('mountainside', ['and', 'every', 'when', 'we']), ('when', ['every', 'mountainside', 'we', 'let']), ('we', ['mountainside', 'when', 'let', 'freedom']), ('let', ['when', 'we', 'freedom', 'ring']), ('freedom', ['we', 'let', 'ring', 'when']), ('ring', ['let', 'freedom', 'when', 'we']), ('when', ['freedom', 'ring', 'we', 'let']), ('we', ['ring', 'when', 'let', 'it']), ('let', ['when', 'we', 'it', 'ring']), ('it', ['we', 'let', 'ring', 'from']), ('ring', ['let', 'it', 'from', 'every']), ('from', ['it', 'ring', 'every', 'tenement']), ('every', ['ring', 'from', 'tenement', 'and']), ('tenement', ['from', 'every', 'and', 'every']), ('and', ['every', 'tenement', 'every', 'hamlet']), ('every', ['tenement', 'and', 'hamlet', 'from']), ('hamlet', ['and', 'every', 'from', 'every']), ('from', ['every', 'hamlet', 'every', 'state']), ('every', ['hamlet', 'from', 'state', 'and']), ('state', ['from', 'every', 'and', 'every']), ('and', ['every', 'state', 'every', 'city']), ('every', ['state', 'and', 'city', 'we']), ('city', ['and', 'every', 'we', 'will']), ('we', ['every', 'city', 'will', 'be']), ('will', ['city', 'we', 'be', 'able']), ('be', ['we', 'will', 'able', 'to']), ('able', ['will', 'be', 'to', 'speed']), ('to', ['be', 'able', 'speed', 'up']), ('speed', ['able', 'to', 'up', 'that']), ('up', ['to', 'speed', 'that', 'day']), ('that', ['speed', 'up', 'day', 'when']), ('day', ['up', 'that', 'when', 'all']), ('when', ['that', 'day', 'all', 'of']), ('all', ['day', 'when', 'of', 'gods']), ('of', ['when', 'all', 'gods', 'children']), ('gods', ['all', 'of', 'children', 'black']), ('children', ['of', 'gods', 'black', 'men']), ('black', ['gods', 'children', 'men', 'and']), ('men', ['children', 'black', 'and', 'white']), ('and', ['black', 'men', 'white', 'men']), ('white', ['men', 'and', 'men', 'jews']), ('men', ['and', 'white', 'jews', 'and']), ('jews', ['white', 'men', 'and', 'gentiles']), ('and', ['men', 'jews', 'gentiles', 'protestants']), ('gentiles', ['jews', 'and', 'protestants', 'and']), ('protestants', ['and', 'gentiles', 'and', 'catholics']), ('and', ['gentiles', 'protestants', 'catholics', 'will']), ('catholics', ['protestants', 'and', 'will', 'be']), ('will', ['and', 'catholics', 'be', 'able']), ('be', ['catholics', 'will', 'able', 'to']), ('able', ['will', 'be', 'to', 'join']), ('to', ['be', 'able', 'join', 'hands']), ('join', ['able', 'to', 'hands', 'and']), ('hands', ['to', 'join', 'and', 'sing']), ('and', ['join', 'hands', 'sing', 'in']), ('sing', ['hands', 'and', 'in', 'the']), ('in', ['and', 'sing', 'the', 'words']), ('the', ['sing', 'in', 'words', 'of']), ('words', ['in', 'the', 'of', 'the']), ('of', ['the', 'words', 'the', 'old']), ('the', ['words', 'of', 'old', 'spiritual']), ('old', ['of', 'the', 'spiritual', 'free']), ('spiritual', ['the', 'old', 'free', 'at']), ('free', ['old', 'spiritual', 'at', 'last']), ('at', ['spiritual', 'free', 'last', 'free']), ('last', ['free', 'at', 'free', 'at']), ('free', ['at', 'last', 'at', 'last']), ('at', ['last', 'free', 'last', 'thank']), ('last', ['free', 'at', 'thank', 'god']), ('thank', ['at', 'last', 'god', 'almighty']), ('god', ['last', 'thank', 'almighty', 'we']), ('almighty', ['thank', 'god', 'we', 'are']), ('we', ['god', 'almighty', 'are', 'free']), ('are', ['almighty', 'we', 'free', 'at']), ('free', ['we', 'are', 'at', 'last'])]\n"
     ]
    }
   ],
   "source": [
    "print(data)"
   ]
  },
  {
   "cell_type": "code",
   "execution_count": 11,
   "metadata": {
    "id": "golden-tokyo"
   },
   "outputs": [],
   "source": [
    "def words_to_tensor(words: list, word2index: dict, dtype = torch.FloatTensor):\n",
    "    \"\"\"\n",
    "    This fucntion converts a word or a list of words into a torch tensor,\n",
    "    with appropriate format.\n",
    "    It reuses the word2index dictionary.\n",
    "    \"\"\"\n",
    "    \n",
    "    tensor =  dtype([word2index[word] for word in words])\n",
    "    tensor = tensor.cuda()\n",
    "    \n",
    "    return Variable(tensor)"
   ]
  },
  {
   "cell_type": "markdown",
   "metadata": {
    "id": "destroyed-excuse"
   },
   "source": [
    "### Step 2. Create a SkipGram model and train\n",
    "\n",
    "Task #1: Write your own model for the SkipGram model below."
   ]
  },
  {
   "cell_type": "code",
   "execution_count": 12,
   "metadata": {
    "id": "higher-kentucky"
   },
   "outputs": [],
   "source": [
    "class SkipGram(nn.Module):\n",
    "    \"\"\"\n",
    "    Your skipgram model here!\n",
    "    \"\"\"\n",
    "    \n",
    "    def __init__(self, context_size, embedding_dim, vocab_size):\n",
    "        super(SkipGram, self).__init__()\n",
    "        self.context_size = context_size\n",
    "        self.embeddings = nn.Embedding(vocab_size, embedding_dim)\n",
    "        self.linear1 = nn.Linear(embedding_dim, 128)\n",
    "        self.linear2 = nn.Linear(128, vocab_size)\n",
    "\n",
    "    def forward(self, inputs):\n",
    "        embeds = self.embeddings(inputs).view(1, -1)\n",
    "        out = F.relu(self.linear1(embeds))\n",
    "        out = self.linear2(out)\n",
    "        out = F.log_softmax(out, dim=1)\n",
    "        log_probs = torch.cat([out]*self.context_size*2) # weights are being shared\n",
    "        log_probs = log_probs.view(2*self.context_size, -1)\n",
    "        return log_probs"
   ]
  },
  {
   "cell_type": "code",
   "execution_count": 13,
   "metadata": {
    "colab": {
     "base_uri": "https://localhost:8080/"
    },
    "id": "civilian-tongue",
    "outputId": "3279b326-f61e-4a7d-d591-9a2caf27a446"
   },
   "outputs": [
    {
     "data": {
      "text/plain": [
       "SkipGram(\n",
       "  (embeddings): Embedding(467, 20)\n",
       "  (linear1): Linear(in_features=20, out_features=128, bias=True)\n",
       "  (linear2): Linear(in_features=128, out_features=467, bias=True)\n",
       ")"
      ]
     },
     "execution_count": 13,
     "metadata": {
      "tags": []
     },
     "output_type": "execute_result"
    }
   ],
   "source": [
    "# Create model and pass to CUDA\n",
    "model = SkipGram(context_size = 2, embedding_dim = 20, vocab_size = len(vocab))\n",
    "model = model.cuda()\n",
    "model.train()"
   ]
  },
  {
   "cell_type": "code",
   "execution_count": 14,
   "metadata": {
    "id": "swiss-directive"
   },
   "outputs": [],
   "source": [
    "# Define training parameters\n",
    "learning_rate = 0.001\n",
    "epochs = 1000\n",
    "torch.manual_seed(28)\n",
    "loss_function = nn.NLLLoss()\n",
    "optimizer = optim.SGD(model.parameters(), lr = learning_rate)"
   ]
  },
  {
   "cell_type": "code",
   "execution_count": 15,
   "metadata": {
    "id": "behavioral-smell"
   },
   "outputs": [],
   "source": [
    "def get_prediction(context, model, word2index, index2word):\n",
    "    \"\"\"\n",
    "    This is a helper function to get prediction from our model.\n",
    "    \"\"\"\n",
    "\n",
    "    # Get into eval() mode\n",
    "    model.eval()\n",
    "    context_id = words_to_tensor([context], word2index, dtype = torch.LongTensor)\n",
    "\n",
    "    # Forward pass\n",
    "    prediction = model(context_id)\n",
    "\n",
    "    # Return top 4 predicted words\n",
    "    predicted_words = []\n",
    "    ids = torch.topk(prediction, 4).indices[0]\n",
    "    for index in ids:\n",
    "        predicted_words.append(index2word[index.item()])\n",
    "\n",
    "    # print(\"Context word: {}. Target words: {}\".format(context, predicted_words))\n",
    "\n",
    "    return predicted_words"
   ]
  },
  {
   "cell_type": "code",
   "execution_count": 16,
   "metadata": {
    "id": "u0UF4QTAoEBu"
   },
   "outputs": [],
   "source": [
    "def check_accuracy(model, data, word2index, index2word):\n",
    "\n",
    "    # Compute accuracy\n",
    "    correct = 0\n",
    "    for context, target in data:\n",
    "        prediction = get_prediction(context, model, word2index, index2word)\n",
    "\n",
    "        for word in target:\n",
    "            if word in prediction:\n",
    "                correct += 1\n",
    "\n",
    "    return correct/(4 * len(data))"
   ]
  },
  {
   "cell_type": "markdown",
   "metadata": {
    "id": "unlikely-arcade"
   },
   "source": [
    "Task #2: Write your own training function for the SkipGram model in the cell below. It should return a list of losses and accuracies for display later on, along with your trained model. You may also write a helper function for computing the accuracy of your model during training."
   ]
  },
  {
   "cell_type": "code",
   "execution_count": 17,
   "metadata": {
    "colab": {
     "base_uri": "https://localhost:8080/"
    },
    "id": "periodic-native",
    "outputId": "fe38bc03-9132-4070-b438-37e7f649033d"
   },
   "outputs": [
    {
     "name": "stdout",
     "output_type": "stream",
     "text": [
      "Accuracy after epoch 0 is 0.09288256227758007\n",
      "Accuracy after epoch 10 is 0.2012455516014235\n",
      "Accuracy after epoch 20 is 0.2190391459074733\n",
      "Accuracy after epoch 30 is 0.23790035587188613\n",
      "Accuracy after epoch 40 is 0.2494661921708185\n",
      "Accuracy after epoch 50 is 0.25782918149466194\n",
      "Accuracy after epoch 60 is 0.2690391459074733\n",
      "Accuracy after epoch 70 is 0.2772241992882562\n",
      "Accuracy after epoch 80 is 0.28345195729537365\n",
      "Accuracy after epoch 90 is 0.2918149466192171\n",
      "Accuracy after epoch 100 is 0.29644128113879004\n",
      "Accuracy after epoch 110 is 0.2994661921708185\n",
      "Accuracy after epoch 120 is 0.30516014234875444\n",
      "Accuracy after epoch 130 is 0.3124555160142349\n",
      "Accuracy after epoch 140 is 0.31654804270462633\n",
      "Accuracy after epoch 150 is 0.32437722419928827\n",
      "Accuracy after epoch 160 is 0.33167259786476866\n",
      "Accuracy after epoch 170 is 0.3366548042704626\n",
      "Accuracy after epoch 180 is 0.34199288256227756\n",
      "Accuracy after epoch 190 is 0.347508896797153\n",
      "Accuracy after epoch 200 is 0.351423487544484\n",
      "Accuracy after epoch 210 is 0.35640569395017796\n",
      "Accuracy after epoch 220 is 0.3604982206405694\n",
      "Accuracy after epoch 230 is 0.3670818505338078\n",
      "Accuracy after epoch 240 is 0.37384341637010676\n",
      "Accuracy after epoch 250 is 0.3781138790035587\n",
      "Accuracy after epoch 260 is 0.38540925266903914\n",
      "Accuracy after epoch 270 is 0.3893238434163701\n",
      "Accuracy after epoch 280 is 0.39519572953736654\n",
      "Accuracy after epoch 290 is 0.3991103202846975\n",
      "Accuracy after epoch 300 is 0.40640569395017795\n",
      "Accuracy after epoch 310 is 0.4101423487544484\n",
      "Accuracy after epoch 320 is 0.4169039145907473\n",
      "Accuracy after epoch 330 is 0.4218861209964413\n",
      "Accuracy after epoch 340 is 0.4284697508896797\n",
      "Accuracy after epoch 350 is 0.43345195729537367\n",
      "Accuracy after epoch 360 is 0.4395017793594306\n",
      "Accuracy after epoch 370 is 0.4430604982206406\n",
      "Accuracy after epoch 380 is 0.446797153024911\n",
      "Accuracy after epoch 390 is 0.45355871886120996\n",
      "Accuracy after epoch 400 is 0.4594306049822064\n",
      "Accuracy after epoch 410 is 0.46298932384341634\n",
      "Accuracy after epoch 420 is 0.4663701067615658\n",
      "Accuracy after epoch 430 is 0.4690391459074733\n",
      "Accuracy after epoch 440 is 0.47153024911032027\n",
      "Accuracy after epoch 450 is 0.4750889679715303\n",
      "Accuracy after epoch 460 is 0.47793594306049825\n",
      "Accuracy after epoch 470 is 0.4804270462633452\n",
      "Accuracy after epoch 480 is 0.4843416370106762\n",
      "Accuracy after epoch 490 is 0.4864768683274021\n",
      "Accuracy after epoch 500 is 0.4887900355871886\n",
      "Accuracy after epoch 510 is 0.4914590747330961\n",
      "Accuracy after epoch 520 is 0.49395017793594304\n",
      "Accuracy after epoch 530 is 0.49537366548042705\n",
      "Accuracy after epoch 540 is 0.49697508896797155\n",
      "Accuracy after epoch 550 is 0.4976868327402135\n",
      "Accuracy after epoch 560 is 0.5001779359430605\n",
      "Accuracy after epoch 570 is 0.5019572953736655\n",
      "Accuracy after epoch 580 is 0.5037366548042704\n",
      "Accuracy after epoch 590 is 0.505693950177936\n",
      "Accuracy after epoch 600 is 0.5067615658362989\n",
      "Accuracy after epoch 610 is 0.507473309608541\n",
      "Accuracy after epoch 620 is 0.5081850533807829\n",
      "Accuracy after epoch 630 is 0.5090747330960854\n",
      "Accuracy after epoch 640 is 0.5094306049822064\n",
      "Accuracy after epoch 650 is 0.5090747330960854\n",
      "Accuracy after epoch 660 is 0.5099644128113879\n",
      "Accuracy after epoch 670 is 0.5112099644128114\n",
      "Accuracy after epoch 680 is 0.5117437722419929\n",
      "Accuracy after epoch 690 is 0.5129893238434163\n",
      "Accuracy after epoch 700 is 0.5131672597864768\n",
      "Accuracy after epoch 710 is 0.5145907473309609\n",
      "Accuracy after epoch 720 is 0.5158362989323844\n",
      "Accuracy after epoch 730 is 0.5163701067615658\n",
      "Accuracy after epoch 740 is 0.5163701067615658\n",
      "Accuracy after epoch 750 is 0.5172597864768683\n",
      "Accuracy after epoch 760 is 0.5172597864768683\n",
      "Accuracy after epoch 770 is 0.5176156583629893\n",
      "Accuracy after epoch 780 is 0.5181494661921708\n",
      "Accuracy after epoch 790 is 0.5181494661921708\n",
      "Accuracy after epoch 800 is 0.5186832740213523\n",
      "Accuracy after epoch 810 is 0.5190391459074734\n",
      "Accuracy after epoch 820 is 0.5192170818505338\n",
      "Accuracy after epoch 830 is 0.5197508896797153\n",
      "Accuracy after epoch 840 is 0.5199288256227758\n",
      "Accuracy after epoch 850 is 0.5202846975088968\n",
      "Accuracy after epoch 860 is 0.5208185053380783\n",
      "Accuracy after epoch 870 is 0.5208185053380783\n",
      "Accuracy after epoch 880 is 0.5209964412811388\n",
      "Accuracy after epoch 890 is 0.5209964412811388\n",
      "Accuracy after epoch 900 is 0.5211743772241992\n",
      "Accuracy after epoch 910 is 0.5211743772241992\n",
      "Accuracy after epoch 920 is 0.5213523131672598\n",
      "Accuracy after epoch 930 is 0.5213523131672598\n",
      "Accuracy after epoch 940 is 0.5213523131672598\n",
      "Accuracy after epoch 950 is 0.5217081850533808\n",
      "Accuracy after epoch 960 is 0.5220640569395018\n",
      "Accuracy after epoch 970 is 0.5220640569395018\n",
      "Accuracy after epoch 980 is 0.5222419928825622\n",
      "Accuracy after epoch 990 is 0.5224199288256228\n"
     ]
    }
   ],
   "source": [
    "def train(data, word2index, model, epochs, loss_func, optimizer):\n",
    "    losses = []\n",
    "    accuracies = []\n",
    "\n",
    "    for epoch in range(epochs):\n",
    "        total_loss = 0\n",
    "\n",
    "        for context, target in data:\n",
    "\n",
    "            # Prepare data\n",
    "            ids = words_to_tensor([context], word2index, dtype = torch.LongTensor)\n",
    "            target = words_to_tensor(target, word2index, dtype = torch.LongTensor)\n",
    "\n",
    "            # Forward pass\n",
    "            model.zero_grad()\n",
    "            output = model(ids)\n",
    "            loss = loss_func(output, target)\n",
    "\n",
    "            # Backward pass and optim\n",
    "            loss.backward()\n",
    "            optimizer.step()\n",
    "\n",
    "            # Loss update\n",
    "            total_loss += loss.data.item()\n",
    "\n",
    "        # Display\n",
    "        if epoch % 10 == 0:\n",
    "            accuracy = check_accuracy(model, data, word2index, index2word)\n",
    "            print(\"Accuracy after epoch {} is {}\".format(epoch, accuracy))\n",
    "            accuracies.append(accuracy)\n",
    "            losses.append(total_loss)\n",
    "\n",
    "    return losses, accuracies, model\n",
    "\n",
    "losses, accuracies, model = train(data, word2index, model, epochs, loss_function, optimizer)"
   ]
  },
  {
   "cell_type": "markdown",
   "metadata": {
    "id": "geological-statistics"
   },
   "source": [
    "### 3. Visualization"
   ]
  },
  {
   "cell_type": "code",
   "execution_count": 18,
   "metadata": {
    "colab": {
     "base_uri": "https://localhost:8080/",
     "height": 265
    },
    "id": "gross-affect",
    "outputId": "1e1870d1-3950-466c-b12d-d04681ce6440"
   },
   "outputs": [
    {
     "data": {
      "image/png": "[encoded data removed]",
      "text/plain": [
       "<Figure size 432x288 with 1 Axes>"
      ]
     },
     "metadata": {
      "needs_background": "light",
      "tags": []
     },
     "output_type": "display_data"
    }
   ],
   "source": [
    "# Display losses over time\n",
    "plt.figure()\n",
    "plt.plot(losses)\n",
    "plt.show()"
   ]
  },
  {
   "cell_type": "code",
   "execution_count": 19,
   "metadata": {
    "colab": {
     "base_uri": "https://localhost:8080/",
     "height": 265
    },
    "id": "seventh-scout",
    "outputId": "c0d4796a-a33f-4fc0-e8f0-335401272dcd"
   },
   "outputs": [
    {
     "data": {
      "image/png": "[encoded data removed]",
      "text/plain": [
       "<Figure size 432x288 with 1 Axes>"
      ]
     },
     "metadata": {
      "needs_background": "light",
      "tags": []
     },
     "output_type": "display_data"
    }
   ],
   "source": [
    "# Display accuracies over time\n",
    "plt.figure()\n",
    "plt.plot(accuracies)\n",
    "plt.show()"
   ]
  },
  {
   "cell_type": "markdown",
   "metadata": {
    "id": "southwest-banking"
   },
   "source": [
    "### Questions and expected answers for the report\n",
    "\n",
    "**A. Copy and paste your SkipGram class code (Task #1 in the notebook)**\n",
    "\n",
    "    class SkipGram(nn.Module):\n",
    "    \"\"\"\n",
    "    Your skipgram model here!\n",
    "    \"\"\"\n",
    "    \n",
    "    def __init__(self, context_size, embedding_dim, vocab_size):\n",
    "        super(SkipGram, self).__init__()\n",
    "        self.context_size = context_size\n",
    "        self.embeddings = nn.Embedding(vocab_size, embedding_dim)\n",
    "        self.linear1 = nn.Linear(embedding_dim, 128)\n",
    "        self.linear2 = nn.Linear(128, vocab_size)\n",
    "\n",
    "    def forward(self, inputs):\n",
    "        embeds = self.embeddings(inputs).view(1, -1)\n",
    "        out = F.relu(self.linear1(embeds))\n",
    "        out = self.linear2(out)\n",
    "        out = F.log_softmax(out, dim=1)\n",
    "        log_probs = torch.cat([out]*self.context_size*2) # weights are being shared\n",
    "        log_probs = log_probs.view(2*self.context_size, -1)\n",
    "        return log_probs\n",
    "\n",
    "**B. Copy and paste your train function (Task #2 in the notebook), along with any helper functions you might have used (e.g. a function to compute the accuracy of your model after each iteration). Please also copy and paste the function call with the parameters you used for the train() function.**\n",
    "\n",
    "    def get_prediction(context, model, word2index, index2word):\n",
    "      \"\"\"\n",
    "      This is a helper function to get prediction from our model.\n",
    "      \"\"\"\n",
    "\n",
    "      # Get into eval() mode\n",
    "      model.eval()\n",
    "      context_id = words_to_tensor([context], word2index, dtype = torch.LongTensor)\n",
    "\n",
    "      # Forward pass\n",
    "      prediction = model(context_id)\n",
    "\n",
    "      # Return top 4 predicted words\n",
    "      predicted_words = []\n",
    "      ids = torch.topk(prediction, 4).indices[0]\n",
    "      for index in ids:\n",
    "          predicted_words.append(index2word[index.item()])\n",
    "\n",
    "      # print(\"Context word: {}. Target words: {}\".format(context, predicted_words))\n",
    "\n",
    "      return predicted_words\n",
    "\n",
    "    def check_accuracy(model, data, word2index, index2word):\n",
    "\n",
    "      # Compute accuracy\n",
    "      correct = 0\n",
    "      for context, target in data:\n",
    "          prediction = get_prediction(context, model, word2index, index2word)\n",
    "\n",
    "          for word in target:\n",
    "              if word in prediction:\n",
    "                  correct += 1\n",
    "\n",
    "      return correct/(4 * len(data))\n",
    "\n",
    "    def train(data, word2index, model, epochs, loss_func, optimizer):\n",
    "      losses = []\n",
    "      accuracies = []\n",
    "\n",
    "      for epoch in range(epochs):\n",
    "          total_loss = 0\n",
    "\n",
    "          for context, target in data:\n",
    "\n",
    "              # Prepare data\n",
    "              ids = words_to_tensor([context], word2index, dtype = torch.LongTensor)\n",
    "              target = words_to_tensor(target, word2index, dtype = torch.LongTensor)\n",
    "\n",
    "              # Forward pass\n",
    "              model.zero_grad()\n",
    "              output = model(ids)\n",
    "              loss = loss_func(output, target)\n",
    "\n",
    "              # Backward pass and optim\n",
    "              loss.backward()\n",
    "              optimizer.step()\n",
    "\n",
    "              # Loss update\n",
    "              total_loss += loss.data.item()\n",
    "\n",
    "          # Display\n",
    "          if epoch % 10 == 0:\n",
    "              accuracy = check_accuracy(model, data, word2index, index2word)\n",
    "              print(\"Accuracy after epoch {} is {}\".format(epoch, accuracy))\n",
    "              accuracies.append(accuracy)\n",
    "              losses.append(total_loss)\n",
    "\n",
    "      return losses, accuracies, model\n",
    "      \n",
    "      # Define training parameters\n",
    "      learning_rate = 0.001\n",
    "      epochs = 1000\n",
    "      torch.manual_seed(28)\n",
    "      loss_function = nn.NLLLoss()\n",
    "      optimizer = optim.SGD(model.parameters(), lr = learning_rate)\n",
    "\n",
    "      losses, accuracies, model = train(data, word2index, model, epochs, loss_function, optimizer)\n",
    "\n",
    "\n",
    "**C. Why is the SkipGram model much more difficult to train than the CBoW. Is it problematic if it does not reach a 100% accuracy on the task it is being trained on?**\n",
    "\n",
    "CBoW model is trained to predict a single word from a fixed window size of context words, whereas the SkipGram model does the opposite, and tries to predict several context words from a single input word. Therefore, the SkipGram model is harder to train as it needs to get high probabilities for not just 1 right output word, but the right 2k output words surrounding the input word. In our case k=2.\n",
    "\n",
    "It is not problematic if the SkipGram model does not reach a 100% accuracy on the task it is being trained on. This is because all we want is to train a good embedding W, which can be achieved as long as the “right” surrounding context words have high probabilities --- they can appear in any order and do not necessarily need to be in the top 2k shortlisted candidates.\n",
    "\n",
    "**D. If we were to evaluate this model by using intrinsic methods, what could be a possible approach to do so. Please submit some code that will demonstrate the performance/problems of the word embedding you have trained!**\n",
    "\n",
    "The model does not appear to be performing very well. This is likely because our model is trained on a small corpus, so there is insufficient data to generate meaningful embeddings. For example, even though americans and citizens are used interchangeably in this racial text, and they both have syntactically similar outputs e.g. \"colored\" and \"color\" respectively, the model treats them as different words. This contributes to their low cosine similarity and poorly captures their semantic relationship. A larger text corpus is required."
   ]
  },
  {
   "cell_type": "code",
   "execution_count": 20,
   "metadata": {
    "colab": {
     "base_uri": "https://localhost:8080/"
    },
    "id": "jr3EmG03qHrW",
    "outputId": "11864065-15ca-4456-cf66-496cf5ca1a9b"
   },
   "outputs": [
    {
     "name": "stdout",
     "output_type": "stream",
     "text": [
      "['needed', 'colored', 'the', 'to']\n",
      "['sweltering', 'its', 'as', 'color']\n",
      "['of', 'be', 'shall', 'the']\n",
      "['almighty', 'last', 'thank', 'we']\n"
     ]
    }
   ],
   "source": [
    "# Manually inspect the possible outputs of the each word\n",
    "print(get_prediction(\"americans\", model, word2index, index2word))\n",
    "print(get_prediction(\"citizens\", model, word2index, index2word))\n",
    "print(get_prediction(\"lord\", model, word2index, index2word))\n",
    "print(get_prediction(\"god\", model, word2index, index2word))"
   ]
  },
  {
   "cell_type": "code",
   "execution_count": 21,
   "metadata": {
    "colab": {
     "base_uri": "https://localhost:8080/"
    },
    "id": "OZVrr3n8qSjF",
    "outputId": "b34706dd-a214-4d71-8682-fe4d02c770d2"
   },
   "outputs": [
    {
     "name": "stdout",
     "output_type": "stream",
     "text": [
      "tensor(0.1816, device='cuda:0', grad_fn=<DivBackward0>)\n",
      "tensor(0.2532, device='cuda:0', grad_fn=<DivBackward0>)\n",
      "tensor(-0.1035, device='cuda:0', grad_fn=<DivBackward0>)\n",
      "tensor(-0.2368, device='cuda:0', grad_fn=<DivBackward0>)\n",
      "tensor(-0.3480, device='cuda:0', grad_fn=<DivBackward0>)\n",
      "tensor(-0.2210, device='cuda:0', grad_fn=<DivBackward0>)\n"
     ]
    }
   ],
   "source": [
    "# Printing cosine similarity of word embeddings\n",
    "word1 = words_to_tensor([\"americans\"], word2index, dtype=torch.LongTensor)\n",
    "word2 = words_to_tensor([\"citizens\"], word2index, dtype=torch.LongTensor)\n",
    "word3 = words_to_tensor([\"lord\"], word2index, dtype=torch.LongTensor)\n",
    "word4 = words_to_tensor([\"god\"], word2index, dtype=torch.LongTensor)\n",
    "w1 = torch.reshape(model.embeddings(word1), (20,))\n",
    "w2 = torch.reshape(model.embeddings(word2), (20,))\n",
    "w3 = torch.reshape(model.embeddings(word3), (20,))\n",
    "w4 = torch.reshape(model.embeddings(word4), (20,))\n",
    "\n",
    "cos = nn.CosineSimilarity(dim=0, eps=1e-6)\n",
    "print(cos(w1,w2)) # americans, citizens\n",
    "print(cos(w1,w3)) # americans, lord\n",
    "print(cos(w1,w4)) # americans, god\n",
    "print(cos(w2,w3)) # citizens, lord\n",
    "print(cos(w2,w4)) # citizens, god\n",
    "print(cos(w3,w4)) # lord, god"
   ]
  }
 ],
 "metadata": {
  "accelerator": "GPU",
  "colab": {
   "collapsed_sections": [],
   "name": "hw9",
   "provenance": []
  },
  "kernelspec": {
   "display_name": "Python 3",
   "language": "python",
   "name": "python3"
  },
  "language_info": {
   "codemirror_mode": {
    "name": "ipython",
    "version": 3
   },
   "file_extension": ".py",
   "mimetype": "text/x-python",
   "name": "python",
   "nbconvert_exporter": "python",
   "pygments_lexer": "ipython3",
   "version": "3.6.10"
  }
 },
 "nbformat": 4,
 "nbformat_minor": 5
}
