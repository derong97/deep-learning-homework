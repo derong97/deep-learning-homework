{
  "nbformat": 4,
  "nbformat_minor": 0,
  "metadata": {
    "colab": {
      "name": "einsum.ipynb",
      "provenance": []
    },
    "kernelspec": {
      "name": "python3",
      "display_name": "Python 3"
    }
  },
  "cells": [
    {
      "cell_type": "code",
      "metadata": {
        "id": "l3wJo-mKrNnm"
      },
      "source": [
        "import torch"
      ],
      "execution_count": 1,
      "outputs": []
    },
    {
      "cell_type": "code",
      "metadata": {
        "colab": {
          "base_uri": "https://localhost:8080/"
        },
        "id": "8E74GXfWrZ-2",
        "outputId": "ed26b71d-dbff-47da-89a9-9eb3cba645ee"
      },
      "source": [
        "# part a: C_jk = \\sum_i A_ijk * b_i\r\n",
        "\r\n",
        "A_ijk = torch.arange(24).reshape(2,3,4)\r\n",
        "b_i = torch.arange(2)\r\n",
        "C_jk = torch.einsum('ijk,i->jk', [A_ijk,b_i])\r\n",
        "\r\n",
        "print(A_ijk.shape) # (2,3,4)\r\n",
        "print(b_i.shape) # (2,)\r\n",
        "print(C_jk.shape) # (3,4)\r\n",
        "\r\n",
        "print(A_ijk)\r\n",
        "print(b_i)\r\n",
        "print(C_jk)"
      ],
      "execution_count": 2,
      "outputs": [
        {
          "output_type": "stream",
          "text": [
            "torch.Size([2, 3, 4])\n",
            "torch.Size([2])\n",
            "torch.Size([3, 4])\n",
            "tensor([[[ 0,  1,  2,  3],\n",
            "         [ 4,  5,  6,  7],\n",
            "         [ 8,  9, 10, 11]],\n",
            "\n",
            "        [[12, 13, 14, 15],\n",
            "         [16, 17, 18, 19],\n",
            "         [20, 21, 22, 23]]])\n",
            "tensor([0, 1])\n",
            "tensor([[12, 13, 14, 15],\n",
            "        [16, 17, 18, 19],\n",
            "        [20, 21, 22, 23]])\n"
          ],
          "name": "stdout"
        }
      ]
    },
    {
      "cell_type": "code",
      "metadata": {
        "colab": {
          "base_uri": "https://localhost:8080/"
        },
        "id": "l8keISXHsjFU",
        "outputId": "e0bafa52-56e4-4118-efd8-5c0ca2ea8b88"
      },
      "source": [
        "# part b: A_ik = \\sum_jl A_ijkl\r\n",
        "\r\n",
        "A_ijkl = torch.arange(120).reshape(2,3,4,5)\r\n",
        "A_ik = torch.einsum('ijkl->ik', [A_ijkl])\r\n",
        "\r\n",
        "print(A_ijkl.shape) # (2,3,4,5)\r\n",
        "print(A_ik.shape) # (2,4)\r\n",
        "\r\n",
        "print(A_ijkl)\r\n",
        "print(A_ik)"
      ],
      "execution_count": 3,
      "outputs": [
        {
          "output_type": "stream",
          "text": [
            "torch.Size([2, 3, 4, 5])\n",
            "torch.Size([2, 4])\n",
            "tensor([[[[  0,   1,   2,   3,   4],\n",
            "          [  5,   6,   7,   8,   9],\n",
            "          [ 10,  11,  12,  13,  14],\n",
            "          [ 15,  16,  17,  18,  19]],\n",
            "\n",
            "         [[ 20,  21,  22,  23,  24],\n",
            "          [ 25,  26,  27,  28,  29],\n",
            "          [ 30,  31,  32,  33,  34],\n",
            "          [ 35,  36,  37,  38,  39]],\n",
            "\n",
            "         [[ 40,  41,  42,  43,  44],\n",
            "          [ 45,  46,  47,  48,  49],\n",
            "          [ 50,  51,  52,  53,  54],\n",
            "          [ 55,  56,  57,  58,  59]]],\n",
            "\n",
            "\n",
            "        [[[ 60,  61,  62,  63,  64],\n",
            "          [ 65,  66,  67,  68,  69],\n",
            "          [ 70,  71,  72,  73,  74],\n",
            "          [ 75,  76,  77,  78,  79]],\n",
            "\n",
            "         [[ 80,  81,  82,  83,  84],\n",
            "          [ 85,  86,  87,  88,  89],\n",
            "          [ 90,  91,  92,  93,  94],\n",
            "          [ 95,  96,  97,  98,  99]],\n",
            "\n",
            "         [[100, 101, 102, 103, 104],\n",
            "          [105, 106, 107, 108, 109],\n",
            "          [110, 111, 112, 113, 114],\n",
            "          [115, 116, 117, 118, 119]]]])\n",
            "tensor([[ 330,  405,  480,  555],\n",
            "        [1230, 1305, 1380, 1455]])\n"
          ],
          "name": "stdout"
        }
      ]
    },
    {
      "cell_type": "code",
      "metadata": {
        "colab": {
          "base_uri": "https://localhost:8080/"
        },
        "id": "ig6g8MS6uUX0",
        "outputId": "9086f2f3-3f24-4857-99d2-9ce8c6278183"
      },
      "source": [
        "# part c: A_ki = \\sum_jl A_ijkl\r\n",
        "\r\n",
        "A_ijkl = torch.arange(120).reshape(2,3,4,5)\r\n",
        "A_ki = torch.einsum('ijkl->ki', [A_ijkl])\r\n",
        "\r\n",
        "print(A_ijkl.shape) # (2,3,4,5)\r\n",
        "print(A_ki.shape) # (4,2)\r\n",
        "\r\n",
        "print(A_ijkl)\r\n",
        "print(A_ki)"
      ],
      "execution_count": 4,
      "outputs": [
        {
          "output_type": "stream",
          "text": [
            "torch.Size([2, 3, 4, 5])\n",
            "torch.Size([4, 2])\n",
            "tensor([[[[  0,   1,   2,   3,   4],\n",
            "          [  5,   6,   7,   8,   9],\n",
            "          [ 10,  11,  12,  13,  14],\n",
            "          [ 15,  16,  17,  18,  19]],\n",
            "\n",
            "         [[ 20,  21,  22,  23,  24],\n",
            "          [ 25,  26,  27,  28,  29],\n",
            "          [ 30,  31,  32,  33,  34],\n",
            "          [ 35,  36,  37,  38,  39]],\n",
            "\n",
            "         [[ 40,  41,  42,  43,  44],\n",
            "          [ 45,  46,  47,  48,  49],\n",
            "          [ 50,  51,  52,  53,  54],\n",
            "          [ 55,  56,  57,  58,  59]]],\n",
            "\n",
            "\n",
            "        [[[ 60,  61,  62,  63,  64],\n",
            "          [ 65,  66,  67,  68,  69],\n",
            "          [ 70,  71,  72,  73,  74],\n",
            "          [ 75,  76,  77,  78,  79]],\n",
            "\n",
            "         [[ 80,  81,  82,  83,  84],\n",
            "          [ 85,  86,  87,  88,  89],\n",
            "          [ 90,  91,  92,  93,  94],\n",
            "          [ 95,  96,  97,  98,  99]],\n",
            "\n",
            "         [[100, 101, 102, 103, 104],\n",
            "          [105, 106, 107, 108, 109],\n",
            "          [110, 111, 112, 113, 114],\n",
            "          [115, 116, 117, 118, 119]]]])\n",
            "tensor([[ 330, 1230],\n",
            "        [ 405, 1305],\n",
            "        [ 480, 1380],\n",
            "        [ 555, 1455]])\n"
          ],
          "name": "stdout"
        }
      ]
    },
    {
      "cell_type": "code",
      "metadata": {
        "colab": {
          "base_uri": "https://localhost:8080/"
        },
        "id": "akksizz6u7w-",
        "outputId": "729e9736-cc2e-4d7c-af49-3ccce20a85df"
      },
      "source": [
        "# part d: C_i = \\sum_jk A_ijk * A_ijk\r\n",
        "\r\n",
        "A_ijk = torch.arange(24).reshape(2,3,4)\r\n",
        "C_i = torch.einsum('ijk,ijk->i', [A_ijk,A_ijk])\r\n",
        "\r\n",
        "print(A_ijk.shape) # (2,3,4)\r\n",
        "print(C_i.shape) # (2,)\r\n",
        "\r\n",
        "print(A_ijk)\r\n",
        "print(C_i)"
      ],
      "execution_count": 5,
      "outputs": [
        {
          "output_type": "stream",
          "text": [
            "torch.Size([2, 3, 4])\n",
            "torch.Size([2])\n",
            "tensor([[[ 0,  1,  2,  3],\n",
            "         [ 4,  5,  6,  7],\n",
            "         [ 8,  9, 10, 11]],\n",
            "\n",
            "        [[12, 13, 14, 15],\n",
            "         [16, 17, 18, 19],\n",
            "         [20, 21, 22, 23]]])\n",
            "tensor([ 506, 3818])\n"
          ],
          "name": "stdout"
        }
      ]
    },
    {
      "cell_type": "code",
      "metadata": {
        "colab": {
          "base_uri": "https://localhost:8080/"
        },
        "id": "xRgf_Vlev2MJ",
        "outputId": "6f310d02-d74a-490c-afec-29dc74449421"
      },
      "source": [
        "# part e: C_dl = \\sum A_de * G_fe^T * B_fl\r\n",
        "\r\n",
        "A_de = torch.arange(6).reshape(2,3)\r\n",
        "G_fe = torch.arange(12).reshape(4,3)\r\n",
        "B_fl = torch.arange(20).reshape(4,5)\r\n",
        "C_dl = torch.einsum('de,ef,fl->dl',[A_de, G_fe.T, B_fl])\r\n",
        "\r\n",
        "print(A_de.shape) # (2,3)\r\n",
        "print(G_fe.T.shape) # (3,4)\r\n",
        "print(B_fl.shape) # (4,5)\r\n",
        "print(C_dl.shape) # (2,5)\r\n",
        "\r\n",
        "print(A_de)\r\n",
        "print(G_fe.T)\r\n",
        "print(B_fl)\r\n",
        "print(C_dl)"
      ],
      "execution_count": 6,
      "outputs": [
        {
          "output_type": "stream",
          "text": [
            "torch.Size([2, 3])\n",
            "torch.Size([3, 4])\n",
            "torch.Size([4, 5])\n",
            "torch.Size([2, 5])\n",
            "tensor([[0, 1, 2],\n",
            "        [3, 4, 5]])\n",
            "tensor([[ 0,  3,  6,  9],\n",
            "        [ 1,  4,  7, 10],\n",
            "        [ 2,  5,  8, 11]])\n",
            "tensor([[ 0,  1,  2,  3,  4],\n",
            "        [ 5,  6,  7,  8,  9],\n",
            "        [10, 11, 12, 13, 14],\n",
            "        [15, 16, 17, 18, 19]])\n",
            "tensor([[ 780,  854,  928, 1002, 1076],\n",
            "        [2940, 3212, 3484, 3756, 4028]])\n"
          ],
          "name": "stdout"
        }
      ]
    }
  ]
}