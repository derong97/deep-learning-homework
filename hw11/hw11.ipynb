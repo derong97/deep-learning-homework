{
 "cells": [
  {
   "cell_type": "markdown",
   "metadata": {},
   "source": [
    "# HW11 - Descriptive Notebook\n",
    "\n",
    "In this homework notebook, we will create a Wasserstein GAN with Convolution and Transpose Convolution layers, to be used on the MNIST dataset.\n",
    "\n",
    "Get familiar with the code and write a small report (2 pages max), with answers to the questions listed at the end of the notebook.\n",
    "\n",
    "**The report must be submitted in PDF format, before April 18th, 11.59pm!**\n",
    "\n",
    "Do not forget to write your name and student ID on the report.\n",
    "\n",
    "You may also submit your own copy of the notebook along with the report. If you do so, please add your name and ID to the cell below."
   ]
  },
  {
   "cell_type": "markdown",
   "metadata": {},
   "source": [
    "**Name: Loh De Rong**\n",
    "\n",
    "**Student ID: 1003557**"
   ]
  },
  {
   "cell_type": "markdown",
   "metadata": {},
   "source": [
    "### Imports needed"
   ]
  },
  {
   "cell_type": "code",
   "execution_count": 1,
   "metadata": {},
   "outputs": [],
   "source": [
    "import matplotlib.pyplot as plt\n",
    "import numpy as np\n",
    "import torch\n",
    "import torch.nn as nn\n",
    "import torch.nn.functional as F\n",
    "import torch.optim as optim\n",
    "import torchvision\n",
    "from torchvision import datasets, transforms\n",
    "from torch import Tensor\n",
    "from torch.autograd import Variable\n",
    "import torch.autograd as autograd\n",
    "from torchvision.utils import save_image"
   ]
  },
  {
   "cell_type": "code",
   "execution_count": 2,
   "metadata": {},
   "outputs": [
    {
     "name": "stdout",
     "output_type": "stream",
     "text": [
      "cuda\n"
     ]
    }
   ],
   "source": [
    "device = torch.device('cuda' if torch.cuda.is_available() else 'cpu')\n",
    "print(device)"
   ]
  },
  {
   "cell_type": "markdown",
   "metadata": {},
   "source": [
    "### Dataset and dataloader"
   ]
  },
  {
   "cell_type": "code",
   "execution_count": 3,
   "metadata": {},
   "outputs": [],
   "source": [
    "# Image transform to be applied to dataset\n",
    "# - Tensor conversion\n",
    "transform = transforms.Compose([transforms.ToTensor()])"
   ]
  },
  {
   "cell_type": "code",
   "execution_count": 4,
   "metadata": {},
   "outputs": [],
   "source": [
    "# MNIST train dataset\n",
    "mnist = torchvision.datasets.MNIST(root = './data/',\n",
    "                                   train = True,\n",
    "                                   transform = transform,\n",
    "                                   download = True)"
   ]
  },
  {
   "cell_type": "code",
   "execution_count": 5,
   "metadata": {},
   "outputs": [],
   "source": [
    "# Data loader\n",
    "batch_size = 32\n",
    "data_loader = torch.utils.data.DataLoader(dataset = mnist,\n",
    "                                          batch_size = batch_size, \n",
    "                                          shuffle = True)"
   ]
  },
  {
   "cell_type": "markdown",
   "metadata": {},
   "source": [
    "### Critic model as a set of Conv2d layers"
   ]
  },
  {
   "cell_type": "markdown",
   "metadata": {},
   "source": [
    "**Task1:** Rewrite the Critic model below, so that it uses Conv2d layers instead of fully connected ones shown in class.\n",
    "\n",
    "You may look for inspiration in the encoder models used in Notebook 3 (W11S1 lecture).\n",
    "\n",
    "The critic should use three Conv2d layers with progressive downsampling.\n",
    "\n",
    "We do not advise to add more layers to the mix (BatchNorm, Dropout, etc.)."
   ]
  },
  {
   "cell_type": "code",
   "execution_count": 6,
   "metadata": {},
   "outputs": [],
   "source": [
    "# Critic\n",
    "class Critic(nn.Module):\n",
    "    \n",
    "    def __init__(self, image_size):\n",
    "        \"\"\"\n",
    "        Only forced parameter will be the image size, set to 28.\n",
    "        \"\"\"\n",
    "        # Init from nn.Module\n",
    "        super().__init__()\n",
    "        \n",
    "        # Conv layers\n",
    "        self.D = nn.Sequential(nn.Conv2d(1, 128, 7, stride = 2),\n",
    "                               nn.LeakyReLU(0.2),\n",
    "                               nn.Conv2d(128, 256, 5, stride = 2, padding = 1),\n",
    "                               nn.LeakyReLU(0.2),\n",
    "                               nn.Conv2d(256, 1, 5, stride = 1)) \n",
    "                \n",
    "    def forward(self, x):\n",
    "        return self.D(x)"
   ]
  },
  {
   "cell_type": "markdown",
   "metadata": {},
   "source": [
    "### Generator model as a set of Transposed Conv2d layers"
   ]
  },
  {
   "cell_type": "markdown",
   "metadata": {},
   "source": [
    "**Task2:** Rewrite the Generator model below, so that it uses Transposed Conv2d layers instead of fully connected ones shown in class.\n",
    "\n",
    "You may look for inspiration in the encoder models used in Notebooks 2 and 3 (W11S1 lecture).\n",
    "\n",
    "The critic should use three Transposed Conv2d layers with progressive upsampling.\n",
    "\n",
    "We do not advise to add more layers to the mix (BatchNorm, Dropout, etc.)."
   ]
  },
  {
   "cell_type": "code",
   "execution_count": 7,
   "metadata": {},
   "outputs": [],
   "source": [
    "# Generator\n",
    "class Generator(nn.Module):\n",
    "    \n",
    "    def __init__(self, latent_size, image_size):\n",
    "        \"\"\"\n",
    "        Only forced parameters will be the image size, set to 28,\n",
    "        and the latent size set to 64.\n",
    "        \"\"\"\n",
    "        # Init from nn.Module\n",
    "        super().__init__()\n",
    "        \n",
    "        # ConvTranspose layers\n",
    "        self.G = nn.Sequential(nn.ConvTranspose2d(latent_size, 32, 7, stride = 1),\n",
    "                               nn.LeakyReLU(0.2),\n",
    "                               nn.ConvTranspose2d(32, 16, 3, stride = 2, output_padding = 1, padding = 1),\n",
    "                               nn.LeakyReLU(0.2),\n",
    "                               nn.ConvTranspose2d(16, 1, 3, stride = 2, output_padding = 1, padding = 1),\n",
    "                               nn.Tanh())\n",
    "        \n",
    "    def forward(self, x):\n",
    "        return self.G(x)"
   ]
  },
  {
   "cell_type": "markdown",
   "metadata": {},
   "source": [
    "### Trainer function\n",
    "\n",
    "**Task 3:** Decide on a number of iterations num_epochs for training!"
   ]
  },
  {
   "cell_type": "code",
   "execution_count": 8,
   "metadata": {},
   "outputs": [],
   "source": [
    "# Hyperparameters for model generation and training\n",
    "latent_size = 64\n",
    "image_size = 28\n",
    "num_epochs = 20\n",
    "batch_size = 32"
   ]
  },
  {
   "cell_type": "code",
   "execution_count": 9,
   "metadata": {},
   "outputs": [
    {
     "data": {
      "text/plain": [
       "Critic(\n",
       "  (D): Sequential(\n",
       "    (0): Conv2d(1, 128, kernel_size=(7, 7), stride=(2, 2))\n",
       "    (1): LeakyReLU(negative_slope=0.2)\n",
       "    (2): Conv2d(128, 256, kernel_size=(5, 5), stride=(2, 2), padding=(1, 1))\n",
       "    (3): LeakyReLU(negative_slope=0.2)\n",
       "    (4): Conv2d(256, 1, kernel_size=(5, 5), stride=(1, 1))\n",
       "  )\n",
       ")"
      ]
     },
     "execution_count": 9,
     "metadata": {},
     "output_type": "execute_result"
    }
   ],
   "source": [
    "# Create discriminator model\n",
    "f = Critic(image_size)\n",
    "f.to(device)"
   ]
  },
  {
   "cell_type": "code",
   "execution_count": 10,
   "metadata": {},
   "outputs": [
    {
     "data": {
      "text/plain": [
       "Generator(\n",
       "  (G): Sequential(\n",
       "    (0): ConvTranspose2d(64, 32, kernel_size=(7, 7), stride=(1, 1))\n",
       "    (1): LeakyReLU(negative_slope=0.2)\n",
       "    (2): ConvTranspose2d(32, 16, kernel_size=(3, 3), stride=(2, 2), padding=(1, 1), output_padding=(1, 1))\n",
       "    (3): LeakyReLU(negative_slope=0.2)\n",
       "    (4): ConvTranspose2d(16, 1, kernel_size=(3, 3), stride=(2, 2), padding=(1, 1), output_padding=(1, 1))\n",
       "    (5): Tanh()\n",
       "  )\n",
       ")"
      ]
     },
     "execution_count": 10,
     "metadata": {},
     "output_type": "execute_result"
    }
   ],
   "source": [
    "# Create generator model\n",
    "G = Generator(latent_size, image_size)\n",
    "G.to(device)"
   ]
  },
  {
   "cell_type": "code",
   "execution_count": 11,
   "metadata": {},
   "outputs": [],
   "source": [
    "# Losses and optimizers\n",
    "d_optimizer = torch.optim.Adam(f.parameters(), lr = 0.0002)\n",
    "g_optimizer = torch.optim.Adam(G.parameters(), lr = 0.0002)"
   ]
  },
  {
   "cell_type": "code",
   "execution_count": 12,
   "metadata": {},
   "outputs": [],
   "source": [
    "# History trackers for training curves\n",
    "# Keeping track of losses\n",
    "d_losses = np.zeros(num_epochs)\n",
    "g_losses = np.zeros(num_epochs)"
   ]
  },
  {
   "cell_type": "markdown",
   "metadata": {},
   "source": [
    "**Note: running the cell below (our trainer function) will take a long time!**"
   ]
  },
  {
   "cell_type": "code",
   "execution_count": 13,
   "metadata": {},
   "outputs": [
    {
     "name": "stdout",
     "output_type": "stream",
     "text": [
      "Epoch [0/20], Step [200/1875], d_loss: -3.8647, g_loss: -1.2256\n",
      "Epoch [0/20], Step [400/1875], d_loss: -1.6865, g_loss: 0.0088\n",
      "Epoch [0/20], Step [600/1875], d_loss: -1.4990, g_loss: -1.4417\n",
      "Epoch [0/20], Step [800/1875], d_loss: -1.4334, g_loss: -0.1695\n",
      "Epoch [0/20], Step [1000/1875], d_loss: -1.4563, g_loss: -0.0566\n",
      "Epoch [0/20], Step [1200/1875], d_loss: -1.5848, g_loss: 1.5721\n",
      "Epoch [0/20], Step [1400/1875], d_loss: -1.0860, g_loss: -1.9940\n",
      "Epoch [0/20], Step [1600/1875], d_loss: -1.2359, g_loss: -0.7748\n",
      "Epoch [0/20], Step [1800/1875], d_loss: -1.2512, g_loss: -0.0139\n",
      "Epoch [1/20], Step [200/1875], d_loss: -1.0788, g_loss: 0.7702\n",
      "Epoch [1/20], Step [400/1875], d_loss: -1.1411, g_loss: 1.7021\n",
      "Epoch [1/20], Step [600/1875], d_loss: -1.1684, g_loss: -0.2827\n",
      "Epoch [1/20], Step [800/1875], d_loss: -0.9837, g_loss: -1.4538\n",
      "Epoch [1/20], Step [1000/1875], d_loss: -0.9965, g_loss: -0.5356\n",
      "Epoch [1/20], Step [1200/1875], d_loss: -0.9294, g_loss: 1.2354\n",
      "Epoch [1/20], Step [1400/1875], d_loss: -0.9199, g_loss: 1.5984\n",
      "Epoch [1/20], Step [1600/1875], d_loss: -0.9782, g_loss: -2.5330\n",
      "Epoch [1/20], Step [1800/1875], d_loss: -0.9386, g_loss: -0.2522\n",
      "Epoch [2/20], Step [200/1875], d_loss: -1.0507, g_loss: 0.4667\n",
      "Epoch [2/20], Step [400/1875], d_loss: -0.8735, g_loss: 1.4683\n",
      "Epoch [2/20], Step [600/1875], d_loss: -0.8305, g_loss: -1.0049\n",
      "Epoch [2/20], Step [800/1875], d_loss: -0.7843, g_loss: 0.2712\n",
      "Epoch [2/20], Step [1000/1875], d_loss: -0.7634, g_loss: -0.4391\n",
      "Epoch [2/20], Step [1200/1875], d_loss: -0.7100, g_loss: -1.8944\n",
      "Epoch [2/20], Step [1400/1875], d_loss: -0.8065, g_loss: -1.5728\n",
      "Epoch [2/20], Step [1600/1875], d_loss: -0.6840, g_loss: 0.2651\n",
      "Epoch [2/20], Step [1800/1875], d_loss: -0.6107, g_loss: 0.3732\n",
      "Epoch [3/20], Step [200/1875], d_loss: -0.9311, g_loss: -2.9263\n",
      "Epoch [3/20], Step [400/1875], d_loss: -0.6465, g_loss: 0.1038\n",
      "Epoch [3/20], Step [600/1875], d_loss: -0.6595, g_loss: -0.8359\n",
      "Epoch [3/20], Step [800/1875], d_loss: -0.7701, g_loss: 1.0763\n",
      "Epoch [3/20], Step [1000/1875], d_loss: -0.6144, g_loss: -2.7463\n",
      "Epoch [3/20], Step [1200/1875], d_loss: -0.6518, g_loss: -0.2225\n",
      "Epoch [3/20], Step [1400/1875], d_loss: -0.8015, g_loss: -1.7455\n",
      "Epoch [3/20], Step [1600/1875], d_loss: -0.6046, g_loss: 0.2149\n",
      "Epoch [3/20], Step [1800/1875], d_loss: -0.7343, g_loss: -0.9423\n",
      "Epoch [4/20], Step [200/1875], d_loss: -0.7471, g_loss: 0.5147\n",
      "Epoch [4/20], Step [400/1875], d_loss: -0.6366, g_loss: -0.8288\n",
      "Epoch [4/20], Step [600/1875], d_loss: -0.6508, g_loss: -0.1863\n",
      "Epoch [4/20], Step [800/1875], d_loss: -0.3226, g_loss: -2.4713\n",
      "Epoch [4/20], Step [1000/1875], d_loss: -0.7701, g_loss: -2.1785\n",
      "Epoch [4/20], Step [1200/1875], d_loss: -0.6900, g_loss: -0.2456\n",
      "Epoch [4/20], Step [1400/1875], d_loss: -0.8733, g_loss: 1.4422\n",
      "Epoch [4/20], Step [1600/1875], d_loss: -0.5432, g_loss: -0.1638\n",
      "Epoch [4/20], Step [1800/1875], d_loss: -0.6185, g_loss: 0.6963\n",
      "Epoch [5/20], Step [200/1875], d_loss: -0.6127, g_loss: -0.8703\n",
      "Epoch [5/20], Step [400/1875], d_loss: -0.7241, g_loss: -0.6094\n",
      "Epoch [5/20], Step [600/1875], d_loss: -0.6999, g_loss: -2.4846\n",
      "Epoch [5/20], Step [800/1875], d_loss: -0.9919, g_loss: 1.5604\n",
      "Epoch [5/20], Step [1000/1875], d_loss: -0.3778, g_loss: 0.6914\n",
      "Epoch [5/20], Step [1200/1875], d_loss: -0.5024, g_loss: -0.6055\n",
      "Epoch [5/20], Step [1400/1875], d_loss: -0.5807, g_loss: -1.0551\n",
      "Epoch [5/20], Step [1600/1875], d_loss: -0.7376, g_loss: -1.8765\n",
      "Epoch [5/20], Step [1800/1875], d_loss: -0.6406, g_loss: -0.8418\n",
      "Epoch [6/20], Step [200/1875], d_loss: -0.5849, g_loss: 0.7961\n",
      "Epoch [6/20], Step [400/1875], d_loss: -0.4750, g_loss: -1.2928\n",
      "Epoch [6/20], Step [600/1875], d_loss: -0.5444, g_loss: -0.9289\n",
      "Epoch [6/20], Step [800/1875], d_loss: -0.6523, g_loss: -1.2050\n",
      "Epoch [6/20], Step [1000/1875], d_loss: -0.5337, g_loss: -1.1869\n",
      "Epoch [6/20], Step [1200/1875], d_loss: -0.9818, g_loss: -2.8131\n",
      "Epoch [6/20], Step [1400/1875], d_loss: -0.5021, g_loss: -1.3618\n",
      "Epoch [6/20], Step [1600/1875], d_loss: -0.3837, g_loss: -3.0435\n",
      "Epoch [6/20], Step [1800/1875], d_loss: -0.5806, g_loss: -1.3522\n",
      "Epoch [7/20], Step [200/1875], d_loss: -1.0744, g_loss: -3.9503\n",
      "Epoch [7/20], Step [400/1875], d_loss: -0.5668, g_loss: -1.7291\n",
      "Epoch [7/20], Step [600/1875], d_loss: -0.4412, g_loss: -2.2808\n",
      "Epoch [7/20], Step [800/1875], d_loss: -0.5714, g_loss: 1.1823\n",
      "Epoch [7/20], Step [1000/1875], d_loss: -0.7503, g_loss: -3.3430\n",
      "Epoch [7/20], Step [1200/1875], d_loss: -0.1516, g_loss: 1.4160\n",
      "Epoch [7/20], Step [1400/1875], d_loss: -0.4689, g_loss: -0.4109\n",
      "Epoch [7/20], Step [1600/1875], d_loss: -0.4660, g_loss: 1.4536\n",
      "Epoch [7/20], Step [1800/1875], d_loss: -0.4510, g_loss: -2.4224\n",
      "Epoch [8/20], Step [200/1875], d_loss: -0.4489, g_loss: -2.7493\n",
      "Epoch [8/20], Step [400/1875], d_loss: -0.6179, g_loss: 0.9755\n",
      "Epoch [8/20], Step [600/1875], d_loss: -0.5403, g_loss: -0.1092\n",
      "Epoch [8/20], Step [800/1875], d_loss: -0.5157, g_loss: -1.6861\n",
      "Epoch [8/20], Step [1000/1875], d_loss: -0.4049, g_loss: 1.2749\n",
      "Epoch [8/20], Step [1200/1875], d_loss: -0.5971, g_loss: 0.9188\n",
      "Epoch [8/20], Step [1400/1875], d_loss: -0.3685, g_loss: -2.4198\n",
      "Epoch [8/20], Step [1600/1875], d_loss: -0.5241, g_loss: -1.8588\n",
      "Epoch [8/20], Step [1800/1875], d_loss: -0.5293, g_loss: -2.0217\n",
      "Epoch [9/20], Step [200/1875], d_loss: -0.5326, g_loss: -0.6743\n",
      "Epoch [9/20], Step [400/1875], d_loss: -0.4937, g_loss: -2.1172\n",
      "Epoch [9/20], Step [600/1875], d_loss: -0.5468, g_loss: 0.3253\n",
      "Epoch [9/20], Step [800/1875], d_loss: -0.4555, g_loss: -1.2785\n",
      "Epoch [9/20], Step [1000/1875], d_loss: -0.5818, g_loss: -3.6376\n",
      "Epoch [9/20], Step [1200/1875], d_loss: -0.3411, g_loss: -2.2520\n",
      "Epoch [9/20], Step [1400/1875], d_loss: -0.3431, g_loss: -2.4162\n",
      "Epoch [9/20], Step [1600/1875], d_loss: -0.5155, g_loss: -1.1412\n",
      "Epoch [9/20], Step [1800/1875], d_loss: -0.4682, g_loss: -1.9780\n",
      "Epoch [10/20], Step [200/1875], d_loss: -0.5386, g_loss: 1.0087\n",
      "Epoch [10/20], Step [400/1875], d_loss: -0.3837, g_loss: -2.5194\n",
      "Epoch [10/20], Step [600/1875], d_loss: -0.6386, g_loss: -2.4865\n",
      "Epoch [10/20], Step [800/1875], d_loss: -0.4573, g_loss: 1.2527\n",
      "Epoch [10/20], Step [1000/1875], d_loss: -0.5239, g_loss: -1.1086\n",
      "Epoch [10/20], Step [1200/1875], d_loss: -0.3660, g_loss: -1.0443\n",
      "Epoch [10/20], Step [1400/1875], d_loss: -0.5995, g_loss: -1.4818\n",
      "Epoch [10/20], Step [1600/1875], d_loss: -0.5765, g_loss: 0.5728\n",
      "Epoch [10/20], Step [1800/1875], d_loss: -0.3673, g_loss: -2.7659\n",
      "Epoch [11/20], Step [200/1875], d_loss: -0.8548, g_loss: -4.0455\n",
      "Epoch [11/20], Step [400/1875], d_loss: -0.2958, g_loss: -1.9222\n",
      "Epoch [11/20], Step [600/1875], d_loss: -0.3457, g_loss: 1.1206\n",
      "Epoch [11/20], Step [800/1875], d_loss: -0.3248, g_loss: -1.1198\n",
      "Epoch [11/20], Step [1000/1875], d_loss: -0.5090, g_loss: 1.1038\n",
      "Epoch [11/20], Step [1200/1875], d_loss: -0.3682, g_loss: 1.2128\n",
      "Epoch [11/20], Step [1400/1875], d_loss: -0.3957, g_loss: -2.0472\n",
      "Epoch [11/20], Step [1600/1875], d_loss: -0.5398, g_loss: 0.7136\n",
      "Epoch [11/20], Step [1800/1875], d_loss: -0.4772, g_loss: -1.2597\n",
      "Epoch [12/20], Step [200/1875], d_loss: -0.5064, g_loss: -2.2319\n",
      "Epoch [12/20], Step [400/1875], d_loss: -0.4302, g_loss: -1.1068\n",
      "Epoch [12/20], Step [600/1875], d_loss: -0.4550, g_loss: -0.1986\n",
      "Epoch [12/20], Step [800/1875], d_loss: -0.1373, g_loss: -2.3506\n",
      "Epoch [12/20], Step [1000/1875], d_loss: -0.5111, g_loss: -3.0578\n",
      "Epoch [12/20], Step [1200/1875], d_loss: -0.2660, g_loss: -3.4569\n",
      "Epoch [12/20], Step [1400/1875], d_loss: -0.5954, g_loss: 0.6888\n",
      "Epoch [12/20], Step [1600/1875], d_loss: -0.5678, g_loss: 1.7306\n",
      "Epoch [12/20], Step [1800/1875], d_loss: -0.4621, g_loss: -2.2676\n",
      "Epoch [13/20], Step [200/1875], d_loss: -0.5075, g_loss: 1.1156\n",
      "Epoch [13/20], Step [400/1875], d_loss: -0.3268, g_loss: 1.1031\n",
      "Epoch [13/20], Step [600/1875], d_loss: -0.4134, g_loss: 0.5469\n",
      "Epoch [13/20], Step [800/1875], d_loss: -0.2194, g_loss: -3.0097\n",
      "Epoch [13/20], Step [1000/1875], d_loss: -0.4811, g_loss: -2.4357\n",
      "Epoch [13/20], Step [1200/1875], d_loss: -0.6217, g_loss: 1.0492\n",
      "Epoch [13/20], Step [1400/1875], d_loss: -0.2571, g_loss: -1.2314\n",
      "Epoch [13/20], Step [1600/1875], d_loss: -0.4124, g_loss: -2.4866\n",
      "Epoch [13/20], Step [1800/1875], d_loss: -0.3048, g_loss: 0.6593\n",
      "Epoch [14/20], Step [200/1875], d_loss: -0.3012, g_loss: -2.7691\n"
     ]
    },
    {
     "name": "stdout",
     "output_type": "stream",
     "text": [
      "Epoch [14/20], Step [400/1875], d_loss: -0.4491, g_loss: -1.9381\n",
      "Epoch [14/20], Step [600/1875], d_loss: -0.4175, g_loss: 0.1951\n",
      "Epoch [14/20], Step [800/1875], d_loss: -0.3666, g_loss: -1.2227\n",
      "Epoch [14/20], Step [1000/1875], d_loss: -0.1474, g_loss: -2.2765\n",
      "Epoch [14/20], Step [1200/1875], d_loss: -0.3080, g_loss: -0.6311\n",
      "Epoch [14/20], Step [1400/1875], d_loss: -0.6293, g_loss: -2.4782\n",
      "Epoch [14/20], Step [1600/1875], d_loss: -0.4096, g_loss: -1.1839\n",
      "Epoch [14/20], Step [1800/1875], d_loss: -0.5377, g_loss: -3.0781\n",
      "Epoch [15/20], Step [200/1875], d_loss: -0.4078, g_loss: -1.1171\n",
      "Epoch [15/20], Step [400/1875], d_loss: -0.3657, g_loss: -2.0694\n",
      "Epoch [15/20], Step [600/1875], d_loss: -0.4864, g_loss: -2.1209\n",
      "Epoch [15/20], Step [800/1875], d_loss: -0.3275, g_loss: -0.1371\n",
      "Epoch [15/20], Step [1000/1875], d_loss: -0.3880, g_loss: 0.1285\n",
      "Epoch [15/20], Step [1200/1875], d_loss: -0.2946, g_loss: -3.8290\n",
      "Epoch [15/20], Step [1400/1875], d_loss: -0.7396, g_loss: -3.5749\n",
      "Epoch [15/20], Step [1600/1875], d_loss: -0.6896, g_loss: 1.3484\n",
      "Epoch [15/20], Step [1800/1875], d_loss: -0.2858, g_loss: -2.9078\n",
      "Epoch [16/20], Step [200/1875], d_loss: -0.3563, g_loss: 1.0892\n",
      "Epoch [16/20], Step [400/1875], d_loss: -0.3750, g_loss: -1.1224\n",
      "Epoch [16/20], Step [600/1875], d_loss: -0.5407, g_loss: -1.8583\n",
      "Epoch [16/20], Step [800/1875], d_loss: -0.3047, g_loss: -0.0587\n",
      "Epoch [16/20], Step [1000/1875], d_loss: -0.3347, g_loss: -0.3562\n",
      "Epoch [16/20], Step [1200/1875], d_loss: -0.5512, g_loss: 1.2569\n",
      "Epoch [16/20], Step [1400/1875], d_loss: -0.3126, g_loss: 1.0158\n",
      "Epoch [16/20], Step [1600/1875], d_loss: -0.4174, g_loss: -0.1095\n",
      "Epoch [16/20], Step [1800/1875], d_loss: -0.2464, g_loss: -1.8556\n",
      "Epoch [17/20], Step [200/1875], d_loss: -0.4664, g_loss: -2.5627\n",
      "Epoch [17/20], Step [400/1875], d_loss: -0.4461, g_loss: -2.7124\n",
      "Epoch [17/20], Step [600/1875], d_loss: -0.3237, g_loss: -1.9268\n",
      "Epoch [17/20], Step [800/1875], d_loss: -0.5714, g_loss: 0.3465\n",
      "Epoch [17/20], Step [1000/1875], d_loss: -0.3445, g_loss: -0.0283\n",
      "Epoch [17/20], Step [1200/1875], d_loss: -0.3388, g_loss: -2.1249\n",
      "Epoch [17/20], Step [1400/1875], d_loss: -0.4118, g_loss: -2.5550\n",
      "Epoch [17/20], Step [1600/1875], d_loss: -0.3554, g_loss: -3.2048\n",
      "Epoch [17/20], Step [1800/1875], d_loss: -0.3766, g_loss: 0.8183\n",
      "Epoch [18/20], Step [200/1875], d_loss: -0.4742, g_loss: 0.6957\n",
      "Epoch [18/20], Step [400/1875], d_loss: -0.3150, g_loss: -0.6653\n",
      "Epoch [18/20], Step [600/1875], d_loss: -0.3680, g_loss: -1.0444\n",
      "Epoch [18/20], Step [800/1875], d_loss: -0.3808, g_loss: -0.3538\n",
      "Epoch [18/20], Step [1000/1875], d_loss: -0.2948, g_loss: -0.9048\n",
      "Epoch [18/20], Step [1200/1875], d_loss: -0.2433, g_loss: 0.5805\n",
      "Epoch [18/20], Step [1400/1875], d_loss: -0.2283, g_loss: 0.8187\n",
      "Epoch [18/20], Step [1600/1875], d_loss: -0.3230, g_loss: -4.1644\n",
      "Epoch [18/20], Step [1800/1875], d_loss: -0.4108, g_loss: -2.0008\n",
      "Epoch [19/20], Step [200/1875], d_loss: -0.3766, g_loss: -3.8412\n",
      "Epoch [19/20], Step [400/1875], d_loss: -0.3295, g_loss: -0.9319\n",
      "Epoch [19/20], Step [600/1875], d_loss: -0.5254, g_loss: -2.6051\n",
      "Epoch [19/20], Step [800/1875], d_loss: -0.3520, g_loss: -2.6696\n",
      "Epoch [19/20], Step [1000/1875], d_loss: -0.0046, g_loss: -2.7435\n",
      "Epoch [19/20], Step [1200/1875], d_loss: -0.2248, g_loss: -1.2329\n",
      "Epoch [19/20], Step [1400/1875], d_loss: -0.4044, g_loss: -2.5922\n",
      "Epoch [19/20], Step [1600/1875], d_loss: -0.1633, g_loss: -1.5630\n",
      "Epoch [19/20], Step [1800/1875], d_loss: -0.2105, g_loss: -1.9055\n"
     ]
    }
   ],
   "source": [
    "total_step = len(data_loader)\n",
    "for epoch in range(num_epochs):\n",
    "    for i, (images, _) in enumerate(data_loader):\n",
    "        \n",
    "        # 1. Send image to device\n",
    "        images = Variable(images.to(device), requires_grad = True)\n",
    "        \n",
    "        \"\"\"\n",
    "        PART 1: TRAIN THE CRITIC\n",
    "        \"\"\"\n",
    "\n",
    "        for j in range(3):\n",
    "            # 2. Compute mean of critic decisions using real images\n",
    "            outputs_real = f(images)\n",
    "\n",
    "            # 2.bis. Compute mean of critic decisions using fake images\n",
    "            z = torch.randn(batch_size, latent_size, 1, 1).to(device)\n",
    "            z = Variable(z)\n",
    "            fake_images = G(z)\n",
    "            outputs_fake = f(fake_images)\n",
    "\n",
    "            # 3. Compute gradient regularization\n",
    "            real_grad_out = Variable(Tensor(images.size(0), 1, 1, 1).fill_(1.0), requires_grad = False).to(device)\n",
    "            real_grad = autograd.grad(outputs_real, images, real_grad_out, create_graph = True, \\\n",
    "                                      retain_graph = True, only_inputs = True)[0]\n",
    "            real_grad_norm = real_grad.view(real_grad.size(0), -1).pow(2).sum(1)**3\n",
    "            fake_grad_out = Variable(Tensor(fake_images.size(0), 1, 1, 1).fill_(1.0), requires_grad = False).to(device)\n",
    "            fake_grad = autograd.grad(outputs_fake, fake_images, fake_grad_out, create_graph = True, \\\n",
    "                                      retain_graph = True, only_inputs = True)[0]\n",
    "            fake_grad_norm = fake_grad.view(fake_grad.size(0), -1).pow(2).sum(1)**3\n",
    "            reg_term = torch.mean(real_grad_norm + fake_grad_norm)\n",
    "\n",
    "            # 4. Backprop and optimize for f\n",
    "            # Loss is simply the difference between means, plus regularization term\n",
    "            # Remember to reset gradients for both optimizers!\n",
    "            d_loss = -torch.mean(outputs_real) + torch.mean(outputs_fake) + reg_term\n",
    "            d_optimizer.zero_grad()\n",
    "            g_optimizer.zero_grad()\n",
    "            d_loss.backward()\n",
    "            d_optimizer.step()\n",
    "\n",
    "            # 4.bis. Optional, weight clipping on critic\n",
    "            # (Mentioned in WGAN paper)\n",
    "            for p in f.parameters():\n",
    "                p.data.clamp_(-0.01, 0.01)\n",
    "        \n",
    "        \"\"\"\n",
    "        PART 2: TRAIN THE GENERATOR\n",
    "        \"\"\"\n",
    "\n",
    "        # 5. Generate fresh noise samples and produce fake images\n",
    "        z = torch.randn(batch_size, latent_size, 1, 1).cuda()\n",
    "        z = Variable(z)\n",
    "        fake_images = G(z)\n",
    "        outputs = f(fake_images)\n",
    "        \n",
    "        # 6. Loss for G\n",
    "        g_loss = - torch.mean(outputs)\n",
    "        \n",
    "        # 7. Backprop and optimize G\n",
    "        # Remember to reset gradients for both optimizers!\n",
    "        d_optimizer.zero_grad()\n",
    "        g_optimizer.zero_grad()\n",
    "        g_loss.backward()\n",
    "        g_optimizer.step()\n",
    "        \n",
    "        \n",
    "        \"\"\"\n",
    "        PART 3: UPDATE STATISTICS FOR VISUALIZATION LATER\n",
    "        \"\"\"\n",
    "        \n",
    "        # 8. Update the losses and scores for mini-batches\n",
    "        d_losses[epoch] = d_losses[epoch]*(i/(i+1.)) \\\n",
    "            + d_loss.item()*(1./(i+1.))\n",
    "        g_losses[epoch] = g_losses[epoch]*(i/(i+1.)) \\\n",
    "            + g_loss.item()*(1./(i+1.))\n",
    "        \n",
    "        # 9. Display\n",
    "        if (i+1) % 200 == 0:\n",
    "            print('Epoch [{}/{}], Step [{}/{}], d_loss: {:.4f}, g_loss: {:.4f}' \n",
    "                  .format(epoch, num_epochs, i+1, total_step, d_loss.item(), g_loss.item()))"
   ]
  },
  {
   "cell_type": "markdown",
   "metadata": {},
   "source": [
    "### Visualization"
   ]
  },
  {
   "cell_type": "code",
   "execution_count": 14,
   "metadata": {},
   "outputs": [
    {
     "data": {
      "image/png": "[encoded data removed]",
      "text/plain": [
       "<Figure size 432x288 with 1 Axes>"
      ]
     },
     "metadata": {
      "needs_background": "light"
     },
     "output_type": "display_data"
    }
   ],
   "source": [
    "# Display losses for both the generator and discriminator\n",
    "plt.figure()\n",
    "plt.plot(range(1, num_epochs + 1), d_losses, label = 'd loss')\n",
    "plt.plot(range(1, num_epochs + 1), g_losses, label = 'g loss')    \n",
    "plt.legend()\n",
    "plt.show()"
   ]
  },
  {
   "cell_type": "code",
   "execution_count": 15,
   "metadata": {},
   "outputs": [
    {
     "name": "stdout",
     "output_type": "stream",
     "text": [
      "(5, 28, 28)\n"
     ]
    }
   ],
   "source": [
    "# Generate a few fake samples (5 of them) for visualization\n",
    "n_samples = 5\n",
    "z = torch.randn(n_samples, latent_size, 1, 1).cuda()\n",
    "z = Variable(z)\n",
    "fake_images = G(z)\n",
    "fake_images = fake_images.cpu().detach().numpy().reshape(n_samples, 28, 28)\n",
    "print(fake_images.shape)"
   ]
  },
  {
   "cell_type": "code",
   "execution_count": 16,
   "metadata": {},
   "outputs": [
    {
     "data": {
      "image/png": "[encoded data removed]",
      "text/plain": [
       "<Figure size 432x288 with 1 Axes>"
      ]
     },
     "metadata": {
      "needs_background": "light"
     },
     "output_type": "display_data"
    },
    {
     "data": {
      "image/png": "[encoded data removed]",
      "text/plain": [
       "<Figure size 432x288 with 1 Axes>"
      ]
     },
     "metadata": {
      "needs_background": "light"
     },
     "output_type": "display_data"
    },
    {
     "data": {
      "image/png": "[encoded data removed]",
      "text/plain": [
       "<Figure size 432x288 with 1 Axes>"
      ]
     },
     "metadata": {
      "needs_background": "light"
     },
     "output_type": "display_data"
    },
    {
     "data": {
      "image/png": "[encoded data removed]",
      "text/plain": [
       "<Figure size 432x288 with 1 Axes>"
      ]
     },
     "metadata": {
      "needs_background": "light"
     },
     "output_type": "display_data"
    },
    {
     "data": {
      "image/png": "[encoded data removed]",
      "text/plain": [
       "<Figure size 432x288 with 1 Axes>"
      ]
     },
     "metadata": {
      "needs_background": "light"
     },
     "output_type": "display_data"
    }
   ],
   "source": [
    "# Display\n",
    "plt.figure()\n",
    "plt.imshow(fake_images[0])\n",
    "plt.show()\n",
    "plt.figure()\n",
    "plt.imshow(fake_images[1])\n",
    "plt.show()\n",
    "plt.figure()\n",
    "plt.imshow(fake_images[2])\n",
    "plt.show()\n",
    "plt.figure()\n",
    "plt.imshow(fake_images[3])\n",
    "plt.show()\n",
    "plt.figure()\n",
    "plt.imshow(fake_images[4])\n",
    "plt.show()"
   ]
  },
  {
   "cell_type": "markdown",
   "metadata": {},
   "source": [
    "### Questions and expected answers for the report\n",
    "\n",
    "**1. Copy and paste the code for your Critic class. Briefly explain your choice of architecture.**\n",
    "\n",
    "    # Critic\n",
    "    class Critic(nn.Module):\n",
    "\n",
    "        def __init__(self, image_size):\n",
    "            \"\"\"\n",
    "            Only forced parameter will be the image size, set to 28.\n",
    "            \"\"\"\n",
    "            # Init from nn.Module\n",
    "            super().__init__()\n",
    "\n",
    "            # Conv layers\n",
    "            self.D = nn.Sequential(nn.Conv2d(1, 128, 7, stride = 2),\n",
    "                                   nn.LeakyReLU(0.2),\n",
    "                                   nn.Conv2d(128, 256, 5, stride = 2, padding = 1),\n",
    "                                   nn.LeakyReLU(0.2),\n",
    "                                   nn.Conv2d(256, 1, 5, stride = 1)) \n",
    "\n",
    "        def forward(self, x):\n",
    "            return self.D(x)\n",
    "\n",
    "For the first two layers, the number of channels progressively increases while the spatial dimension decreases. This is to capture more high-level concepts in different activation maps. The use of LeakyRelu could help introduce non-linearity as well as ensure the invertibility property, in the hopes of more effective learning.\n",
    "\n",
    "\n",
    "**2. Copy and paste the code for your Generator class. Briefly explain your choice of architecture.**\n",
    "\n",
    "    # Generator\n",
    "    class Generator(nn.Module):\n",
    "\n",
    "        def __init__(self, latent_size, image_size):\n",
    "            \"\"\"\n",
    "            Only forced parameters will be the image size, set to 28,\n",
    "            and the latent size set to 64.\n",
    "            \"\"\"\n",
    "            # Init from nn.Module\n",
    "            super().__init__()\n",
    "\n",
    "            # ConvTranspose layers\n",
    "            self.G = nn.Sequential(nn.ConvTranspose2d(latent_size, 32, 7, stride = 1),\n",
    "                                   nn.LeakyReLU(0.2),\n",
    "                                   nn.ConvTranspose2d(32, 16, 3, stride = 2, output_padding = 1, padding = 1),\n",
    "                                   nn.LeakyReLU(0.2),\n",
    "                                   nn.ConvTranspose2d(16, 1, 3, stride = 2, output_padding = 1, padding = 1),\n",
    "                                   nn.Tanh())\n",
    "\n",
    "        def forward(self, x):\n",
    "            return self.G(x)\n",
    "\n",
    "The number of channels progressively decreases while the spatial dimension increases through upsampling. In particular, the use of deconvolutional layers has learnable parameters that can be updated during backpropagation. The use of LeakyRelu could help introduce non-linearity as well as ensure the invertibility property, in the hopes of more effective learning. The use of Tanh activation function in the final layer is to normalize the image.\n",
    "\n",
    "**3. For how many iterations did you have to train when using Wasserstein with Conv/TransposeConv layers to get plausible images from the generator? Is it training faster than the Fully Connected Wasserstein/Vanilla GAN?**\n",
    "\n",
    "I had to train for around 20 epochs. In terms of the amount of training time required for convergence, training using Wasserstein with Conv/TransposeConv layers is faster than with Fully Connected Wasserstein/Vanilla GAN. This is likely because the convolutional layers can perform better as feature extractor.\n",
    "\n",
    "However, in terms of training time per epoch, it takes longer to train with Conv/TransposeConv layers. This is because there are more parameters for the convolutional layers (due to the large number of input and output channels) than the Fully Connected layers, as well as more convolutions (and hence scalar multiplications) that need to be performed, resulting in longer time for each pass. \n",
    "\n",
    "During my training, I realize that my Generator model was overpowering my Critic model, so it was very difficult for my Critic model to learn and discriminate the fake images in this kind of 1-to-1 interleaved training mode. As a result, there was no incentive for the Generator model to produce more plausible images to trick the Critic model. Therefore, I also increased the number of training iterations for my Critic model to give it more training time, as compared to the Generator model. This evens out the learning capability of each model, which helps in the training of the Generator model to produce more plausible images, but at the expense of more training time for every epoch.\n",
    "\n",
    "**4. Display some samples generated by your trained generator. Do they look plausible?**\n",
    "\n",
    "Refer to the images shown. The images are plausible, but not as great as the Fully Connected Wasserstein/Vanilla GAN.\n",
    "\n",
    "**5. Let us assume we use Conv2d layers in the Critic. We do NOT use Transposed Conv2d layers, but only Fully Connected layers in the Generator. Would the GAN still be able to train both models or would it encounter difficulties? Discuss.**\n",
    "\n",
    "Yes, the GAN would still be able to train both models. Fully connected layers can approximate any functions, and should be able \n",
    "to generate plausible images with sufficient learning. However, the models using Fully Connected layers might face more difficulty in picking up local features, and take a time longer time to converge."
   ]
  },
  {
   "cell_type": "code",
   "execution_count": null,
   "metadata": {},
   "outputs": [],
   "source": []
  }
 ],
 "metadata": {
  "kernelspec": {
   "display_name": "Python 3",
   "language": "python",
   "name": "python3"
  },
  "language_info": {
   "codemirror_mode": {
    "name": "ipython",
    "version": 3
   },
   "file_extension": ".py",
   "mimetype": "text/x-python",
   "name": "python",
   "nbconvert_exporter": "python",
   "pygments_lexer": "ipython3",
   "version": "3.6.10"
  }
 },
 "nbformat": 4,
 "nbformat_minor": 5
}
